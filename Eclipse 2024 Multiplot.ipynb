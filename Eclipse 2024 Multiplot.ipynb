{
 "cells": [
  {
   "cell_type": "markdown",
   "id": "0e2bd3f1-9108-4c8d-b488-f2312641e89e",
   "metadata": {},
   "source": [
    "# Eclipse Analysis: 2024"
   ]
  },
  {
   "cell_type": "code",
   "execution_count": 1,
   "id": "c827d171-8878-469f-897e-1b6799fbdaa1",
   "metadata": {},
   "outputs": [],
   "source": [
    "import datetime\n",
    "import pytz\n",
    "\n",
    "import numpy as np\n",
    "import matplotlib as mpl\n",
    "from matplotlib import pyplot as plt\n",
    "\n",
    "from hamsci_psws import grape1"
   ]
  },
  {
   "cell_type": "code",
   "execution_count": 2,
   "id": "377f285a-dab5-442d-ad06-ce8ce3c11b38",
   "metadata": {},
   "outputs": [],
   "source": [
    "mpl.rcParams['font.size']        = 18\n",
    "mpl.rcParams['font.weight']      = 'bold'\n",
    "mpl.rcParams['axes.labelweight'] = 'bold'\n",
    "mpl.rcParams['axes.titleweight'] = 'bold'\n",
    "mpl.rcParams['axes.grid']        = True\n",
    "mpl.rcParams['grid.linestyle']   = ':'\n",
    "mpl.rcParams['figure.figsize']   = np.array([15, 8])\n",
    "mpl.rcParams['axes.xmargin']     = 0"
   ]
  },
  {
   "cell_type": "code",
   "execution_count": 21,
   "id": "60b4fe2f-5812-4bf1-9bbb-6ad42e42d868",
   "metadata": {},
   "outputs": [
    {
     "data": {
      "text/plain": [
       "[8, 20, 34, 76, 83, 91, 1029]"
      ]
     },
     "execution_count": 21,
     "metadata": {},
     "output_type": "execute_result"
    }
   ],
   "source": [
    "freq            = 10e6 # MHz\n",
    "# sTime           = datetime.datetime(2024,4,8,0,1, tzinfo=pytz.UTC)\n",
    "# eTime           = datetime.datetime(2024,4,8,23,59, tzinfo=pytz.UTC)\n",
    "sTime           = datetime.datetime(2024,4,8,15,0, tzinfo=pytz.UTC)\n",
    "eTime           = datetime.datetime(2024,4,8,23,0, tzinfo=pytz.UTC)\n",
    "\n",
    "inventory       = grape1.DataInventory()\n",
    "inventory.filter(freq=freq,sTime=sTime,eTime=eTime)\n",
    "grape_nodes     = grape1.GrapeNodes(logged_nodes=inventory.logged_nodes)\n",
    "inventory.get_nodes()"
   ]
  },
  {
   "cell_type": "code",
   "execution_count": 22,
   "id": "f04bf58f-d12f-478b-ade0-6324b9b85a59",
   "metadata": {},
   "outputs": [
    {
     "name": "stdout",
     "output_type": "stream",
     "text": [
      "================================================================================\n",
      "Loading Node 8\n"
     ]
    },
    {
     "data": {
      "application/vnd.jupyter.widget-view+json": {
       "model_id": "4bfa038221184f9b92c44d0009080333",
       "version_major": 2,
       "version_minor": 0
      },
      "text/plain": [
       "Loading Raw Data:   0%|                                                                           | 0/1 [00:00…"
      ]
     },
     "metadata": {},
     "output_type": "display_data"
    },
    {
     "name": "stdout",
     "output_type": "stream",
     "text": [
      "Processing data using \"standard\" profile...\n",
      "\n",
      "Computing Solar Local Time on raw data...\n"
     ]
    },
    {
     "data": {
      "application/vnd.jupyter.widget-view+json": {
       "model_id": "16f52cc95209436e88beb8d81d32f7cc",
       "version_major": 2,
       "version_minor": 0
      },
      "text/plain": [
       "  0%|                                                                                         | 0/28125 [00:00…"
      ]
     },
     "metadata": {},
     "output_type": "display_data"
    },
    {
     "name": "stdout",
     "output_type": "stream",
     "text": [
      "  Solar Time Computation Time: 0:00:00.796260\n",
      "Resampling data with 1.0 second cadence...\n",
      "  Resampling Time: 0:00:00.035927\n",
      "Computing Solar Local Time on resampled...\n"
     ]
    },
    {
     "data": {
      "application/vnd.jupyter.widget-view+json": {
       "model_id": "659767d6a3eb45be8e1986e959f34b89",
       "version_major": 2,
       "version_minor": 0
      },
      "text/plain": [
       "  0%|                                                                                         | 0/28800 [00:00…"
      ]
     },
     "metadata": {},
     "output_type": "display_data"
    },
    {
     "name": "stdout",
     "output_type": "stream",
     "text": [
      "  Solar Time Computation Time: 0:00:01.073931\n",
      "dB Conversion\n",
      "  dB Conversion Time: 0:00:00.001971\n",
      "Filtering data with 3.3333 minute low-pass Butterworth filter...\n",
      "  Filtering Time: 0:00:00.015489\n",
      "\n",
      "Total Processing Time: 0:00:01.925145\n",
      "\n",
      "================================================================================\n",
      "Loading Node 20\n"
     ]
    },
    {
     "data": {
      "application/vnd.jupyter.widget-view+json": {
       "model_id": "9dde44b144e74ec7940e38a3be3abbf9",
       "version_major": 2,
       "version_minor": 0
      },
      "text/plain": [
       "Loading Raw Data:   0%|                                                                           | 0/1 [00:00…"
      ]
     },
     "metadata": {},
     "output_type": "display_data"
    },
    {
     "name": "stdout",
     "output_type": "stream",
     "text": [
      "Processing data using \"standard\" profile...\n",
      "\n",
      "Computing Solar Local Time on raw data...\n"
     ]
    },
    {
     "data": {
      "application/vnd.jupyter.widget-view+json": {
       "model_id": "a0bd63fb5b834706926d8b7d279f184a",
       "version_major": 2,
       "version_minor": 0
      },
      "text/plain": [
       "  0%|                                                                                         | 0/28125 [00:00…"
      ]
     },
     "metadata": {},
     "output_type": "display_data"
    },
    {
     "name": "stdout",
     "output_type": "stream",
     "text": [
      "  Solar Time Computation Time: 0:00:00.789747\n",
      "Resampling data with 1.0 second cadence...\n",
      "  Resampling Time: 0:00:00.039663\n",
      "Computing Solar Local Time on resampled...\n"
     ]
    },
    {
     "data": {
      "application/vnd.jupyter.widget-view+json": {
       "model_id": "b2363a6416fb472690090942fb95be59",
       "version_major": 2,
       "version_minor": 0
      },
      "text/plain": [
       "  0%|                                                                                         | 0/28800 [00:00…"
      ]
     },
     "metadata": {},
     "output_type": "display_data"
    },
    {
     "name": "stdout",
     "output_type": "stream",
     "text": [
      "  Solar Time Computation Time: 0:00:01.029829\n",
      "dB Conversion\n",
      "  dB Conversion Time: 0:00:00.002842\n",
      "Filtering data with 3.3333 minute low-pass Butterworth filter...\n",
      "  Filtering Time: 0:00:00.014041\n",
      "\n",
      "Total Processing Time: 0:00:01.876819\n",
      "\n",
      "================================================================================\n",
      "Loading Node 34\n"
     ]
    },
    {
     "data": {
      "application/vnd.jupyter.widget-view+json": {
       "model_id": "2047c4371a87410b977df21e691778ad",
       "version_major": 2,
       "version_minor": 0
      },
      "text/plain": [
       "Loading Raw Data:   0%|                                                                           | 0/1 [00:00…"
      ]
     },
     "metadata": {},
     "output_type": "display_data"
    },
    {
     "name": "stdout",
     "output_type": "stream",
     "text": [
      "Processing data using \"standard\" profile...\n",
      "\n",
      "Computing Solar Local Time on raw data...\n"
     ]
    },
    {
     "data": {
      "application/vnd.jupyter.widget-view+json": {
       "model_id": "772c9aaf799e434eb8e255c335d311b8",
       "version_major": 2,
       "version_minor": 0
      },
      "text/plain": [
       "  0%|                                                                                         | 0/28125 [00:00…"
      ]
     },
     "metadata": {},
     "output_type": "display_data"
    },
    {
     "name": "stdout",
     "output_type": "stream",
     "text": [
      "  Solar Time Computation Time: 0:00:01.010459\n",
      "Resampling data with 1.0 second cadence...\n",
      "  Resampling Time: 0:00:00.033135\n",
      "Computing Solar Local Time on resampled...\n"
     ]
    },
    {
     "data": {
      "application/vnd.jupyter.widget-view+json": {
       "model_id": "f4c651d0dcd24ea19282ca924a1de53a",
       "version_major": 2,
       "version_minor": 0
      },
      "text/plain": [
       "  0%|                                                                                         | 0/28800 [00:00…"
      ]
     },
     "metadata": {},
     "output_type": "display_data"
    },
    {
     "name": "stdout",
     "output_type": "stream",
     "text": [
      "  Solar Time Computation Time: 0:00:00.745155\n",
      "dB Conversion\n",
      "  dB Conversion Time: 0:00:00.002971\n",
      "Filtering data with 3.3333 minute low-pass Butterworth filter...\n",
      "  Filtering Time: 0:00:00.015249\n",
      "\n",
      "Total Processing Time: 0:00:01.807681\n",
      "\n"
     ]
    }
   ],
   "source": [
    "node_nrs        = inventory.get_nodes()\n",
    "gds = []\n",
    "for node in node_nrs:\n",
    "    \n",
    "    # Skip any buggy nodes.\n",
    "    if node in [76, 83, 91, 1029]:\n",
    "        continue\n",
    "    \n",
    "    print('================================================================================')\n",
    "    print('Loading Node {!s}'.format(node))\n",
    "    gd = grape1.Grape1Data(node,freq,sTime,eTime,inventory=inventory,grape_nodes=grape_nodes)\n",
    "    gd.process_data()\n",
    "    gds.append(gd)\n",
    "    print()\n",
    "\n",
    "mp          = grape1.GrapeMultiplot(gds)"
   ]
  },
  {
   "cell_type": "code",
   "execution_count": 23,
   "id": "19bc11c9-90c7-46df-ac79-849e1e03964f",
   "metadata": {},
   "outputs": [
    {
     "data": {
      "image/png": "[encoded data removed]",
      "text/plain": [
       "<Figure size 2200x1600 with 4 Axes>"
      ]
     },
     "metadata": {},
     "output_type": "display_data"
    }
   ],
   "source": [
    "# WWV Coordinates\n",
    "solar_lat   =   40.6683\n",
    "solar_lon   = -105.0384\n",
    "\n",
    "color_dct   = {'ckey':'lon'}\n",
    "xkey        = 'UTC'\n",
    "events      = [{'datetime':datetime.datetime(2024,4,8,19,15),'label':'CLE Totality'}]\n",
    "mp.multiplot('filtered',color_dct=color_dct,xkey=xkey,solar_lat=solar_lat,solar_lon=solar_lon,events=events,plot_GOES=False)\n",
    "plt.show()"
   ]
  }
 ],
 "metadata": {
  "kernelspec": {
   "display_name": "Python 3 (ipykernel)",
   "language": "python",
   "name": "python3"
  },
  "language_info": {
   "codemirror_mode": {
    "name": "ipython",
    "version": 3
   },
   "file_extension": ".py",
   "mimetype": "text/x-python",
   "name": "python",
   "nbconvert_exporter": "python",
   "pygments_lexer": "ipython3",
   "version": "3.9.1"
  },
  "widgets": {
   "application/vnd.jupyter.widget-state+json": {
    "state": {
     "003a65f4f8224f41b3ec74d236a9d358": {
      "model_module": "@jupyter-widgets/base",
      "model_module_version": "2.0.0",
      "model_name": "LayoutModel",
      "state": {
       "display": "inline-flex",
       "flex_flow": "row wrap",
       "width": "100%"
      }
     },
     "004b48b58c1a4d118897f96332cb1a40": {
      "model_module": "@jupyter-widgets/controls",
      "model_module_version": "2.0.0",
      "model_name": "HTMLStyleModel",
      "state": {
       "description_width": "",
       "font_size": null,
       "text_color": null
      }
     },
     "0098abb7fb7e4274bce68efcbf7c9be4": {
      "model_module": "@jupyter-widgets/base",
      "model_module_version": "2.0.0",
      "model_name": "LayoutModel",
      "state": {
       "display": "inline-flex",
       "flex_flow": "row wrap",
       "width": "100%"
      }
     },
     "018537cd845a4fc1996130bea37172e1": {
      "model_module": "@jupyter-widgets/controls",
      "model_module_version": "2.0.0",
      "model_name": "FloatProgressModel",
      "state": {
       "bar_style": "success",
       "layout": "IPY_MODEL_68722b267700498aa6e8c293987ecc44",
       "max": 86280,
       "style": "IPY_MODEL_7f0f014cc4b841c9bf52f558d3ca8328",
       "value": 86280
      }
     },
     "02409eb777c34e09b857170f1868a53d": {
      "model_module": "@jupyter-widgets/controls",
      "model_module_version": "2.0.0",
      "model_name": "HBoxModel",
      "state": {
       "children": [
        "IPY_MODEL_8dd8bd1e83fa4a75bed99baefcaad4cf",
        "IPY_MODEL_51b6bf625201431e9d9cb6ab60b7744f",
        "IPY_MODEL_423219a2bfcc4d668f5b4f8f72563229"
       ],
       "layout": "IPY_MODEL_d724f0bcaadd49e7bf16187df6a1e76b"
      }
     },
     "0265aeb221594708981c6f3e5ee7fb5a": {
      "model_module": "@jupyter-widgets/controls",
      "model_module_version": "2.0.0",
      "model_name": "FloatProgressModel",
      "state": {
       "bar_style": "success",
       "layout": "IPY_MODEL_2a56b5a981164cf0bed50312630caee8",
       "max": 86280,
       "style": "IPY_MODEL_1683cce01f3347a0a781bd2487898526",
       "value": 86280
      }
     },
     "0265e6f5369d4a6f87e08407275b2161": {
      "model_module": "@jupyter-widgets/base",
      "model_module_version": "2.0.0",
      "model_name": "LayoutModel",
      "state": {}
     },
     "02bf55696d9a40b4abced1bfe54b2265": {
      "model_module": "@jupyter-widgets/base",
      "model_module_version": "2.0.0",
      "model_name": "LayoutModel",
      "state": {
       "flex": "2"
      }
     },
     "0301ff94bbda467983db2e95475b4891": {
      "model_module": "@jupyter-widgets/base",
      "model_module_version": "2.0.0",
      "model_name": "LayoutModel",
      "state": {
       "flex": "2"
      }
     },
     "030bdbe4dcb64158a64f32d9ad18ec15": {
      "model_module": "@jupyter-widgets/base",
      "model_module_version": "2.0.0",
      "model_name": "LayoutModel",
      "state": {
       "display": "inline-flex",
       "flex_flow": "row wrap",
       "width": "100%"
      }
     },
     "03898a331d244bac973bc27fec033da8": {
      "model_module": "@jupyter-widgets/base",
      "model_module_version": "2.0.0",
      "model_name": "LayoutModel",
      "state": {}
     },
     "03eee0c57df649c1b840e749d0d9e450": {
      "model_module": "@jupyter-widgets/controls",
      "model_module_version": "2.0.0",
      "model_name": "HTMLStyleModel",
      "state": {
       "description_width": "",
       "font_size": null,
       "text_color": null
      }
     },
     "041bad7dc6b241eeb30ead63e92bb981": {
      "model_module": "@jupyter-widgets/controls",
      "model_module_version": "2.0.0",
      "model_name": "HBoxModel",
      "state": {
       "children": [
        "IPY_MODEL_91bfb39366994d2aba13b09072e225c2",
        "IPY_MODEL_df73a8a870d84845a3a6af943a6bd864",
        "IPY_MODEL_3c90c48759744397aee87d7f3087e8f6"
       ],
       "layout": "IPY_MODEL_38ce1c8661e64c0a9d317f65bb73f84c"
      }
     },
     "04411693d21244bd969417cc186dd610": {
      "model_module": "@jupyter-widgets/controls",
      "model_module_version": "2.0.0",
      "model_name": "HTMLModel",
      "state": {
       "layout": "IPY_MODEL_3c952e97edf44d03b7603f310d85be14",
       "style": "IPY_MODEL_1966580e2a6a4758aac6802383899793",
       "value": "Loading Raw Data: 100%"
      }
     },
     "044ff55c1bd449ee91bdf2401a7ad6fb": {
      "model_module": "@jupyter-widgets/controls",
      "model_module_version": "2.0.0",
      "model_name": "HBoxModel",
      "state": {
       "children": [
        "IPY_MODEL_670468091c2947049bfeb03b4aba7a29",
        "IPY_MODEL_4fcbfe6b45b54f648766510ce36781c8",
        "IPY_MODEL_60b494b4b992464596b04ae3b4ac7509"
       ],
       "layout": "IPY_MODEL_4d602ff1b64d4a8a8c5e3431d0c913e9"
      }
     },
     "04829ad13acb43318e2dc2bdd3f53813": {
      "model_module": "@jupyter-widgets/controls",
      "model_module_version": "2.0.0",
      "model_name": "HTMLModel",
      "state": {
       "layout": "IPY_MODEL_6c0019a754144466ae1615c99c8fe256",
       "style": "IPY_MODEL_059da7b21ed140e586c49e66c720ebff",
       "value": " 1/1 [00:00&lt;00:00,  1.30it/s]"
      }
     },
     "056f332e06954e50828ae1eec500219f": {
      "model_module": "@jupyter-widgets/base",
      "model_module_version": "2.0.0",
      "model_name": "LayoutModel",
      "state": {}
     },
     "059da7b21ed140e586c49e66c720ebff": {
      "model_module": "@jupyter-widgets/controls",
      "model_module_version": "2.0.0",
      "model_name": "HTMLStyleModel",
      "state": {
       "description_width": "",
       "font_size": null,
       "text_color": null
      }
     },
     "0631b7b5619c42ccbb59960e6ac747ac": {
      "model_module": "@jupyter-widgets/base",
      "model_module_version": "2.0.0",
      "model_name": "LayoutModel",
      "state": {}
     },
     "06af25a1f94d40bba59c696908b382a3": {
      "model_module": "@jupyter-widgets/controls",
      "model_module_version": "2.0.0",
      "model_name": "HTMLStyleModel",
      "state": {
       "description_width": "",
       "font_size": null,
       "text_color": null
      }
     },
     "072079b872b141e980c817eb0de87ed7": {
      "model_module": "@jupyter-widgets/controls",
      "model_module_version": "2.0.0",
      "model_name": "FloatProgressModel",
      "state": {
       "bar_style": "success",
       "layout": "IPY_MODEL_57385a1ed748445c9001d08f8159fee1",
       "max": 86280,
       "style": "IPY_MODEL_f404d7e4e7644efab9b165220456b314",
       "value": 86280
      }
     },
     "07a424c217154a95bcdb8fe7a59cdeb5": {
      "model_module": "@jupyter-widgets/base",
      "model_module_version": "2.0.0",
      "model_name": "LayoutModel",
      "state": {}
     },
     "0906fb3ca7554c5da2ef957d96823b51": {
      "model_module": "@jupyter-widgets/base",
      "model_module_version": "2.0.0",
      "model_name": "LayoutModel",
      "state": {
       "flex": "2"
      }
     },
     "093f77ff41b4427da670af107434c680": {
      "model_module": "@jupyter-widgets/controls",
      "model_module_version": "2.0.0",
      "model_name": "HBoxModel",
      "state": {
       "children": [
        "IPY_MODEL_04411693d21244bd969417cc186dd610",
        "IPY_MODEL_355abda186b34ac385e5e0195c9b105a",
        "IPY_MODEL_76a0890c479f4d72a5ca576510757df9"
       ],
       "layout": "IPY_MODEL_dbfcbef9558e4fa8912d72fd94dd841c"
      }
     },
     "09841d3be8dd4b2280346becba1299b1": {
      "model_module": "@jupyter-widgets/controls",
      "model_module_version": "2.0.0",
      "model_name": "HTMLStyleModel",
      "state": {
       "description_width": "",
       "font_size": null,
       "text_color": null
      }
     },
     "099ccd4cca474dc4abf71e06f00c8b92": {
      "model_module": "@jupyter-widgets/controls",
      "model_module_version": "2.0.0",
      "model_name": "ProgressStyleModel",
      "state": {
       "description_width": ""
      }
     },
     "0a199517f85e422fbce292a66a1edc3d": {
      "model_module": "@jupyter-widgets/controls",
      "model_module_version": "2.0.0",
      "model_name": "HTMLStyleModel",
      "state": {
       "description_width": "",
       "font_size": null,
       "text_color": null
      }
     },
     "0a247d837ae74e8380cfabce93d4b2ed": {
      "model_module": "@jupyter-widgets/controls",
      "model_module_version": "2.0.0",
      "model_name": "ProgressStyleModel",
      "state": {
       "description_width": ""
      }
     },
     "0a3400abe48341e6b480c7de646e0a51": {
      "model_module": "@jupyter-widgets/base",
      "model_module_version": "2.0.0",
      "model_name": "LayoutModel",
      "state": {}
     },
     "0aeef6cff30d43debabe958ed74ce2bb": {
      "model_module": "@jupyter-widgets/controls",
      "model_module_version": "2.0.0",
      "model_name": "ProgressStyleModel",
      "state": {
       "description_width": ""
      }
     },
     "0b0d635fd34548e28c082e7b0988a571": {
      "model_module": "@jupyter-widgets/base",
      "model_module_version": "2.0.0",
      "model_name": "LayoutModel",
      "state": {}
     },
     "0b3aff2fffe54064b252e399a3c0c6fa": {
      "model_module": "@jupyter-widgets/controls",
      "model_module_version": "2.0.0",
      "model_name": "HTMLModel",
      "state": {
       "layout": "IPY_MODEL_e387eef15db44ea29f9c2351bf099833",
       "style": "IPY_MODEL_dfa9a4b0d6ce460a879f31f28c4ae4ac",
       "value": " 1/1 [00:00&lt;00:00,  1.72it/s]"
      }
     },
     "0b3f3a70e402432db481d58ff56e5962": {
      "model_module": "@jupyter-widgets/controls",
      "model_module_version": "2.0.0",
      "model_name": "ProgressStyleModel",
      "state": {
       "description_width": ""
      }
     },
     "0bf7353d8a64459b9bc7136e0cecc24c": {
      "model_module": "@jupyter-widgets/base",
      "model_module_version": "2.0.0",
      "model_name": "LayoutModel",
      "state": {
       "display": "inline-flex",
       "flex_flow": "row wrap",
       "width": "100%"
      }
     },
     "0c664ea17ccc4bd599b638d7ed7e3b05": {
      "model_module": "@jupyter-widgets/controls",
      "model_module_version": "2.0.0",
      "model_name": "HTMLModel",
      "state": {
       "layout": "IPY_MODEL_0265e6f5369d4a6f87e08407275b2161",
       "style": "IPY_MODEL_f8f4cf94198545e0b30405ece26bda8d",
       "value": "100%"
      }
     },
     "0cd4bd82921f4fef80004154bd9809ef": {
      "model_module": "@jupyter-widgets/base",
      "model_module_version": "2.0.0",
      "model_name": "LayoutModel",
      "state": {}
     },
     "0d48e162907c4ab7ae357f31b0c188eb": {
      "model_module": "@jupyter-widgets/controls",
      "model_module_version": "2.0.0",
      "model_name": "HTMLStyleModel",
      "state": {
       "description_width": "",
       "font_size": null,
       "text_color": null
      }
     },
     "0e1fac3551bd4201bc7590e8241e1dfc": {
      "model_module": "@jupyter-widgets/controls",
      "model_module_version": "2.0.0",
      "model_name": "HTMLModel",
      "state": {
       "layout": "IPY_MODEL_8ef2f76d19db421690bd899659930c20",
       "style": "IPY_MODEL_74c8933d17c34498bae2aa2d082955d1",
       "value": " 84258/84258 [00:02&lt;00:00, 49553.21it/s]"
      }
     },
     "0e2dcc5b5f3b414ebd99ddc58e8ee758": {
      "model_module": "@jupyter-widgets/controls",
      "model_module_version": "2.0.0",
      "model_name": "FloatProgressModel",
      "state": {
       "bar_style": "success",
       "layout": "IPY_MODEL_715a35e5e8f84e11971192d655ff4eff",
       "max": 84258,
       "style": "IPY_MODEL_3e09b1aa762240318eb2f06a8ead07b1",
       "value": 84258
      }
     },
     "0e519353c5f3483589ef15d8b0818160": {
      "model_module": "@jupyter-widgets/base",
      "model_module_version": "2.0.0",
      "model_name": "LayoutModel",
      "state": {}
     },
     "0e7ee0f56a504362b61c3f5957a4090f": {
      "model_module": "@jupyter-widgets/controls",
      "model_module_version": "2.0.0",
      "model_name": "HBoxModel",
      "state": {
       "children": [
        "IPY_MODEL_1954aa3415fa4b2cb032015d4118e328",
        "IPY_MODEL_be4833797eef4486940f2226eedc52c9",
        "IPY_MODEL_612bd498cf814fa585c3f9544fe6c21e"
       ],
       "layout": "IPY_MODEL_cc465320a2014564938fc5c7933deaf6"
      }
     },
     "0f7673e88495433889738e1f50707569": {
      "model_module": "@jupyter-widgets/controls",
      "model_module_version": "2.0.0",
      "model_name": "HTMLStyleModel",
      "state": {
       "description_width": "",
       "font_size": null,
       "text_color": null
      }
     },
     "11b55e67c3f9408795ca41a16fa42b1f": {
      "model_module": "@jupyter-widgets/base",
      "model_module_version": "2.0.0",
      "model_name": "LayoutModel",
      "state": {
       "flex": "2"
      }
     },
     "11c299c6cf624f109b14ba40ab053b24": {
      "model_module": "@jupyter-widgets/controls",
      "model_module_version": "2.0.0",
      "model_name": "HBoxModel",
      "state": {
       "children": [
        "IPY_MODEL_a7f2be03dbb94e9fb457c9be5a42b811",
        "IPY_MODEL_198b89b9c3524086b504181e8ee957e0",
        "IPY_MODEL_6317c86fd3284cf6b76ca21726819a29"
       ],
       "layout": "IPY_MODEL_5d9d668a5424438887a0568d19021a5f"
      }
     },
     "11d042808b804f2a8037a1bd2802f8b5": {
      "model_module": "@jupyter-widgets/base",
      "model_module_version": "2.0.0",
      "model_name": "LayoutModel",
      "state": {}
     },
     "11d135a573c2422c9964c05fcd8069b9": {
      "model_module": "@jupyter-widgets/controls",
      "model_module_version": "2.0.0",
      "model_name": "HTMLStyleModel",
      "state": {
       "description_width": "",
       "font_size": null,
       "text_color": null
      }
     },
     "126a328a208e482da62f61159fc1d1de": {
      "model_module": "@jupyter-widgets/base",
      "model_module_version": "2.0.0",
      "model_name": "LayoutModel",
      "state": {
       "display": "inline-flex",
       "flex_flow": "row wrap",
       "width": "100%"
      }
     },
     "132e9f6afdbf433e877897f79985c0ab": {
      "model_module": "@jupyter-widgets/base",
      "model_module_version": "2.0.0",
      "model_name": "LayoutModel",
      "state": {}
     },
     "1356bd922a854e7f9dcc40e6e9cd86f3": {
      "model_module": "@jupyter-widgets/controls",
      "model_module_version": "2.0.0",
      "model_name": "HTMLModel",
      "state": {
       "layout": "IPY_MODEL_e4870a5381b946849457b7a01ea2a898",
       "style": "IPY_MODEL_b1c5cb2bb2e44821a097af70a647adfb",
       "value": " 28125/28125 [00:01&lt;00:00, 34179.16it/s]"
      }
     },
     "139c0eba7fbd49cfa2f977ed7b53f979": {
      "model_module": "@jupyter-widgets/base",
      "model_module_version": "2.0.0",
      "model_name": "LayoutModel",
      "state": {
       "display": "inline-flex",
       "flex_flow": "row wrap",
       "width": "100%"
      }
     },
     "13d69f4450084b9a865417a9549d783b": {
      "model_module": "@jupyter-widgets/controls",
      "model_module_version": "2.0.0",
      "model_name": "FloatProgressModel",
      "state": {
       "bar_style": "success",
       "layout": "IPY_MODEL_1749fbdb78424aa5b2e2dcf106e0a456",
       "max": 84258,
       "style": "IPY_MODEL_ad90f995df8640aeb3abd8c7d5d07758",
       "value": 84258
      }
     },
     "1427d1cea3a24fb8a5b85661aa382ce3": {
      "model_module": "@jupyter-widgets/base",
      "model_module_version": "2.0.0",
      "model_name": "LayoutModel",
      "state": {
       "display": "inline-flex",
       "flex_flow": "row wrap",
       "width": "100%"
      }
     },
     "14af400a99874186a313ada0bb5ee8ac": {
      "model_module": "@jupyter-widgets/base",
      "model_module_version": "2.0.0",
      "model_name": "LayoutModel",
      "state": {
       "flex": "2"
      }
     },
     "15fe6f2d16ec42f3ac1521497de54145": {
      "model_module": "@jupyter-widgets/base",
      "model_module_version": "2.0.0",
      "model_name": "LayoutModel",
      "state": {
       "display": "inline-flex",
       "flex_flow": "row wrap",
       "width": "100%"
      }
     },
     "16168d23a385454dafc185f4b482462c": {
      "model_module": "@jupyter-widgets/base",
      "model_module_version": "2.0.0",
      "model_name": "LayoutModel",
      "state": {
       "flex": "2"
      }
     },
     "166a37c2bccf4cadb53de667f1fa82bc": {
      "model_module": "@jupyter-widgets/base",
      "model_module_version": "2.0.0",
      "model_name": "LayoutModel",
      "state": {
       "display": "inline-flex",
       "flex_flow": "row wrap",
       "width": "100%"
      }
     },
     "1683cce01f3347a0a781bd2487898526": {
      "model_module": "@jupyter-widgets/controls",
      "model_module_version": "2.0.0",
      "model_name": "ProgressStyleModel",
      "state": {
       "description_width": ""
      }
     },
     "16d449a380b943af91e67e85bcd436c2": {
      "model_module": "@jupyter-widgets/controls",
      "model_module_version": "2.0.0",
      "model_name": "HTMLModel",
      "state": {
       "layout": "IPY_MODEL_d9c26158eb7f42e1af978b3af44c8524",
       "style": "IPY_MODEL_a54d78debfc6400ca9f8380f4b91730e",
       "value": " 86280/86280 [00:02&lt;00:00, 45665.78it/s]"
      }
     },
     "16d74fe52d5c45ada6db90ec39e9a994": {
      "model_module": "@jupyter-widgets/base",
      "model_module_version": "2.0.0",
      "model_name": "LayoutModel",
      "state": {}
     },
     "16f52cc95209436e88beb8d81d32f7cc": {
      "model_module": "@jupyter-widgets/controls",
      "model_module_version": "2.0.0",
      "model_name": "HBoxModel",
      "state": {
       "children": [
        "IPY_MODEL_8db80e88853e4028bf3433b7c4ef46e0",
        "IPY_MODEL_1b2f65f346b347ec8e13f6f398cbd787",
        "IPY_MODEL_808710ac93a84b3daa6ca0d588b0b213"
       ],
       "layout": "IPY_MODEL_9fdafc48f74345139d357d370d032031"
      }
     },
     "1729205f2ffd4064a3841ef465addb05": {
      "model_module": "@jupyter-widgets/controls",
      "model_module_version": "2.0.0",
      "model_name": "FloatProgressModel",
      "state": {
       "bar_style": "success",
       "layout": "IPY_MODEL_0301ff94bbda467983db2e95475b4891",
       "max": 84258,
       "style": "IPY_MODEL_660772db4db04584a42d83d06d057ba7",
       "value": 84258
      }
     },
     "1749fbdb78424aa5b2e2dcf106e0a456": {
      "model_module": "@jupyter-widgets/base",
      "model_module_version": "2.0.0",
      "model_name": "LayoutModel",
      "state": {
       "flex": "2"
      }
     },
     "1770b4eeccff41468189e446cd17bc31": {
      "model_module": "@jupyter-widgets/controls",
      "model_module_version": "2.0.0",
      "model_name": "HTMLModel",
      "state": {
       "layout": "IPY_MODEL_37fc57f352f94f0d9fbbe5ba1c6ba421",
       "style": "IPY_MODEL_0d48e162907c4ab7ae357f31b0c188eb",
       "value": " 84258/84258 [00:02&lt;00:00, 49983.11it/s]"
      }
     },
     "177692ad94b64da497ee429bf8d39c20": {
      "model_module": "@jupyter-widgets/controls",
      "model_module_version": "2.0.0",
      "model_name": "ProgressStyleModel",
      "state": {
       "description_width": ""
      }
     },
     "18215ef401cf437886eb0d4e65e40244": {
      "model_module": "@jupyter-widgets/controls",
      "model_module_version": "2.0.0",
      "model_name": "HTMLStyleModel",
      "state": {
       "description_width": "",
       "font_size": null,
       "text_color": null
      }
     },
     "185a5289037046d1a83a70edc213c3cf": {
      "model_module": "@jupyter-widgets/controls",
      "model_module_version": "2.0.0",
      "model_name": "ProgressStyleModel",
      "state": {
       "description_width": ""
      }
     },
     "18a3077f417f4de19a5ccc367efb5402": {
      "model_module": "@jupyter-widgets/base",
      "model_module_version": "2.0.0",
      "model_name": "LayoutModel",
      "state": {
       "flex": "2"
      }
     },
     "1954aa3415fa4b2cb032015d4118e328": {
      "model_module": "@jupyter-widgets/controls",
      "model_module_version": "2.0.0",
      "model_name": "HTMLModel",
      "state": {
       "layout": "IPY_MODEL_f0ff3a2d52a84cba95c37fd88cd3c6b3",
       "style": "IPY_MODEL_89e6ad8eb3f0436a8cbd0cb41fc195f1",
       "value": "100%"
      }
     },
     "1966580e2a6a4758aac6802383899793": {
      "model_module": "@jupyter-widgets/controls",
      "model_module_version": "2.0.0",
      "model_name": "HTMLStyleModel",
      "state": {
       "description_width": "",
       "font_size": null,
       "text_color": null
      }
     },
     "198b89b9c3524086b504181e8ee957e0": {
      "model_module": "@jupyter-widgets/controls",
      "model_module_version": "2.0.0",
      "model_name": "FloatProgressModel",
      "state": {
       "bar_style": "success",
       "layout": "IPY_MODEL_3484fe35516447d09424dd86be9a9763",
       "max": 86280,
       "style": "IPY_MODEL_bfc4d90173ce4cd8a4d17c11efa3686b",
       "value": 86280
      }
     },
     "1a7a975dd64e44529453aea595839f8d": {
      "model_module": "@jupyter-widgets/controls",
      "model_module_version": "2.0.0",
      "model_name": "HTMLModel",
      "state": {
       "layout": "IPY_MODEL_1e29b5dd045141e0919a47772b56e2be",
       "style": "IPY_MODEL_06af25a1f94d40bba59c696908b382a3",
       "value": " 84258/84258 [00:02&lt;00:00, 28332.71it/s]"
      }
     },
     "1ac886247cf14f1d86147359fc3627fc": {
      "model_module": "@jupyter-widgets/base",
      "model_module_version": "2.0.0",
      "model_name": "LayoutModel",
      "state": {
       "display": "inline-flex",
       "flex_flow": "row wrap",
       "width": "100%"
      }
     },
     "1b2f65f346b347ec8e13f6f398cbd787": {
      "model_module": "@jupyter-widgets/controls",
      "model_module_version": "2.0.0",
      "model_name": "FloatProgressModel",
      "state": {
       "bar_style": "success",
       "layout": "IPY_MODEL_2c50cf8bacb5446ebc15d836eced8b50",
       "max": 28125,
       "style": "IPY_MODEL_b7f3db9032d14d25849df915100acfd3",
       "value": 28125
      }
     },
     "1b6b005505ce4d58830a1bba96455b73": {
      "model_module": "@jupyter-widgets/controls",
      "model_module_version": "2.0.0",
      "model_name": "HTMLStyleModel",
      "state": {
       "description_width": "",
       "font_size": null,
       "text_color": null
      }
     },
     "1b8668ee79ff474792d6403b8869fc55": {
      "model_module": "@jupyter-widgets/controls",
      "model_module_version": "2.0.0",
      "model_name": "HBoxModel",
      "state": {
       "children": [
        "IPY_MODEL_ac3a6aed44284b43afea9af7557c27b0",
        "IPY_MODEL_345be896f0834004ba8ff86a4f573bff",
        "IPY_MODEL_68b87f91258943c99a11990d65b40913"
       ],
       "layout": "IPY_MODEL_5d9e95eca62c4e18881e142ddc8408fa"
      }
     },
     "1b937cdbc1534ebca59ffbe6b2f90408": {
      "model_module": "@jupyter-widgets/controls",
      "model_module_version": "2.0.0",
      "model_name": "HTMLModel",
      "state": {
       "layout": "IPY_MODEL_e324574827f04a2ebe9f216d1e96d921",
       "style": "IPY_MODEL_da8e1b63d81b4be8a6625eeb7e786cf8",
       "value": "100%"
      }
     },
     "1c5215815aee403ab117d339eae9858f": {
      "model_module": "@jupyter-widgets/controls",
      "model_module_version": "2.0.0",
      "model_name": "HTMLModel",
      "state": {
       "layout": "IPY_MODEL_ed826cb7386943d8a8ad2ee754a61289",
       "style": "IPY_MODEL_81d7ff22531f4ecb9aa3cc7f0866fb76",
       "value": " 1/1 [00:00&lt;00:00,  1.28it/s]"
      }
     },
     "1c649dc4925d4114836b6e7ac723f520": {
      "model_module": "@jupyter-widgets/controls",
      "model_module_version": "2.0.0",
      "model_name": "ProgressStyleModel",
      "state": {
       "description_width": ""
      }
     },
     "1c8cce01f79f4ed7b7d9aabfa8ed1980": {
      "model_module": "@jupyter-widgets/base",
      "model_module_version": "2.0.0",
      "model_name": "LayoutModel",
      "state": {
       "flex": "2"
      }
     },
     "1ce516bbf7b143c7b168e813ada312fa": {
      "model_module": "@jupyter-widgets/base",
      "model_module_version": "2.0.0",
      "model_name": "LayoutModel",
      "state": {}
     },
     "1dfbec9a050d4883bd40cafd12b74c49": {
      "model_module": "@jupyter-widgets/base",
      "model_module_version": "2.0.0",
      "model_name": "LayoutModel",
      "state": {}
     },
     "1e13bd9e3586480695f93196719a5552": {
      "model_module": "@jupyter-widgets/controls",
      "model_module_version": "2.0.0",
      "model_name": "ProgressStyleModel",
      "state": {
       "description_width": ""
      }
     },
     "1e29b5dd045141e0919a47772b56e2be": {
      "model_module": "@jupyter-widgets/base",
      "model_module_version": "2.0.0",
      "model_name": "LayoutModel",
      "state": {}
     },
     "1e40292ce4cd453fbd83a533065ed380": {
      "model_module": "@jupyter-widgets/controls",
      "model_module_version": "2.0.0",
      "model_name": "HTMLStyleModel",
      "state": {
       "description_width": "",
       "font_size": null,
       "text_color": null
      }
     },
     "1e41b1512dd1426ca02731e66190773b": {
      "model_module": "@jupyter-widgets/controls",
      "model_module_version": "2.0.0",
      "model_name": "HTMLStyleModel",
      "state": {
       "description_width": "",
       "font_size": null,
       "text_color": null
      }
     },
     "1e700f01ea2a4bee8a15180c8241e495": {
      "model_module": "@jupyter-widgets/controls",
      "model_module_version": "2.0.0",
      "model_name": "FloatProgressModel",
      "state": {
       "bar_style": "success",
       "layout": "IPY_MODEL_b75928820d2a414d8c57c0ed0342c1ba",
       "max": 84258,
       "style": "IPY_MODEL_f35b29f251284080b202bfff48de9e1c",
       "value": 84258
      }
     },
     "1f27e37ac9fc4ef9b11786ca1840ab51": {
      "model_module": "@jupyter-widgets/controls",
      "model_module_version": "2.0.0",
      "model_name": "HBoxModel",
      "state": {
       "children": [
        "IPY_MODEL_237b290c4d6c409580a4e24e69c48aa6",
        "IPY_MODEL_f0c087f7d08a49fcb761593d180be7eb",
        "IPY_MODEL_c186592a638243f29011fc69ed01b01a"
       ],
       "layout": "IPY_MODEL_32cbb2c8e9794550994c8fa7d4436e5a"
      }
     },
     "1f61f8e97ada43e486266bc2dc13806b": {
      "model_module": "@jupyter-widgets/controls",
      "model_module_version": "2.0.0",
      "model_name": "HTMLStyleModel",
      "state": {
       "description_width": "",
       "font_size": null,
       "text_color": null
      }
     },
     "1fa33352370642588069b147a8ce99e5": {
      "model_module": "@jupyter-widgets/controls",
      "model_module_version": "2.0.0",
      "model_name": "HBoxModel",
      "state": {
       "children": [
        "IPY_MODEL_288763d3c55744848d10f762bec7ed90",
        "IPY_MODEL_a8b85153e41e431faee2984c89b3c69e",
        "IPY_MODEL_1c5215815aee403ab117d339eae9858f"
       ],
       "layout": "IPY_MODEL_6bb7b123320348309dbab9145948eb10"
      }
     },
     "2047c4371a87410b977df21e691778ad": {
      "model_module": "@jupyter-widgets/controls",
      "model_module_version": "2.0.0",
      "model_name": "HBoxModel",
      "state": {
       "children": [
        "IPY_MODEL_e1a65232caf4432c81e5052f478ed0bd",
        "IPY_MODEL_282a72a5327e4d77b7a546e1fb9b04c7",
        "IPY_MODEL_c81423b84a314d5f9d80fba2a84df60d"
       ],
       "layout": "IPY_MODEL_166a37c2bccf4cadb53de667f1fa82bc"
      }
     },
     "2076b3bf52e44de68ce74a224d8b3a8e": {
      "model_module": "@jupyter-widgets/base",
      "model_module_version": "2.0.0",
      "model_name": "LayoutModel",
      "state": {
       "flex": "2"
      }
     },
     "20c2d0ddfe6b466a9c27490bb7162d7e": {
      "model_module": "@jupyter-widgets/base",
      "model_module_version": "2.0.0",
      "model_name": "LayoutModel",
      "state": {
       "flex": "2"
      }
     },
     "20cf0b6415f64f4aaea4a029621f22e7": {
      "model_module": "@jupyter-widgets/controls",
      "model_module_version": "2.0.0",
      "model_name": "HTMLModel",
      "state": {
       "layout": "IPY_MODEL_bdfaefc0c3194499a0cf8ddf619d96f2",
       "style": "IPY_MODEL_ba9ef894becc4606988298cddce68245",
       "value": "100%"
      }
     },
     "20e0896d89ad4d0291e8fecc280d0497": {
      "model_module": "@jupyter-widgets/base",
      "model_module_version": "2.0.0",
      "model_name": "LayoutModel",
      "state": {}
     },
     "2100ce993d0c419b9b97a24c86582f2d": {
      "model_module": "@jupyter-widgets/controls",
      "model_module_version": "2.0.0",
      "model_name": "HBoxModel",
      "state": {
       "children": [
        "IPY_MODEL_f3a9c16272b64316a879466b47fd7134",
        "IPY_MODEL_23e455a8b5834af4a8c662b32a5287ba",
        "IPY_MODEL_7918bb314aa044729b5d128a082032f0"
       ],
       "layout": "IPY_MODEL_1427d1cea3a24fb8a5b85661aa382ce3"
      }
     },
     "216eba43bbc0479aafcc6acd199edece": {
      "model_module": "@jupyter-widgets/base",
      "model_module_version": "2.0.0",
      "model_name": "LayoutModel",
      "state": {
       "flex": "2"
      }
     },
     "2264563708074662aa2c315bf88e881c": {
      "model_module": "@jupyter-widgets/base",
      "model_module_version": "2.0.0",
      "model_name": "LayoutModel",
      "state": {}
     },
     "22f5272a994b43f1935b9a575b93c886": {
      "model_module": "@jupyter-widgets/controls",
      "model_module_version": "2.0.0",
      "model_name": "HTMLStyleModel",
      "state": {
       "description_width": "",
       "font_size": null,
       "text_color": null
      }
     },
     "22f78150cad545f6b18674329c54a5f0": {
      "model_module": "@jupyter-widgets/base",
      "model_module_version": "2.0.0",
      "model_name": "LayoutModel",
      "state": {}
     },
     "232c1e8026a24f4a99b1c0c26a33c427": {
      "model_module": "@jupyter-widgets/controls",
      "model_module_version": "2.0.0",
      "model_name": "HTMLStyleModel",
      "state": {
       "description_width": "",
       "font_size": null,
       "text_color": null
      }
     },
     "237b290c4d6c409580a4e24e69c48aa6": {
      "model_module": "@jupyter-widgets/controls",
      "model_module_version": "2.0.0",
      "model_name": "HTMLModel",
      "state": {
       "layout": "IPY_MODEL_0e519353c5f3483589ef15d8b0818160",
       "style": "IPY_MODEL_b0113fd309644c7d94dadfe7d5530b01",
       "value": "100%"
      }
     },
     "237efe50ac0f4b46811ba071e3630f3e": {
      "model_module": "@jupyter-widgets/base",
      "model_module_version": "2.0.0",
      "model_name": "LayoutModel",
      "state": {
       "display": "inline-flex",
       "flex_flow": "row wrap",
       "width": "100%"
      }
     },
     "23ba9d33f9a9456eba5f05f6ffd748c0": {
      "model_module": "@jupyter-widgets/controls",
      "model_module_version": "2.0.0",
      "model_name": "HBoxModel",
      "state": {
       "children": [
        "IPY_MODEL_662d4912dae44df881aeb85ae4af1e64",
        "IPY_MODEL_a0e9534cb35c433ea8ab02616d55ca28",
        "IPY_MODEL_b3e9d0a98d5a4088893516bd028089fd"
       ],
       "layout": "IPY_MODEL_003a65f4f8224f41b3ec74d236a9d358"
      }
     },
     "23e455a8b5834af4a8c662b32a5287ba": {
      "model_module": "@jupyter-widgets/controls",
      "model_module_version": "2.0.0",
      "model_name": "FloatProgressModel",
      "state": {
       "bar_style": "success",
       "layout": "IPY_MODEL_2076b3bf52e44de68ce74a224d8b3a8e",
       "max": 1,
       "style": "IPY_MODEL_c8bf30e5f78f42959cd6b3d1de898795",
       "value": 1
      }
     },
     "2420e67e098d42a9a0a8b23379affdc5": {
      "model_module": "@jupyter-widgets/controls",
      "model_module_version": "2.0.0",
      "model_name": "FloatProgressModel",
      "state": {
       "bar_style": "success",
       "layout": "IPY_MODEL_242f585a678a498a8e4e961cca2d64c8",
       "max": 86280,
       "style": "IPY_MODEL_0a247d837ae74e8380cfabce93d4b2ed",
       "value": 86280
      }
     },
     "242f585a678a498a8e4e961cca2d64c8": {
      "model_module": "@jupyter-widgets/base",
      "model_module_version": "2.0.0",
      "model_name": "LayoutModel",
      "state": {
       "flex": "2"
      }
     },
     "24e5cd8611ef4285b4b707376e5dd390": {
      "model_module": "@jupyter-widgets/controls",
      "model_module_version": "2.0.0",
      "model_name": "ProgressStyleModel",
      "state": {
       "description_width": ""
      }
     },
     "256dd6f55445451bb23870051fd826f5": {
      "model_module": "@jupyter-widgets/controls",
      "model_module_version": "2.0.0",
      "model_name": "HTMLStyleModel",
      "state": {
       "description_width": "",
       "font_size": null,
       "text_color": null
      }
     },
     "26804c76401a4e01bed4eb388ae96db6": {
      "model_module": "@jupyter-widgets/controls",
      "model_module_version": "2.0.0",
      "model_name": "ProgressStyleModel",
      "state": {
       "description_width": ""
      }
     },
     "26dc3fa61764425b802750ea149ec8ed": {
      "model_module": "@jupyter-widgets/controls",
      "model_module_version": "2.0.0",
      "model_name": "ProgressStyleModel",
      "state": {
       "description_width": ""
      }
     },
     "26f3f87fb32c465fb130ad0035d098ab": {
      "model_module": "@jupyter-widgets/base",
      "model_module_version": "2.0.0",
      "model_name": "LayoutModel",
      "state": {}
     },
     "271dfe636e8941eb9160162ee76c96ec": {
      "model_module": "@jupyter-widgets/base",
      "model_module_version": "2.0.0",
      "model_name": "LayoutModel",
      "state": {}
     },
     "275fe4460b69480db57f2264bcbbdf64": {
      "model_module": "@jupyter-widgets/controls",
      "model_module_version": "2.0.0",
      "model_name": "HTMLModel",
      "state": {
       "layout": "IPY_MODEL_7f058d0ee5cf44edb97c85d413be8f4d",
       "style": "IPY_MODEL_d4274f33609b480daceee7308a0aabcb",
       "value": "100%"
      }
     },
     "27cafc4bfcb446ffa44b59570ea9cc58": {
      "model_module": "@jupyter-widgets/base",
      "model_module_version": "2.0.0",
      "model_name": "LayoutModel",
      "state": {}
     },
     "282a72a5327e4d77b7a546e1fb9b04c7": {
      "model_module": "@jupyter-widgets/controls",
      "model_module_version": "2.0.0",
      "model_name": "FloatProgressModel",
      "state": {
       "bar_style": "success",
       "layout": "IPY_MODEL_6dc06012f8bc4645980622024b53be18",
       "max": 1,
       "style": "IPY_MODEL_2dcb60510c8a4786ae71489add9dcd80",
       "value": 1
      }
     },
     "283932e84fef46f5a2ed1648091260bb": {
      "model_module": "@jupyter-widgets/controls",
      "model_module_version": "2.0.0",
      "model_name": "FloatProgressModel",
      "state": {
       "bar_style": "success",
       "layout": "IPY_MODEL_4d623ae8a4ba47d5a56d62ce90125326",
       "max": 84258,
       "style": "IPY_MODEL_546bf8c5c6f54057ba9432fb07073971",
       "value": 84258
      }
     },
     "287955fa755c45718d06a96a6d2f4fcb": {
      "model_module": "@jupyter-widgets/controls",
      "model_module_version": "2.0.0",
      "model_name": "FloatProgressModel",
      "state": {
       "bar_style": "success",
       "layout": "IPY_MODEL_2a410a495df141cab2e4d1dbf4861ecd",
       "max": 1,
       "style": "IPY_MODEL_a63c7c30c5f54ed68001769b84b90947",
       "value": 1
      }
     },
     "288763d3c55744848d10f762bec7ed90": {
      "model_module": "@jupyter-widgets/controls",
      "model_module_version": "2.0.0",
      "model_name": "HTMLModel",
      "state": {
       "layout": "IPY_MODEL_465a5016ee4644a7a5229f218c3e9657",
       "style": "IPY_MODEL_4a1bb6ced3624d78bcb84d99a4012aaa",
       "value": "Loading Raw Data: 100%"
      }
     },
     "29300537d37d4ee986b921463169a87e": {
      "model_module": "@jupyter-widgets/controls",
      "model_module_version": "2.0.0",
      "model_name": "HTMLStyleModel",
      "state": {
       "description_width": "",
       "font_size": null,
       "text_color": null
      }
     },
     "29a1627419624851a7f01800a202d5be": {
      "model_module": "@jupyter-widgets/base",
      "model_module_version": "2.0.0",
      "model_name": "LayoutModel",
      "state": {
       "display": "inline-flex",
       "flex_flow": "row wrap",
       "width": "100%"
      }
     },
     "2a0d953a7621492db49495d94ce40bd1": {
      "model_module": "@jupyter-widgets/controls",
      "model_module_version": "2.0.0",
      "model_name": "HTMLModel",
      "state": {
       "layout": "IPY_MODEL_8cff74260d754f8b992942c6d76753b2",
       "style": "IPY_MODEL_2d21dd491704478983662c7e83cbbfb0",
       "value": " 1/1 [00:00&lt;00:00,  1.32it/s]"
      }
     },
     "2a410a495df141cab2e4d1dbf4861ecd": {
      "model_module": "@jupyter-widgets/base",
      "model_module_version": "2.0.0",
      "model_name": "LayoutModel",
      "state": {
       "flex": "2"
      }
     },
     "2a56b5a981164cf0bed50312630caee8": {
      "model_module": "@jupyter-widgets/base",
      "model_module_version": "2.0.0",
      "model_name": "LayoutModel",
      "state": {
       "flex": "2"
      }
     },
     "2ac25b71edb04ec382e514f5abb2539b": {
      "model_module": "@jupyter-widgets/controls",
      "model_module_version": "2.0.0",
      "model_name": "HTMLModel",
      "state": {
       "layout": "IPY_MODEL_371928bb80a74687ac68a5fa218a7c5a",
       "style": "IPY_MODEL_11d135a573c2422c9964c05fcd8069b9",
       "value": " 1/1 [00:00&lt;00:00,  1.89it/s]"
      }
     },
     "2afe27515e1248d3b46b49c1e4c2b6fd": {
      "model_module": "@jupyter-widgets/base",
      "model_module_version": "2.0.0",
      "model_name": "LayoutModel",
      "state": {}
     },
     "2b66a18483b94ef78c59bc3f2cbe4d5d": {
      "model_module": "@jupyter-widgets/controls",
      "model_module_version": "2.0.0",
      "model_name": "HTMLStyleModel",
      "state": {
       "description_width": "",
       "font_size": null,
       "text_color": null
      }
     },
     "2c50cf8bacb5446ebc15d836eced8b50": {
      "model_module": "@jupyter-widgets/base",
      "model_module_version": "2.0.0",
      "model_name": "LayoutModel",
      "state": {
       "flex": "2"
      }
     },
     "2d21dd491704478983662c7e83cbbfb0": {
      "model_module": "@jupyter-widgets/controls",
      "model_module_version": "2.0.0",
      "model_name": "HTMLStyleModel",
      "state": {
       "description_width": "",
       "font_size": null,
       "text_color": null
      }
     },
     "2db5e3b5ab6f47cfbee3b9f93f2d9138": {
      "model_module": "@jupyter-widgets/base",
      "model_module_version": "2.0.0",
      "model_name": "LayoutModel",
      "state": {
       "display": "inline-flex",
       "flex_flow": "row wrap",
       "width": "100%"
      }
     },
     "2dcb60510c8a4786ae71489add9dcd80": {
      "model_module": "@jupyter-widgets/controls",
      "model_module_version": "2.0.0",
      "model_name": "ProgressStyleModel",
      "state": {
       "description_width": ""
      }
     },
     "2ddbb2607d6f472ea015a9b1201a133d": {
      "model_module": "@jupyter-widgets/controls",
      "model_module_version": "2.0.0",
      "model_name": "HTMLModel",
      "state": {
       "layout": "IPY_MODEL_936d591282f84967878c475e5623c401",
       "style": "IPY_MODEL_5e212653514343dc8dbaf2e5f83cac58",
       "value": " 1/1 [00:00&lt;00:00,  2.09it/s]"
      }
     },
     "2e4660890b744a18ba6113f6b0d23ab3": {
      "model_module": "@jupyter-widgets/controls",
      "model_module_version": "2.0.0",
      "model_name": "HTMLModel",
      "state": {
       "layout": "IPY_MODEL_d6eecbf2668d4d4cac93e875ccc30593",
       "style": "IPY_MODEL_e2d3893b7219438da251c61c1dde9cfc",
       "value": " 86280/86280 [00:02&lt;00:00, 49199.29it/s]"
      }
     },
     "2e4c78ef238d4390b7f323940ca7c227": {
      "model_module": "@jupyter-widgets/controls",
      "model_module_version": "2.0.0",
      "model_name": "HTMLStyleModel",
      "state": {
       "description_width": "",
       "font_size": null,
       "text_color": null
      }
     },
     "2e863449f7cc401992f9890903aa9486": {
      "model_module": "@jupyter-widgets/base",
      "model_module_version": "2.0.0",
      "model_name": "LayoutModel",
      "state": {
       "display": "inline-flex",
       "flex_flow": "row wrap",
       "width": "100%"
      }
     },
     "30149021188f424a9dc1261ddeaffcdf": {
      "model_module": "@jupyter-widgets/base",
      "model_module_version": "2.0.0",
      "model_name": "LayoutModel",
      "state": {}
     },
     "303338440ba04d78bd11a3ce2a201043": {
      "model_module": "@jupyter-widgets/controls",
      "model_module_version": "2.0.0",
      "model_name": "ProgressStyleModel",
      "state": {
       "description_width": ""
      }
     },
     "310895ca3d1d46b58fe42ec23eea9c32": {
      "model_module": "@jupyter-widgets/base",
      "model_module_version": "2.0.0",
      "model_name": "LayoutModel",
      "state": {}
     },
     "31ce11f52b114e27a86eb6809aa4412e": {
      "model_module": "@jupyter-widgets/base",
      "model_module_version": "2.0.0",
      "model_name": "LayoutModel",
      "state": {}
     },
     "31dc289796b74aab8eedd65f09b6fe04": {
      "model_module": "@jupyter-widgets/controls",
      "model_module_version": "2.0.0",
      "model_name": "FloatProgressModel",
      "state": {
       "bar_style": "success",
       "layout": "IPY_MODEL_8e4adbbf63e94e5490f2360a91e379a3",
       "max": 28800,
       "style": "IPY_MODEL_177692ad94b64da497ee429bf8d39c20",
       "value": 28800
      }
     },
     "32a2ab463a20486a832c1c3b07d508b6": {
      "model_module": "@jupyter-widgets/base",
      "model_module_version": "2.0.0",
      "model_name": "LayoutModel",
      "state": {
       "display": "inline-flex",
       "flex_flow": "row wrap",
       "width": "100%"
      }
     },
     "32cbb2c8e9794550994c8fa7d4436e5a": {
      "model_module": "@jupyter-widgets/base",
      "model_module_version": "2.0.0",
      "model_name": "LayoutModel",
      "state": {
       "display": "inline-flex",
       "flex_flow": "row wrap",
       "width": "100%"
      }
     },
     "33130df7b46441ad8fd48d88c692d48c": {
      "model_module": "@jupyter-widgets/controls",
      "model_module_version": "2.0.0",
      "model_name": "FloatProgressModel",
      "state": {
       "bar_style": "success",
       "layout": "IPY_MODEL_56354f5f74d4480b900f8f85974eeeb3",
       "max": 28125,
       "style": "IPY_MODEL_cd8b849dd0c347b4abcb51f77859b8a8",
       "value": 28125
      }
     },
     "334e6ff2fd914830bf1d3cb6c4be2259": {
      "model_module": "@jupyter-widgets/controls",
      "model_module_version": "2.0.0",
      "model_name": "HTMLModel",
      "state": {
       "layout": "IPY_MODEL_78daf2b46f24495d8fea6cf73510a8b2",
       "style": "IPY_MODEL_c1a7cd2aef314dffb6a7d2d1ac96ee37",
       "value": " 86280/86280 [00:02&lt;00:00, 38980.64it/s]"
      }
     },
     "340492b949cc4605a77d7b53ce2090d6": {
      "model_module": "@jupyter-widgets/base",
      "model_module_version": "2.0.0",
      "model_name": "LayoutModel",
      "state": {}
     },
     "345be896f0834004ba8ff86a4f573bff": {
      "model_module": "@jupyter-widgets/controls",
      "model_module_version": "2.0.0",
      "model_name": "FloatProgressModel",
      "state": {
       "bar_style": "success",
       "layout": "IPY_MODEL_edb8959bc0d04ad795639f9668a5ccbd",
       "max": 84258,
       "style": "IPY_MODEL_671ae99f847d4b2495fd219eafac2625",
       "value": 84258
      }
     },
     "3484fe35516447d09424dd86be9a9763": {
      "model_module": "@jupyter-widgets/base",
      "model_module_version": "2.0.0",
      "model_name": "LayoutModel",
      "state": {
       "flex": "2"
      }
     },
     "355abda186b34ac385e5e0195c9b105a": {
      "model_module": "@jupyter-widgets/controls",
      "model_module_version": "2.0.0",
      "model_name": "FloatProgressModel",
      "state": {
       "bar_style": "success",
       "layout": "IPY_MODEL_ef585b2ca16b4fd68df84f3cada4055e",
       "max": 1,
       "style": "IPY_MODEL_303338440ba04d78bd11a3ce2a201043",
       "value": 1
      }
     },
     "3573919df5f6492c98b597b188b88762": {
      "model_module": "@jupyter-widgets/base",
      "model_module_version": "2.0.0",
      "model_name": "LayoutModel",
      "state": {
       "display": "inline-flex",
       "flex_flow": "row wrap",
       "width": "100%"
      }
     },
     "35bb012570d643afb55091900f6bcbbc": {
      "model_module": "@jupyter-widgets/controls",
      "model_module_version": "2.0.0",
      "model_name": "HBoxModel",
      "state": {
       "children": [
        "IPY_MODEL_638f5260befe495983681db38e47faf4",
        "IPY_MODEL_90ccab22afa945fda1fcf9a906278924",
        "IPY_MODEL_3793aed2f1144d0899ecd3436626f0ca"
       ],
       "layout": "IPY_MODEL_7d78447b25f7441fadfb71d16f3d51e6"
      }
     },
     "371928bb80a74687ac68a5fa218a7c5a": {
      "model_module": "@jupyter-widgets/base",
      "model_module_version": "2.0.0",
      "model_name": "LayoutModel",
      "state": {}
     },
     "3793aed2f1144d0899ecd3436626f0ca": {
      "model_module": "@jupyter-widgets/controls",
      "model_module_version": "2.0.0",
      "model_name": "HTMLModel",
      "state": {
       "layout": "IPY_MODEL_85490d1e7d06452d9df1dc9af03a875b",
       "style": "IPY_MODEL_415ac816d34b407d9191526566d0d233",
       "value": " 1/1 [00:00&lt;00:00,  1.77it/s]"
      }
     },
     "37fc57f352f94f0d9fbbe5ba1c6ba421": {
      "model_module": "@jupyter-widgets/base",
      "model_module_version": "2.0.0",
      "model_name": "LayoutModel",
      "state": {}
     },
     "380518397be0458b8ae1e5b93be33f8b": {
      "model_module": "@jupyter-widgets/controls",
      "model_module_version": "2.0.0",
      "model_name": "HTMLModel",
      "state": {
       "layout": "IPY_MODEL_a7ba96d1e304470fb5086baf67bfb4af",
       "style": "IPY_MODEL_9ac40f6663ca47d59e0361b44be96696",
       "value": " 1/1 [00:00&lt;00:00,  1.29it/s]"
      }
     },
     "3824b4023d994cebb84e14be9d4807da": {
      "model_module": "@jupyter-widgets/controls",
      "model_module_version": "2.0.0",
      "model_name": "ProgressStyleModel",
      "state": {
       "description_width": ""
      }
     },
     "3844849ee52d4a129e148176f804e3f6": {
      "model_module": "@jupyter-widgets/base",
      "model_module_version": "2.0.0",
      "model_name": "LayoutModel",
      "state": {
       "display": "inline-flex",
       "flex_flow": "row wrap",
       "width": "100%"
      }
     },
     "3885144964d54b328838f77a7a60c70e": {
      "model_module": "@jupyter-widgets/controls",
      "model_module_version": "2.0.0",
      "model_name": "HBoxModel",
      "state": {
       "children": [
        "IPY_MODEL_1b937cdbc1534ebca59ffbe6b2f90408",
        "IPY_MODEL_2420e67e098d42a9a0a8b23379affdc5",
        "IPY_MODEL_d08a4db585b340be93220adedcea65ac"
       ],
       "layout": "IPY_MODEL_a869d3bf1c874cae9171fb31bf57ee0a"
      }
     },
     "38b314ddf0ed45b497917abf81a5e6a8": {
      "model_module": "@jupyter-widgets/controls",
      "model_module_version": "2.0.0",
      "model_name": "HBoxModel",
      "state": {
       "children": [
        "IPY_MODEL_d599284842e44af4ba11eb2253bfe198",
        "IPY_MODEL_4c08b13733964b56b06b562ae45158c5",
        "IPY_MODEL_16d449a380b943af91e67e85bcd436c2"
       ],
       "layout": "IPY_MODEL_de81cf4a3a3048708bf9645d007c588d"
      }
     },
     "38ce1c8661e64c0a9d317f65bb73f84c": {
      "model_module": "@jupyter-widgets/base",
      "model_module_version": "2.0.0",
      "model_name": "LayoutModel",
      "state": {
       "display": "inline-flex",
       "flex_flow": "row wrap",
       "width": "100%"
      }
     },
     "3925422cb2374e2ba5cea5291c7eedba": {
      "model_module": "@jupyter-widgets/controls",
      "model_module_version": "2.0.0",
      "model_name": "HTMLStyleModel",
      "state": {
       "description_width": "",
       "font_size": null,
       "text_color": null
      }
     },
     "3934d347c2864eea99d375d344d67c4c": {
      "model_module": "@jupyter-widgets/base",
      "model_module_version": "2.0.0",
      "model_name": "LayoutModel",
      "state": {}
     },
     "39b2b6c28d6b4e0d8a1ee2800b4d6580": {
      "model_module": "@jupyter-widgets/controls",
      "model_module_version": "2.0.0",
      "model_name": "HTMLModel",
      "state": {
       "layout": "IPY_MODEL_a907027a57e441d2b7076ab853c4c16a",
       "style": "IPY_MODEL_cf874a4ed50b4f4abab637726b0fbbee",
       "value": "100%"
      }
     },
     "39d671d9a8ef409da8db01141bdab07c": {
      "model_module": "@jupyter-widgets/controls",
      "model_module_version": "2.0.0",
      "model_name": "HBoxModel",
      "state": {
       "children": [
        "IPY_MODEL_20cf0b6415f64f4aaea4a029621f22e7",
        "IPY_MODEL_283932e84fef46f5a2ed1648091260bb",
        "IPY_MODEL_1a7a975dd64e44529453aea595839f8d"
       ],
       "layout": "IPY_MODEL_a9f4fd1e31294e378ba3bea2a2b796ea"
      }
     },
     "3a4a8e22f05943478b2df55287ab43f2": {
      "model_module": "@jupyter-widgets/base",
      "model_module_version": "2.0.0",
      "model_name": "LayoutModel",
      "state": {}
     },
     "3a7ffadbafb14b74bcd773b91239d5be": {
      "model_module": "@jupyter-widgets/base",
      "model_module_version": "2.0.0",
      "model_name": "LayoutModel",
      "state": {
       "flex": "2"
      }
     },
     "3b179514f9e04ac6a7a0f0b68d8bdb8e": {
      "model_module": "@jupyter-widgets/controls",
      "model_module_version": "2.0.0",
      "model_name": "HBoxModel",
      "state": {
       "children": [
        "IPY_MODEL_f70cebd7fbe54e31baf26377a52c6006",
        "IPY_MODEL_287955fa755c45718d06a96a6d2f4fcb",
        "IPY_MODEL_f143b612ffa5445cb4483128d3efe946"
       ],
       "layout": "IPY_MODEL_3573919df5f6492c98b597b188b88762"
      }
     },
     "3b4c6df85b4a4742ac74170936fb5f93": {
      "model_module": "@jupyter-widgets/controls",
      "model_module_version": "2.0.0",
      "model_name": "HTMLStyleModel",
      "state": {
       "description_width": "",
       "font_size": null,
       "text_color": null
      }
     },
     "3be55f15cf2449478486421c7c8d3a13": {
      "model_module": "@jupyter-widgets/base",
      "model_module_version": "2.0.0",
      "model_name": "LayoutModel",
      "state": {}
     },
     "3bf4273009b84c6ea0447434a33d707b": {
      "model_module": "@jupyter-widgets/base",
      "model_module_version": "2.0.0",
      "model_name": "LayoutModel",
      "state": {
       "flex": "2"
      }
     },
     "3c565042ab9f44a6b3346f1c2026899a": {
      "model_module": "@jupyter-widgets/controls",
      "model_module_version": "2.0.0",
      "model_name": "HTMLModel",
      "state": {
       "layout": "IPY_MODEL_62274d4b67df404dbf093741a539e863",
       "style": "IPY_MODEL_6cf72b2b96b54ce3816599cb3e0e7841",
       "value": "Loading Raw Data: 100%"
      }
     },
     "3c90c48759744397aee87d7f3087e8f6": {
      "model_module": "@jupyter-widgets/controls",
      "model_module_version": "2.0.0",
      "model_name": "HTMLModel",
      "state": {
       "layout": "IPY_MODEL_7dbd7e1160d74172a040f37c82b31016",
       "style": "IPY_MODEL_6aae29ec655545f2a010ce16f1ac758c",
       "value": " 1/1 [00:00&lt;00:00,  1.48it/s]"
      }
     },
     "3c952e97edf44d03b7603f310d85be14": {
      "model_module": "@jupyter-widgets/base",
      "model_module_version": "2.0.0",
      "model_name": "LayoutModel",
      "state": {}
     },
     "3ce7b133292143df9bb6d4e55715b1fc": {
      "model_module": "@jupyter-widgets/base",
      "model_module_version": "2.0.0",
      "model_name": "LayoutModel",
      "state": {}
     },
     "3de56e13f890499289c810d24ef64785": {
      "model_module": "@jupyter-widgets/controls",
      "model_module_version": "2.0.0",
      "model_name": "HTMLModel",
      "state": {
       "layout": "IPY_MODEL_03898a331d244bac973bc27fec033da8",
       "style": "IPY_MODEL_6ceed02926e74e7682a120264ba20287",
       "value": "100%"
      }
     },
     "3e09b1aa762240318eb2f06a8ead07b1": {
      "model_module": "@jupyter-widgets/controls",
      "model_module_version": "2.0.0",
      "model_name": "ProgressStyleModel",
      "state": {
       "description_width": ""
      }
     },
     "3e3ca225a0e447a2853be86cc4e74066": {
      "model_module": "@jupyter-widgets/controls",
      "model_module_version": "2.0.0",
      "model_name": "HTMLModel",
      "state": {
       "layout": "IPY_MODEL_f1615c2d9b2e4228b486935efac488a3",
       "style": "IPY_MODEL_0f7673e88495433889738e1f50707569",
       "value": "100%"
      }
     },
     "3e7463aea90142b5a82ce1721ee65925": {
      "model_module": "@jupyter-widgets/controls",
      "model_module_version": "2.0.0",
      "model_name": "HBoxModel",
      "state": {
       "children": [
        "IPY_MODEL_5c43699a75da443b81ecdccdf7ba21a3",
        "IPY_MODEL_491a58b7e21f42f6b4de445972b61196",
        "IPY_MODEL_c933d17ffede479a8826089485c8f843"
       ],
       "layout": "IPY_MODEL_2db5e3b5ab6f47cfbee3b9f93f2d9138"
      }
     },
     "3f6b774fd0a24250a2b7cea994851d9c": {
      "model_module": "@jupyter-widgets/controls",
      "model_module_version": "2.0.0",
      "model_name": "HTMLStyleModel",
      "state": {
       "description_width": "",
       "font_size": null,
       "text_color": null
      }
     },
     "3fc53d7ac8904c2d902179b73b801f4b": {
      "model_module": "@jupyter-widgets/base",
      "model_module_version": "2.0.0",
      "model_name": "LayoutModel",
      "state": {}
     },
     "401056bee75e4c81a608b49861e1840a": {
      "model_module": "@jupyter-widgets/base",
      "model_module_version": "2.0.0",
      "model_name": "LayoutModel",
      "state": {
       "flex": "2"
      }
     },
     "4021e0a1a38d418499827dfcc96c24f8": {
      "model_module": "@jupyter-widgets/controls",
      "model_module_version": "2.0.0",
      "model_name": "HBoxModel",
      "state": {
       "children": [
        "IPY_MODEL_85188a4b2fed4ceebf796c72b7c00280",
        "IPY_MODEL_1e700f01ea2a4bee8a15180c8241e495",
        "IPY_MODEL_9d76432bf7624b56ac5f0386d439df0f"
       ],
       "layout": "IPY_MODEL_ea762fcc5282415caea8002c37f0c347"
      }
     },
     "415ac816d34b407d9191526566d0d233": {
      "model_module": "@jupyter-widgets/controls",
      "model_module_version": "2.0.0",
      "model_name": "HTMLStyleModel",
      "state": {
       "description_width": "",
       "font_size": null,
       "text_color": null
      }
     },
     "41ffe1adced24049b797652748ab9ec4": {
      "model_module": "@jupyter-widgets/controls",
      "model_module_version": "2.0.0",
      "model_name": "ProgressStyleModel",
      "state": {
       "description_width": ""
      }
     },
     "423219a2bfcc4d668f5b4f8f72563229": {
      "model_module": "@jupyter-widgets/controls",
      "model_module_version": "2.0.0",
      "model_name": "HTMLModel",
      "state": {
       "layout": "IPY_MODEL_eb589d95e7c34162a5e29c559af0c0bc",
       "style": "IPY_MODEL_8ca0ee66d2424074945d93d87214cddd",
       "value": " 84258/84258 [00:02&lt;00:00, 48822.63it/s]"
      }
     },
     "425b396a6e3046b7b8d7c47601a6d073": {
      "model_module": "@jupyter-widgets/controls",
      "model_module_version": "2.0.0",
      "model_name": "FloatProgressModel",
      "state": {
       "bar_style": "success",
       "layout": "IPY_MODEL_216eba43bbc0479aafcc6acd199edece",
       "max": 28800,
       "style": "IPY_MODEL_0aeef6cff30d43debabe958ed74ce2bb",
       "value": 28800
      }
     },
     "425fa5aa63ee4d4e81d211c32330da13": {
      "model_module": "@jupyter-widgets/base",
      "model_module_version": "2.0.0",
      "model_name": "LayoutModel",
      "state": {}
     },
     "4307b559cc8442a2a49df3d08d7388f5": {
      "model_module": "@jupyter-widgets/base",
      "model_module_version": "2.0.0",
      "model_name": "LayoutModel",
      "state": {
       "flex": "2"
      }
     },
     "437a71d6bf2f442a977cbeed3d8831fc": {
      "model_module": "@jupyter-widgets/base",
      "model_module_version": "2.0.0",
      "model_name": "LayoutModel",
      "state": {}
     },
     "43abdc8a323d4181a39b9abb0db9bcec": {
      "model_module": "@jupyter-widgets/controls",
      "model_module_version": "2.0.0",
      "model_name": "HTMLModel",
      "state": {
       "layout": "IPY_MODEL_519af1a70a7e4c7dbd4c5bb455b025c0",
       "style": "IPY_MODEL_941a6c56e683472d88476309388751c2",
       "value": "Loading Raw Data: 100%"
      }
     },
     "43bb1e5eb9044edab47a819c4532376b": {
      "model_module": "@jupyter-widgets/base",
      "model_module_version": "2.0.0",
      "model_name": "LayoutModel",
      "state": {}
     },
     "43c808b209a34a599b17ff238154b2d7": {
      "model_module": "@jupyter-widgets/controls",
      "model_module_version": "2.0.0",
      "model_name": "ProgressStyleModel",
      "state": {
       "description_width": ""
      }
     },
     "43cc6f63186f4944b19691af563b0039": {
      "model_module": "@jupyter-widgets/base",
      "model_module_version": "2.0.0",
      "model_name": "LayoutModel",
      "state": {}
     },
     "446ca967a91446108b3951fed6a81176": {
      "model_module": "@jupyter-widgets/base",
      "model_module_version": "2.0.0",
      "model_name": "LayoutModel",
      "state": {
       "display": "inline-flex",
       "flex_flow": "row wrap",
       "width": "100%"
      }
     },
     "45e0cb4bf73a4bf0af735d7b346fb9b1": {
      "model_module": "@jupyter-widgets/controls",
      "model_module_version": "2.0.0",
      "model_name": "ProgressStyleModel",
      "state": {
       "description_width": ""
      }
     },
     "461f0d7fdb56480db80938283d5725db": {
      "model_module": "@jupyter-widgets/base",
      "model_module_version": "2.0.0",
      "model_name": "LayoutModel",
      "state": {
       "display": "inline-flex",
       "flex_flow": "row wrap",
       "width": "100%"
      }
     },
     "46338575d4964e6bad07cff7ccb15e72": {
      "model_module": "@jupyter-widgets/controls",
      "model_module_version": "2.0.0",
      "model_name": "HTMLModel",
      "state": {
       "layout": "IPY_MODEL_1ce516bbf7b143c7b168e813ada312fa",
       "style": "IPY_MODEL_939f6ad2ba704cbb94c79fcbabd795e5",
       "value": "Loading Raw Data: 100%"
      }
     },
     "465a5016ee4644a7a5229f218c3e9657": {
      "model_module": "@jupyter-widgets/base",
      "model_module_version": "2.0.0",
      "model_name": "LayoutModel",
      "state": {}
     },
     "491a58b7e21f42f6b4de445972b61196": {
      "model_module": "@jupyter-widgets/controls",
      "model_module_version": "2.0.0",
      "model_name": "FloatProgressModel",
      "state": {
       "bar_style": "success",
       "layout": "IPY_MODEL_8bdc4df2c5d54abaa755aa2f55ee4528",
       "max": 86280,
       "style": "IPY_MODEL_71022fd492b4475a8188b495419b1b39",
       "value": 86280
      }
     },
     "4a1bb6ced3624d78bcb84d99a4012aaa": {
      "model_module": "@jupyter-widgets/controls",
      "model_module_version": "2.0.0",
      "model_name": "HTMLStyleModel",
      "state": {
       "description_width": "",
       "font_size": null,
       "text_color": null
      }
     },
     "4a3913e4fa904f68b839daaf119091d9": {
      "model_module": "@jupyter-widgets/base",
      "model_module_version": "2.0.0",
      "model_name": "LayoutModel",
      "state": {
       "display": "inline-flex",
       "flex_flow": "row wrap",
       "width": "100%"
      }
     },
     "4a520cc1125946658c6747902d801f82": {
      "model_module": "@jupyter-widgets/base",
      "model_module_version": "2.0.0",
      "model_name": "LayoutModel",
      "state": {}
     },
     "4b17eab4f2314f5ea72bbf1e4dedfa91": {
      "model_module": "@jupyter-widgets/controls",
      "model_module_version": "2.0.0",
      "model_name": "ProgressStyleModel",
      "state": {
       "description_width": ""
      }
     },
     "4b6c5ca46eb84b8ebb659241ed9f30f7": {
      "model_module": "@jupyter-widgets/controls",
      "model_module_version": "2.0.0",
      "model_name": "HTMLStyleModel",
      "state": {
       "description_width": "",
       "font_size": null,
       "text_color": null
      }
     },
     "4bb3bdb785704412a897053f90a35528": {
      "model_module": "@jupyter-widgets/controls",
      "model_module_version": "2.0.0",
      "model_name": "HBoxModel",
      "state": {
       "children": [
        "IPY_MODEL_39b2b6c28d6b4e0d8a1ee2800b4d6580",
        "IPY_MODEL_54960d2342f245b98880f774637c910d",
        "IPY_MODEL_c91f6d1665d74e0bb422c96b0c7a8ccc"
       ],
       "layout": "IPY_MODEL_54958f6e1eb545f096151357333a26c6"
      }
     },
     "4bcd0f335309435ebba46dc5e6c512bd": {
      "model_module": "@jupyter-widgets/controls",
      "model_module_version": "2.0.0",
      "model_name": "HTMLModel",
      "state": {
       "layout": "IPY_MODEL_f5954f2de9ad4d7698e9c592004d365e",
       "style": "IPY_MODEL_ebb44c69ffa3452bbe56781327517157",
       "value": "100%"
      }
     },
     "4bfa038221184f9b92c44d0009080333": {
      "model_module": "@jupyter-widgets/controls",
      "model_module_version": "2.0.0",
      "model_name": "HBoxModel",
      "state": {
       "children": [
        "IPY_MODEL_81942371ba9b4e9e9d9bb9a6e7d3b7e2",
        "IPY_MODEL_d5b9b5bec8e34d4aba80df762f8f12df",
        "IPY_MODEL_af99edab7bf74102b13b026d71bfb71f"
       ],
       "layout": "IPY_MODEL_237efe50ac0f4b46811ba071e3630f3e"
      }
     },
     "4c08b13733964b56b06b562ae45158c5": {
      "model_module": "@jupyter-widgets/controls",
      "model_module_version": "2.0.0",
      "model_name": "FloatProgressModel",
      "state": {
       "bar_style": "success",
       "layout": "IPY_MODEL_b20be09b21594fabad49f89561039802",
       "max": 86280,
       "style": "IPY_MODEL_5e25d2f6ae284b97a6d5f99f1b5a88a4",
       "value": 86280
      }
     },
     "4ce71c8740e54ca98b95a10fd4523bad": {
      "model_module": "@jupyter-widgets/base",
      "model_module_version": "2.0.0",
      "model_name": "LayoutModel",
      "state": {}
     },
     "4d03291567254fa1a9fb6631040b580f": {
      "model_module": "@jupyter-widgets/controls",
      "model_module_version": "2.0.0",
      "model_name": "HBoxModel",
      "state": {
       "children": [
        "IPY_MODEL_9c5a804cc50340588517f17712e2460d",
        "IPY_MODEL_7110820afb7d4887afec3a21df5f2001",
        "IPY_MODEL_2ac25b71edb04ec382e514f5abb2539b"
       ],
       "layout": "IPY_MODEL_52fa90f4cd7c43d284d1e4b95d9903cc"
      }
     },
     "4d463371888d4a27b23de57b13ddf30a": {
      "model_module": "@jupyter-widgets/controls",
      "model_module_version": "2.0.0",
      "model_name": "HTMLStyleModel",
      "state": {
       "description_width": "",
       "font_size": null,
       "text_color": null
      }
     },
     "4d602ff1b64d4a8a8c5e3431d0c913e9": {
      "model_module": "@jupyter-widgets/base",
      "model_module_version": "2.0.0",
      "model_name": "LayoutModel",
      "state": {
       "display": "inline-flex",
       "flex_flow": "row wrap",
       "width": "100%"
      }
     },
     "4d623ae8a4ba47d5a56d62ce90125326": {
      "model_module": "@jupyter-widgets/base",
      "model_module_version": "2.0.0",
      "model_name": "LayoutModel",
      "state": {
       "flex": "2"
      }
     },
     "4d6dff98538f40f8aeccbc1761a9c3df": {
      "model_module": "@jupyter-widgets/base",
      "model_module_version": "2.0.0",
      "model_name": "LayoutModel",
      "state": {
       "flex": "2"
      }
     },
     "4e198ec9e7a7479d9c0fe43b80c689c5": {
      "model_module": "@jupyter-widgets/controls",
      "model_module_version": "2.0.0",
      "model_name": "HTMLStyleModel",
      "state": {
       "description_width": "",
       "font_size": null,
       "text_color": null
      }
     },
     "4e4fa71cc5944cf1bff95796ecdf8a37": {
      "model_module": "@jupyter-widgets/base",
      "model_module_version": "2.0.0",
      "model_name": "LayoutModel",
      "state": {
       "display": "inline-flex",
       "flex_flow": "row wrap",
       "width": "100%"
      }
     },
     "4eb7033962b5479181f05e2e922450ff": {
      "model_module": "@jupyter-widgets/controls",
      "model_module_version": "2.0.0",
      "model_name": "HTMLStyleModel",
      "state": {
       "description_width": "",
       "font_size": null,
       "text_color": null
      }
     },
     "4fcbfe6b45b54f648766510ce36781c8": {
      "model_module": "@jupyter-widgets/controls",
      "model_module_version": "2.0.0",
      "model_name": "FloatProgressModel",
      "state": {
       "bar_style": "success",
       "layout": "IPY_MODEL_14af400a99874186a313ada0bb5ee8ac",
       "max": 86280,
       "style": "IPY_MODEL_948c762186cc420d90012af182f5f505",
       "value": 86280
      }
     },
     "50177e820a8d42cab7fffbe52bfb0726": {
      "model_module": "@jupyter-widgets/base",
      "model_module_version": "2.0.0",
      "model_name": "LayoutModel",
      "state": {
       "flex": "2"
      }
     },
     "5123ca34b1b64b199215a15f3c5d4950": {
      "model_module": "@jupyter-widgets/controls",
      "model_module_version": "2.0.0",
      "model_name": "HTMLStyleModel",
      "state": {
       "description_width": "",
       "font_size": null,
       "text_color": null
      }
     },
     "519af1a70a7e4c7dbd4c5bb455b025c0": {
      "model_module": "@jupyter-widgets/base",
      "model_module_version": "2.0.0",
      "model_name": "LayoutModel",
      "state": {}
     },
     "51b6bf625201431e9d9cb6ab60b7744f": {
      "model_module": "@jupyter-widgets/controls",
      "model_module_version": "2.0.0",
      "model_name": "FloatProgressModel",
      "state": {
       "bar_style": "success",
       "layout": "IPY_MODEL_85991f90cb0549d0a8aac2162d398da0",
       "max": 84258,
       "style": "IPY_MODEL_0b3f3a70e402432db481d58ff56e5962",
       "value": 84258
      }
     },
     "51ccb912e8f04f5c9ea5f3d01b288c18": {
      "model_module": "@jupyter-widgets/controls",
      "model_module_version": "2.0.0",
      "model_name": "HBoxModel",
      "state": {
       "children": [
        "IPY_MODEL_86e3daeab3db4fd3bedeeb7805cf9c5f",
        "IPY_MODEL_b029ace21647406d907b274ccb7e2307",
        "IPY_MODEL_8cf0dc58aebe4baba75c7db0bfbbea48"
       ],
       "layout": "IPY_MODEL_32a2ab463a20486a832c1c3b07d508b6"
      }
     },
     "521eee43b95947edb3cbf078392579cd": {
      "model_module": "@jupyter-widgets/controls",
      "model_module_version": "2.0.0",
      "model_name": "HTMLModel",
      "state": {
       "layout": "IPY_MODEL_f5dfa3302ad84d99b8addd059ff32b92",
       "style": "IPY_MODEL_6e2af7556fd34472897271abcdd06034",
       "value": " 1/1 [00:00&lt;00:00,  1.92it/s]"
      }
     },
     "525d378dadf246bb96891ed1e2601810": {
      "model_module": "@jupyter-widgets/base",
      "model_module_version": "2.0.0",
      "model_name": "LayoutModel",
      "state": {
       "display": "inline-flex",
       "flex_flow": "row wrap",
       "width": "100%"
      }
     },
     "52a392dd8b124f478c6061fdc209da86": {
      "model_module": "@jupyter-widgets/controls",
      "model_module_version": "2.0.0",
      "model_name": "ProgressStyleModel",
      "state": {
       "description_width": ""
      }
     },
     "52fa90f4cd7c43d284d1e4b95d9903cc": {
      "model_module": "@jupyter-widgets/base",
      "model_module_version": "2.0.0",
      "model_name": "LayoutModel",
      "state": {
       "display": "inline-flex",
       "flex_flow": "row wrap",
       "width": "100%"
      }
     },
     "5338ad7370e344a183a32b724e743205": {
      "model_module": "@jupyter-widgets/controls",
      "model_module_version": "2.0.0",
      "model_name": "HTMLStyleModel",
      "state": {
       "description_width": "",
       "font_size": null,
       "text_color": null
      }
     },
     "53457b407064429181a14feffbd0fb28": {
      "model_module": "@jupyter-widgets/controls",
      "model_module_version": "2.0.0",
      "model_name": "HBoxModel",
      "state": {
       "children": [
        "IPY_MODEL_3c565042ab9f44a6b3346f1c2026899a",
        "IPY_MODEL_d9f17866a10d4b27a56ef28e1890f4d8",
        "IPY_MODEL_2ddbb2607d6f472ea015a9b1201a133d"
       ],
       "layout": "IPY_MODEL_030bdbe4dcb64158a64f32d9ad18ec15"
      }
     },
     "53ba992913874ae2a4a0e96f0f6f6ade": {
      "model_module": "@jupyter-widgets/base",
      "model_module_version": "2.0.0",
      "model_name": "LayoutModel",
      "state": {}
     },
     "540cb8a887844a21bff5a475bdc182b9": {
      "model_module": "@jupyter-widgets/controls",
      "model_module_version": "2.0.0",
      "model_name": "HTMLStyleModel",
      "state": {
       "description_width": "",
       "font_size": null,
       "text_color": null
      }
     },
     "546bf8c5c6f54057ba9432fb07073971": {
      "model_module": "@jupyter-widgets/controls",
      "model_module_version": "2.0.0",
      "model_name": "ProgressStyleModel",
      "state": {
       "description_width": ""
      }
     },
     "54958f6e1eb545f096151357333a26c6": {
      "model_module": "@jupyter-widgets/base",
      "model_module_version": "2.0.0",
      "model_name": "LayoutModel",
      "state": {
       "display": "inline-flex",
       "flex_flow": "row wrap",
       "width": "100%"
      }
     },
     "54960d2342f245b98880f774637c910d": {
      "model_module": "@jupyter-widgets/controls",
      "model_module_version": "2.0.0",
      "model_name": "FloatProgressModel",
      "state": {
       "bar_style": "success",
       "layout": "IPY_MODEL_cbf169776bc74f428195e9292c980665",
       "max": 84258,
       "style": "IPY_MODEL_ec31957e7eb446698f36e738c6dc1dd3",
       "value": 84258
      }
     },
     "54cb204da87f42f7b7413a24a69d0723": {
      "model_module": "@jupyter-widgets/controls",
      "model_module_version": "2.0.0",
      "model_name": "HTMLStyleModel",
      "state": {
       "description_width": "",
       "font_size": null,
       "text_color": null
      }
     },
     "552bbd7ac78d484287bb3b4c4632660b": {
      "model_module": "@jupyter-widgets/controls",
      "model_module_version": "2.0.0",
      "model_name": "HTMLModel",
      "state": {
       "layout": "IPY_MODEL_79844de3c5534ef3bebabf7de6dc5d91",
       "style": "IPY_MODEL_95392c5466e041b8b9000717cf8a74e4",
       "value": " 28125/28125 [00:00&lt;00:00, 40190.87it/s]"
      }
     },
     "5540bdd2cc104603b6cdf1d30d2d4f7f": {
      "model_module": "@jupyter-widgets/controls",
      "model_module_version": "2.0.0",
      "model_name": "HTMLStyleModel",
      "state": {
       "description_width": "",
       "font_size": null,
       "text_color": null
      }
     },
     "55953a80841b42e4bebcfcb69a902a3c": {
      "model_module": "@jupyter-widgets/controls",
      "model_module_version": "2.0.0",
      "model_name": "HTMLModel",
      "state": {
       "layout": "IPY_MODEL_a9a3032fe1b743e1972f73daa1d8f824",
       "style": "IPY_MODEL_1b6b005505ce4d58830a1bba96455b73",
       "value": " 86280/86280 [00:02&lt;00:00, 48191.37it/s]"
      }
     },
     "55ef6302aee94064abdc63a17f628724": {
      "model_module": "@jupyter-widgets/controls",
      "model_module_version": "2.0.0",
      "model_name": "HTMLStyleModel",
      "state": {
       "description_width": "",
       "font_size": null,
       "text_color": null
      }
     },
     "55f0df7b00ae4235aa57b73dbb25f2a7": {
      "model_module": "@jupyter-widgets/controls",
      "model_module_version": "2.0.0",
      "model_name": "HTMLStyleModel",
      "state": {
       "description_width": "",
       "font_size": null,
       "text_color": null
      }
     },
     "56354f5f74d4480b900f8f85974eeeb3": {
      "model_module": "@jupyter-widgets/base",
      "model_module_version": "2.0.0",
      "model_name": "LayoutModel",
      "state": {
       "flex": "2"
      }
     },
     "564c379053924b9d8b1b711d4c141acf": {
      "model_module": "@jupyter-widgets/controls",
      "model_module_version": "2.0.0",
      "model_name": "HBoxModel",
      "state": {
       "children": [
        "IPY_MODEL_fd92be53a68345eba81709fce6de8e59",
        "IPY_MODEL_072079b872b141e980c817eb0de87ed7",
        "IPY_MODEL_f0d2343dda1a44818ff76d3e9759efe3"
       ],
       "layout": "IPY_MODEL_4e4fa71cc5944cf1bff95796ecdf8a37"
      }
     },
     "564e4ac0aa1b4ce9849bfd598788b5fb": {
      "model_module": "@jupyter-widgets/base",
      "model_module_version": "2.0.0",
      "model_name": "LayoutModel",
      "state": {}
     },
     "56b1eb2b8e9c47bfbce9b81f0b4be96b": {
      "model_module": "@jupyter-widgets/controls",
      "model_module_version": "2.0.0",
      "model_name": "HTMLModel",
      "state": {
       "layout": "IPY_MODEL_9267e8144ba8465a8d9671609e4e515a",
       "style": "IPY_MODEL_a3442f9dcd7c4cac80f58d3b7fa57ba0",
       "value": "Loading Raw Data: 100%"
      }
     },
     "56e23f7dd31d4cea8246fb44ac3295fb": {
      "model_module": "@jupyter-widgets/controls",
      "model_module_version": "2.0.0",
      "model_name": "HTMLModel",
      "state": {
       "layout": "IPY_MODEL_a84c15a13ee942e6abe7e434c0c9574e",
       "style": "IPY_MODEL_6636a88620ea4fcca0311df3bfd319ff",
       "value": " 86280/86280 [00:02&lt;00:00, 46570.83it/s]"
      }
     },
     "56e2bc0258fa47a2b4f5a81361a7d33a": {
      "model_module": "@jupyter-widgets/controls",
      "model_module_version": "2.0.0",
      "model_name": "FloatProgressModel",
      "state": {
       "bar_style": "success",
       "layout": "IPY_MODEL_1c8cce01f79f4ed7b7d9aabfa8ed1980",
       "max": 1,
       "style": "IPY_MODEL_ca581232220c4eb086aca18efdf0d740",
       "value": 1
      }
     },
     "57385a1ed748445c9001d08f8159fee1": {
      "model_module": "@jupyter-widgets/base",
      "model_module_version": "2.0.0",
      "model_name": "LayoutModel",
      "state": {
       "flex": "2"
      }
     },
     "574dedecb6b143d6bb81945f3e4b8737": {
      "model_module": "@jupyter-widgets/controls",
      "model_module_version": "2.0.0",
      "model_name": "HTMLModel",
      "state": {
       "layout": "IPY_MODEL_22f78150cad545f6b18674329c54a5f0",
       "style": "IPY_MODEL_29300537d37d4ee986b921463169a87e",
       "value": " 1/1 [00:00&lt;00:00,  1.25it/s]"
      }
     },
     "577ae0106c184b9db82c1b0b3ce58eef": {
      "model_module": "@jupyter-widgets/controls",
      "model_module_version": "2.0.0",
      "model_name": "ProgressStyleModel",
      "state": {
       "description_width": ""
      }
     },
     "579436b81c4544559afca9421d5924db": {
      "model_module": "@jupyter-widgets/controls",
      "model_module_version": "2.0.0",
      "model_name": "HTMLStyleModel",
      "state": {
       "description_width": "",
       "font_size": null,
       "text_color": null
      }
     },
     "57e35a21a0114797bea7a1ec5f260dd5": {
      "model_module": "@jupyter-widgets/controls",
      "model_module_version": "2.0.0",
      "model_name": "FloatProgressModel",
      "state": {
       "bar_style": "success",
       "layout": "IPY_MODEL_f27557719ed94a43b982749b8093bbb3",
       "max": 1,
       "style": "IPY_MODEL_e88292c2c7aa4dea84e56dd4f78da8fc",
       "value": 1
      }
     },
     "58f21547fe4b4a84b61d662d9fbbe877": {
      "model_module": "@jupyter-widgets/base",
      "model_module_version": "2.0.0",
      "model_name": "LayoutModel",
      "state": {
       "display": "inline-flex",
       "flex_flow": "row wrap",
       "width": "100%"
      }
     },
     "59957d22bbc94c5f991faeaeec832926": {
      "model_module": "@jupyter-widgets/base",
      "model_module_version": "2.0.0",
      "model_name": "LayoutModel",
      "state": {}
     },
     "59c46ccafb26473a96a5f1789499e501": {
      "model_module": "@jupyter-widgets/base",
      "model_module_version": "2.0.0",
      "model_name": "LayoutModel",
      "state": {}
     },
     "5a1622aa67054930b6d90655d5114748": {
      "model_module": "@jupyter-widgets/controls",
      "model_module_version": "2.0.0",
      "model_name": "HTMLStyleModel",
      "state": {
       "description_width": "",
       "font_size": null,
       "text_color": null
      }
     },
     "5a56e112ab8d4560bc90a426f74a7c7f": {
      "model_module": "@jupyter-widgets/controls",
      "model_module_version": "2.0.0",
      "model_name": "HBoxModel",
      "state": {
       "children": [
        "IPY_MODEL_e6f04c6bf5d94bbe9956376bf03773be",
        "IPY_MODEL_c8e78d0717504da89a78420cbdd3091d",
        "IPY_MODEL_e1e793387dac4edf8821f4f9f14a67bf"
       ],
       "layout": "IPY_MODEL_79fd8683d639449cabfdc3a8c5f29e59"
      }
     },
     "5ad86aaa75f04e1e9c6f89cf6788ca94": {
      "model_module": "@jupyter-widgets/controls",
      "model_module_version": "2.0.0",
      "model_name": "ProgressStyleModel",
      "state": {
       "description_width": ""
      }
     },
     "5b7e5c1e13ed4b5c8c581e58189fea2e": {
      "model_module": "@jupyter-widgets/base",
      "model_module_version": "2.0.0",
      "model_name": "LayoutModel",
      "state": {}
     },
     "5c0118fa457a44d6be0de39d35031df4": {
      "model_module": "@jupyter-widgets/controls",
      "model_module_version": "2.0.0",
      "model_name": "HBoxModel",
      "state": {
       "children": [
        "IPY_MODEL_e63357320bd840a291ca79f7359628a0",
        "IPY_MODEL_c6f235aa418d4e14ac425ee1dfd42076",
        "IPY_MODEL_574dedecb6b143d6bb81945f3e4b8737"
       ],
       "layout": "IPY_MODEL_f58211b7a1dc4c6c9befa8a45f19f464"
      }
     },
     "5c43699a75da443b81ecdccdf7ba21a3": {
      "model_module": "@jupyter-widgets/controls",
      "model_module_version": "2.0.0",
      "model_name": "HTMLModel",
      "state": {
       "layout": "IPY_MODEL_dcabbd73fba043399f89f6e14def46da",
       "style": "IPY_MODEL_c1eca8fed3014fc09ac3ab6044562349",
       "value": "100%"
      }
     },
     "5c5af35f3a5b48e2861b1c4ec104fadd": {
      "model_module": "@jupyter-widgets/base",
      "model_module_version": "2.0.0",
      "model_name": "LayoutModel",
      "state": {}
     },
     "5cf26fcd1b334a29b65cef174934aa02": {
      "model_module": "@jupyter-widgets/controls",
      "model_module_version": "2.0.0",
      "model_name": "HBoxModel",
      "state": {
       "children": [
        "IPY_MODEL_c9cb262ca3404724bb8f10acefbb83ba",
        "IPY_MODEL_8382daa2dda94f38b42cdfe3ac810236",
        "IPY_MODEL_1770b4eeccff41468189e446cd17bc31"
       ],
       "layout": "IPY_MODEL_ec3b9821270f47d28b85a91a1b6ae32c"
      }
     },
     "5d18dccbc63b4ca9ace9f8bd7a0f3f10": {
      "model_module": "@jupyter-widgets/controls",
      "model_module_version": "2.0.0",
      "model_name": "HBoxModel",
      "state": {
       "children": [
        "IPY_MODEL_ab2a670133f54026807da6ef0e406c3f",
        "IPY_MODEL_ad3da2dd06964e64889992831970d76b",
        "IPY_MODEL_90606aca39de4adcad280cd95712519e"
       ],
       "layout": "IPY_MODEL_0bf7353d8a64459b9bc7136e0cecc24c"
      }
     },
     "5d9d668a5424438887a0568d19021a5f": {
      "model_module": "@jupyter-widgets/base",
      "model_module_version": "2.0.0",
      "model_name": "LayoutModel",
      "state": {
       "display": "inline-flex",
       "flex_flow": "row wrap",
       "width": "100%"
      }
     },
     "5d9e95eca62c4e18881e142ddc8408fa": {
      "model_module": "@jupyter-widgets/base",
      "model_module_version": "2.0.0",
      "model_name": "LayoutModel",
      "state": {
       "display": "inline-flex",
       "flex_flow": "row wrap",
       "width": "100%"
      }
     },
     "5e212653514343dc8dbaf2e5f83cac58": {
      "model_module": "@jupyter-widgets/controls",
      "model_module_version": "2.0.0",
      "model_name": "HTMLStyleModel",
      "state": {
       "description_width": "",
       "font_size": null,
       "text_color": null
      }
     },
     "5e25d2f6ae284b97a6d5f99f1b5a88a4": {
      "model_module": "@jupyter-widgets/controls",
      "model_module_version": "2.0.0",
      "model_name": "ProgressStyleModel",
      "state": {
       "description_width": ""
      }
     },
     "5e8b901fc11843d0a8e8538084115eaf": {
      "model_module": "@jupyter-widgets/controls",
      "model_module_version": "2.0.0",
      "model_name": "HTMLStyleModel",
      "state": {
       "description_width": "",
       "font_size": null,
       "text_color": null
      }
     },
     "5f03702ed82d40b49b9f4404b4a63bb3": {
      "model_module": "@jupyter-widgets/base",
      "model_module_version": "2.0.0",
      "model_name": "LayoutModel",
      "state": {}
     },
     "5f19339ed25449839b66dfeb7dcf9aa4": {
      "model_module": "@jupyter-widgets/base",
      "model_module_version": "2.0.0",
      "model_name": "LayoutModel",
      "state": {}
     },
     "5f282f021bd74c568291e53dced1abe4": {
      "model_module": "@jupyter-widgets/controls",
      "model_module_version": "2.0.0",
      "model_name": "HTMLModel",
      "state": {
       "layout": "IPY_MODEL_c150dd6f1fe243cfb65a3ae06ad9df6a",
       "style": "IPY_MODEL_b1ada01508154095994cf660a09eb61c",
       "value": "100%"
      }
     },
     "607d753e9baa41cd880631e218530acb": {
      "model_module": "@jupyter-widgets/base",
      "model_module_version": "2.0.0",
      "model_name": "LayoutModel",
      "state": {
       "flex": "2"
      }
     },
     "60b494b4b992464596b04ae3b4ac7509": {
      "model_module": "@jupyter-widgets/controls",
      "model_module_version": "2.0.0",
      "model_name": "HTMLModel",
      "state": {
       "layout": "IPY_MODEL_31ce11f52b114e27a86eb6809aa4412e",
       "style": "IPY_MODEL_55ef6302aee94064abdc63a17f628724",
       "value": " 86280/86280 [00:02&lt;00:00, 44596.11it/s]"
      }
     },
     "60ba0622cb91444c877929c1a7e63564": {
      "model_module": "@jupyter-widgets/base",
      "model_module_version": "2.0.0",
      "model_name": "LayoutModel",
      "state": {}
     },
     "60e7104573134c1f9f440eab8fe3c6e8": {
      "model_module": "@jupyter-widgets/controls",
      "model_module_version": "2.0.0",
      "model_name": "HBoxModel",
      "state": {
       "children": [
        "IPY_MODEL_73466a9a1e8346f1b82fd9912a4a4425",
        "IPY_MODEL_56e2bc0258fa47a2b4f5a81361a7d33a",
        "IPY_MODEL_c72b9e01df66412e9b9eff6406b1afdc"
       ],
       "layout": "IPY_MODEL_2e863449f7cc401992f9890903aa9486"
      }
     },
     "612bd498cf814fa585c3f9544fe6c21e": {
      "model_module": "@jupyter-widgets/controls",
      "model_module_version": "2.0.0",
      "model_name": "HTMLModel",
      "state": {
       "layout": "IPY_MODEL_2afe27515e1248d3b46b49c1e4c2b6fd",
       "style": "IPY_MODEL_86ddf6774e2447df85ee50a76b95d4ce",
       "value": " 84258/84258 [00:02&lt;00:00, 47258.30it/s]"
      }
     },
     "61769a27d9a344c9ad33f5c4a87aefff": {
      "model_module": "@jupyter-widgets/base",
      "model_module_version": "2.0.0",
      "model_name": "LayoutModel",
      "state": {}
     },
     "61a494bb46394fbcb53c2f9438666877": {
      "model_module": "@jupyter-widgets/base",
      "model_module_version": "2.0.0",
      "model_name": "LayoutModel",
      "state": {}
     },
     "61f45a957aba4101a4a666b101374caf": {
      "model_module": "@jupyter-widgets/controls",
      "model_module_version": "2.0.0",
      "model_name": "HTMLStyleModel",
      "state": {
       "description_width": "",
       "font_size": null,
       "text_color": null
      }
     },
     "622357abab5040e7a6cec62dfe02cf51": {
      "model_module": "@jupyter-widgets/controls",
      "model_module_version": "2.0.0",
      "model_name": "HTMLModel",
      "state": {
       "layout": "IPY_MODEL_53ba992913874ae2a4a0e96f0f6f6ade",
       "style": "IPY_MODEL_e38588a2ffc54508b56a1dc14d335eb4",
       "value": " 86280/86280 [00:02&lt;00:00, 51141.90it/s]"
      }
     },
     "62274d4b67df404dbf093741a539e863": {
      "model_module": "@jupyter-widgets/base",
      "model_module_version": "2.0.0",
      "model_name": "LayoutModel",
      "state": {}
     },
     "6242d28959b849caaf8bc0f805679f2d": {
      "model_module": "@jupyter-widgets/controls",
      "model_module_version": "2.0.0",
      "model_name": "HBoxModel",
      "state": {
       "children": [
        "IPY_MODEL_dc022bcef9e5478a8fac8c3959c7d2d7",
        "IPY_MODEL_f0109d3c7fdb4cb8abcc8ac3c2ed3d2a",
        "IPY_MODEL_521eee43b95947edb3cbf078392579cd"
       ],
       "layout": "IPY_MODEL_bff57e0fbd3441ea9c3043b41c635d04"
      }
     },
     "6317c86fd3284cf6b76ca21726819a29": {
      "model_module": "@jupyter-widgets/controls",
      "model_module_version": "2.0.0",
      "model_name": "HTMLModel",
      "state": {
       "layout": "IPY_MODEL_59c46ccafb26473a96a5f1789499e501",
       "style": "IPY_MODEL_5e8b901fc11843d0a8e8538084115eaf",
       "value": " 86280/86280 [00:02&lt;00:00, 48258.22it/s]"
      }
     },
     "6376b148a3704eeb8eb72388e24929d8": {
      "model_module": "@jupyter-widgets/controls",
      "model_module_version": "2.0.0",
      "model_name": "HTMLModel",
      "state": {
       "layout": "IPY_MODEL_4a520cc1125946658c6747902d801f82",
       "style": "IPY_MODEL_1f61f8e97ada43e486266bc2dc13806b",
       "value": "100%"
      }
     },
     "638f5260befe495983681db38e47faf4": {
      "model_module": "@jupyter-widgets/controls",
      "model_module_version": "2.0.0",
      "model_name": "HTMLModel",
      "state": {
       "layout": "IPY_MODEL_c63ca0178ccf44e98dc66e184944cd23",
       "style": "IPY_MODEL_f75d36a68664473985a74a2641d7820d",
       "value": "Loading Raw Data: 100%"
      }
     },
     "640c5d59784e445690af81d120bc24d1": {
      "model_module": "@jupyter-widgets/base",
      "model_module_version": "2.0.0",
      "model_name": "LayoutModel",
      "state": {
       "display": "inline-flex",
       "flex_flow": "row wrap",
       "width": "100%"
      }
     },
     "64431ecc4f414dcabb88e38fcb9e2b9a": {
      "model_module": "@jupyter-widgets/controls",
      "model_module_version": "2.0.0",
      "model_name": "ProgressStyleModel",
      "state": {
       "description_width": ""
      }
     },
     "659767d6a3eb45be8e1986e959f34b89": {
      "model_module": "@jupyter-widgets/controls",
      "model_module_version": "2.0.0",
      "model_name": "HBoxModel",
      "state": {
       "children": [
        "IPY_MODEL_a02363b75435413e96b49ef0022d9355",
        "IPY_MODEL_84fdf704dc944cebac6f554948d08349",
        "IPY_MODEL_dcb1b7acfc4a4a44afba4e3ba90f3634"
       ],
       "layout": "IPY_MODEL_3844849ee52d4a129e148176f804e3f6"
      }
     },
     "65e31d833ad04159a29491f6624b9962": {
      "model_module": "@jupyter-widgets/controls",
      "model_module_version": "2.0.0",
      "model_name": "FloatProgressModel",
      "state": {
       "bar_style": "success",
       "layout": "IPY_MODEL_b75d70de5385484e9cf9608711037c03",
       "max": 84258,
       "style": "IPY_MODEL_c594b77e203243ef994cc431a72b5843",
       "value": 84258
      }
     },
     "65fb8b39141a4400945d89b8468028d1": {
      "model_module": "@jupyter-widgets/controls",
      "model_module_version": "2.0.0",
      "model_name": "HBoxModel",
      "state": {
       "children": [
        "IPY_MODEL_275fe4460b69480db57f2264bcbbdf64",
        "IPY_MODEL_acc9b99c80e84e288eb3d1e3223ac439",
        "IPY_MODEL_56e23f7dd31d4cea8246fb44ac3295fb"
       ],
       "layout": "IPY_MODEL_b069848b5deb47b3861e70d7540a4c31"
      }
     },
     "660772db4db04584a42d83d06d057ba7": {
      "model_module": "@jupyter-widgets/controls",
      "model_module_version": "2.0.0",
      "model_name": "ProgressStyleModel",
      "state": {
       "description_width": ""
      }
     },
     "660d41c98f4f434297cc02085dd6a8a6": {
      "model_module": "@jupyter-widgets/controls",
      "model_module_version": "2.0.0",
      "model_name": "HTMLStyleModel",
      "state": {
       "description_width": "",
       "font_size": null,
       "text_color": null
      }
     },
     "662d4912dae44df881aeb85ae4af1e64": {
      "model_module": "@jupyter-widgets/controls",
      "model_module_version": "2.0.0",
      "model_name": "HTMLModel",
      "state": {
       "layout": "IPY_MODEL_a867a288d52141d79ae3b194bb661404",
       "style": "IPY_MODEL_c6ac54cba33c477a80f77c4a90351a35",
       "value": "100%"
      }
     },
     "6636a88620ea4fcca0311df3bfd319ff": {
      "model_module": "@jupyter-widgets/controls",
      "model_module_version": "2.0.0",
      "model_name": "HTMLStyleModel",
      "state": {
       "description_width": "",
       "font_size": null,
       "text_color": null
      }
     },
     "667191d629004dadb2328dc4dae0f301": {
      "model_module": "@jupyter-widgets/base",
      "model_module_version": "2.0.0",
      "model_name": "LayoutModel",
      "state": {
       "flex": "2"
      }
     },
     "6678d2f945af4d48893406a4c5508f4f": {
      "model_module": "@jupyter-widgets/controls",
      "model_module_version": "2.0.0",
      "model_name": "FloatProgressModel",
      "state": {
       "bar_style": "success",
       "layout": "IPY_MODEL_7827eaf6ae3241d0927c5b98a18a2cdf",
       "max": 84258,
       "style": "IPY_MODEL_db5936d6d27b4b16b46c4318d5dcc1d6",
       "value": 84258
      }
     },
     "66cbd1eab2cc4b0c8a170f1da2180489": {
      "model_module": "@jupyter-widgets/controls",
      "model_module_version": "2.0.0",
      "model_name": "HTMLStyleModel",
      "state": {
       "description_width": "",
       "font_size": null,
       "text_color": null
      }
     },
     "66e4d3d507164d218393a13ba53b8ec2": {
      "model_module": "@jupyter-widgets/base",
      "model_module_version": "2.0.0",
      "model_name": "LayoutModel",
      "state": {}
     },
     "670468091c2947049bfeb03b4aba7a29": {
      "model_module": "@jupyter-widgets/controls",
      "model_module_version": "2.0.0",
      "model_name": "HTMLModel",
      "state": {
       "layout": "IPY_MODEL_f15ee4fe40e24a4aa6128bba6b825965",
       "style": "IPY_MODEL_c4964df368594285a9daa8b6ae3da94b",
       "value": "100%"
      }
     },
     "671ae99f847d4b2495fd219eafac2625": {
      "model_module": "@jupyter-widgets/controls",
      "model_module_version": "2.0.0",
      "model_name": "ProgressStyleModel",
      "state": {
       "description_width": ""
      }
     },
     "67625de0b77f41128b5e56ad7db34afb": {
      "model_module": "@jupyter-widgets/controls",
      "model_module_version": "2.0.0",
      "model_name": "ProgressStyleModel",
      "state": {
       "description_width": ""
      }
     },
     "67836d8e395846acb54c18dbe4a2c263": {
      "model_module": "@jupyter-widgets/controls",
      "model_module_version": "2.0.0",
      "model_name": "FloatProgressModel",
      "state": {
       "bar_style": "success",
       "layout": "IPY_MODEL_eef21fc09179477189bf7691b18ae48d",
       "max": 1,
       "style": "IPY_MODEL_bbba758c0ef9452daa4a894478cc5e23",
       "value": 1
      }
     },
     "678b4ad58f7243818ba2a9f93d376a10": {
      "model_module": "@jupyter-widgets/controls",
      "model_module_version": "2.0.0",
      "model_name": "FloatProgressModel",
      "state": {
       "bar_style": "success",
       "layout": "IPY_MODEL_3bf4273009b84c6ea0447434a33d707b",
       "max": 1,
       "style": "IPY_MODEL_a7f215b726724e0e851ef102a88daeb0",
       "value": 1
      }
     },
     "67f966c1b46f4f649d074c38e9210060": {
      "model_module": "@jupyter-widgets/controls",
      "model_module_version": "2.0.0",
      "model_name": "HTMLStyleModel",
      "state": {
       "description_width": "",
       "font_size": null,
       "text_color": null
      }
     },
     "68722b267700498aa6e8c293987ecc44": {
      "model_module": "@jupyter-widgets/base",
      "model_module_version": "2.0.0",
      "model_name": "LayoutModel",
      "state": {
       "flex": "2"
      }
     },
     "68b87f91258943c99a11990d65b40913": {
      "model_module": "@jupyter-widgets/controls",
      "model_module_version": "2.0.0",
      "model_name": "HTMLModel",
      "state": {
       "layout": "IPY_MODEL_9334d80974d34dc093163a00a9bad672",
       "style": "IPY_MODEL_bd411547e542443ca16f7d6d29d8508e",
       "value": " 84258/84258 [00:02&lt;00:00, 45576.73it/s]"
      }
     },
     "68bbff1465fd43fe81b03d6062de4f5b": {
      "model_module": "@jupyter-widgets/base",
      "model_module_version": "2.0.0",
      "model_name": "LayoutModel",
      "state": {}
     },
     "695d205582dc47098c6483e4105e02a8": {
      "model_module": "@jupyter-widgets/base",
      "model_module_version": "2.0.0",
      "model_name": "LayoutModel",
      "state": {}
     },
     "6a0b1aef1092400a9e3727737d37054c": {
      "model_module": "@jupyter-widgets/controls",
      "model_module_version": "2.0.0",
      "model_name": "HBoxModel",
      "state": {
       "children": [
        "IPY_MODEL_f18374f793834e3ebf1133ae355eb266",
        "IPY_MODEL_67836d8e395846acb54c18dbe4a2c263",
        "IPY_MODEL_0b3aff2fffe54064b252e399a3c0c6fa"
       ],
       "layout": "IPY_MODEL_7a3242efcace4f3aba637bf991cc7b26"
      }
     },
     "6aae29ec655545f2a010ce16f1ac758c": {
      "model_module": "@jupyter-widgets/controls",
      "model_module_version": "2.0.0",
      "model_name": "HTMLStyleModel",
      "state": {
       "description_width": "",
       "font_size": null,
       "text_color": null
      }
     },
     "6b502cb6f31049998d83b0fd272b4da4": {
      "model_module": "@jupyter-widgets/base",
      "model_module_version": "2.0.0",
      "model_name": "LayoutModel",
      "state": {
       "display": "inline-flex",
       "flex_flow": "row wrap",
       "width": "100%"
      }
     },
     "6bb7b123320348309dbab9145948eb10": {
      "model_module": "@jupyter-widgets/base",
      "model_module_version": "2.0.0",
      "model_name": "LayoutModel",
      "state": {
       "display": "inline-flex",
       "flex_flow": "row wrap",
       "width": "100%"
      }
     },
     "6c0019a754144466ae1615c99c8fe256": {
      "model_module": "@jupyter-widgets/base",
      "model_module_version": "2.0.0",
      "model_name": "LayoutModel",
      "state": {}
     },
     "6ce94bdd6e5f4c9796eec2babb148ea6": {
      "model_module": "@jupyter-widgets/controls",
      "model_module_version": "2.0.0",
      "model_name": "HTMLModel",
      "state": {
       "layout": "IPY_MODEL_e62549e099464a3ab34f360041204787",
       "style": "IPY_MODEL_97f83a85fbea45e690bb89dc75bfd3ef",
       "value": " 84258/84258 [00:02&lt;00:00, 36782.89it/s]"
      }
     },
     "6ceb8cc7435b4a8396b58f9d9e3ac470": {
      "model_module": "@jupyter-widgets/base",
      "model_module_version": "2.0.0",
      "model_name": "LayoutModel",
      "state": {
       "display": "inline-flex",
       "flex_flow": "row wrap",
       "width": "100%"
      }
     },
     "6ceed02926e74e7682a120264ba20287": {
      "model_module": "@jupyter-widgets/controls",
      "model_module_version": "2.0.0",
      "model_name": "HTMLStyleModel",
      "state": {
       "description_width": "",
       "font_size": null,
       "text_color": null
      }
     },
     "6cf72b2b96b54ce3816599cb3e0e7841": {
      "model_module": "@jupyter-widgets/controls",
      "model_module_version": "2.0.0",
      "model_name": "HTMLStyleModel",
      "state": {
       "description_width": "",
       "font_size": null,
       "text_color": null
      }
     },
     "6dc06012f8bc4645980622024b53be18": {
      "model_module": "@jupyter-widgets/base",
      "model_module_version": "2.0.0",
      "model_name": "LayoutModel",
      "state": {
       "flex": "2"
      }
     },
     "6e2af7556fd34472897271abcdd06034": {
      "model_module": "@jupyter-widgets/controls",
      "model_module_version": "2.0.0",
      "model_name": "HTMLStyleModel",
      "state": {
       "description_width": "",
       "font_size": null,
       "text_color": null
      }
     },
     "6e831c9e3f8547d48353f0796ff45984": {
      "model_module": "@jupyter-widgets/base",
      "model_module_version": "2.0.0",
      "model_name": "LayoutModel",
      "state": {}
     },
     "6e862563358048f4a98d70ebee2455f7": {
      "model_module": "@jupyter-widgets/controls",
      "model_module_version": "2.0.0",
      "model_name": "HTMLModel",
      "state": {
       "layout": "IPY_MODEL_6ef2e8b9ab444623a205e84ee708738a",
       "style": "IPY_MODEL_5338ad7370e344a183a32b724e743205",
       "value": "Loading Raw Data: 100%"
      }
     },
     "6e88760eee8541b586b31431bd72eb76": {
      "model_module": "@jupyter-widgets/base",
      "model_module_version": "2.0.0",
      "model_name": "LayoutModel",
      "state": {}
     },
     "6e92b1c052984cd8ba8071c241f344b6": {
      "model_module": "@jupyter-widgets/controls",
      "model_module_version": "2.0.0",
      "model_name": "FloatProgressModel",
      "state": {
       "bar_style": "success",
       "layout": "IPY_MODEL_f19282865e8041baa45cab9f9572fcc0",
       "max": 86280,
       "style": "IPY_MODEL_64431ecc4f414dcabb88e38fcb9e2b9a",
       "value": 86280
      }
     },
     "6ece80bbde2d4c4b9c7fe42623a4b002": {
      "model_module": "@jupyter-widgets/base",
      "model_module_version": "2.0.0",
      "model_name": "LayoutModel",
      "state": {
       "display": "inline-flex",
       "flex_flow": "row wrap",
       "width": "100%"
      }
     },
     "6ef2e8b9ab444623a205e84ee708738a": {
      "model_module": "@jupyter-widgets/base",
      "model_module_version": "2.0.0",
      "model_name": "LayoutModel",
      "state": {}
     },
     "6fead81a437348fba55f1602c6efcf46": {
      "model_module": "@jupyter-widgets/controls",
      "model_module_version": "2.0.0",
      "model_name": "HTMLStyleModel",
      "state": {
       "description_width": "",
       "font_size": null,
       "text_color": null
      }
     },
     "70be47ed42364a048f4055227169d811": {
      "model_module": "@jupyter-widgets/controls",
      "model_module_version": "2.0.0",
      "model_name": "HTMLStyleModel",
      "state": {
       "description_width": "",
       "font_size": null,
       "text_color": null
      }
     },
     "70d288aa2525488a9f7270ae19afa950": {
      "model_module": "@jupyter-widgets/base",
      "model_module_version": "2.0.0",
      "model_name": "LayoutModel",
      "state": {
       "flex": "2"
      }
     },
     "71022fd492b4475a8188b495419b1b39": {
      "model_module": "@jupyter-widgets/controls",
      "model_module_version": "2.0.0",
      "model_name": "ProgressStyleModel",
      "state": {
       "description_width": ""
      }
     },
     "7110820afb7d4887afec3a21df5f2001": {
      "model_module": "@jupyter-widgets/controls",
      "model_module_version": "2.0.0",
      "model_name": "FloatProgressModel",
      "state": {
       "bar_style": "success",
       "layout": "IPY_MODEL_70d288aa2525488a9f7270ae19afa950",
       "max": 1,
       "style": "IPY_MODEL_cd7adcb05e8946578e04fa7665f8ceca",
       "value": 1
      }
     },
     "713708ad445c4ef1bdd5637022be5913": {
      "model_module": "@jupyter-widgets/controls",
      "model_module_version": "2.0.0",
      "model_name": "HTMLModel",
      "state": {
       "layout": "IPY_MODEL_0a3400abe48341e6b480c7de646e0a51",
       "style": "IPY_MODEL_03eee0c57df649c1b840e749d0d9e450",
       "value": "Loading Raw Data: 100%"
      }
     },
     "715a35e5e8f84e11971192d655ff4eff": {
      "model_module": "@jupyter-widgets/base",
      "model_module_version": "2.0.0",
      "model_name": "LayoutModel",
      "state": {
       "flex": "2"
      }
     },
     "720427d0389744e7a9eb7c73ff068d51": {
      "model_module": "@jupyter-widgets/controls",
      "model_module_version": "2.0.0",
      "model_name": "HTMLModel",
      "state": {
       "layout": "IPY_MODEL_59957d22bbc94c5f991faeaeec832926",
       "style": "IPY_MODEL_2e4c78ef238d4390b7f323940ca7c227",
       "value": "Loading Raw Data: 100%"
      }
     },
     "722bd85f69464014853fb58f1becf87f": {
      "model_module": "@jupyter-widgets/controls",
      "model_module_version": "2.0.0",
      "model_name": "ProgressStyleModel",
      "state": {
       "description_width": ""
      }
     },
     "7298924436984ec78d2c698efd932da4": {
      "model_module": "@jupyter-widgets/base",
      "model_module_version": "2.0.0",
      "model_name": "LayoutModel",
      "state": {}
     },
     "72dd7b89933649c8b726aebff32b392f": {
      "model_module": "@jupyter-widgets/base",
      "model_module_version": "2.0.0",
      "model_name": "LayoutModel",
      "state": {
       "display": "inline-flex",
       "flex_flow": "row wrap",
       "width": "100%"
      }
     },
     "73466a9a1e8346f1b82fd9912a4a4425": {
      "model_module": "@jupyter-widgets/controls",
      "model_module_version": "2.0.0",
      "model_name": "HTMLModel",
      "state": {
       "layout": "IPY_MODEL_f1226496f9fe4c768b9055445948edec",
       "style": "IPY_MODEL_004b48b58c1a4d118897f96332cb1a40",
       "value": "Loading Raw Data: 100%"
      }
     },
     "73582521d9dc4e83a60f309bd14ec524": {
      "model_module": "@jupyter-widgets/controls",
      "model_module_version": "2.0.0",
      "model_name": "HTMLStyleModel",
      "state": {
       "description_width": "",
       "font_size": null,
       "text_color": null
      }
     },
     "738a5fe5e4b84b2cbe42a8b888d75628": {
      "model_module": "@jupyter-widgets/controls",
      "model_module_version": "2.0.0",
      "model_name": "HBoxModel",
      "state": {
       "children": [
        "IPY_MODEL_b14ae7b45d6d4e8b863744a9f2188832",
        "IPY_MODEL_0265aeb221594708981c6f3e5ee7fb5a",
        "IPY_MODEL_622357abab5040e7a6cec62dfe02cf51"
       ],
       "layout": "IPY_MODEL_790083da56f84851a1dfe47f4bb0f562"
      }
     },
     "74c8933d17c34498bae2aa2d082955d1": {
      "model_module": "@jupyter-widgets/controls",
      "model_module_version": "2.0.0",
      "model_name": "HTMLStyleModel",
      "state": {
       "description_width": "",
       "font_size": null,
       "text_color": null
      }
     },
     "75d1a654773c4cadbcf3f6be54683805": {
      "model_module": "@jupyter-widgets/controls",
      "model_module_version": "2.0.0",
      "model_name": "HTMLStyleModel",
      "state": {
       "description_width": "",
       "font_size": null,
       "text_color": null
      }
     },
     "76a0890c479f4d72a5ca576510757df9": {
      "model_module": "@jupyter-widgets/controls",
      "model_module_version": "2.0.0",
      "model_name": "HTMLModel",
      "state": {
       "layout": "IPY_MODEL_d5e1357821f94865805bffe42c5c4001",
       "style": "IPY_MODEL_e7870d8698bc4917a54af39af86529be",
       "value": " 1/1 [00:00&lt;00:00,  1.39it/s]"
      }
     },
     "7707b9d1f18b40ac9d96dc497cfedfe1": {
      "model_module": "@jupyter-widgets/controls",
      "model_module_version": "2.0.0",
      "model_name": "HTMLStyleModel",
      "state": {
       "description_width": "",
       "font_size": null,
       "text_color": null
      }
     },
     "772c9aaf799e434eb8e255c335d311b8": {
      "model_module": "@jupyter-widgets/controls",
      "model_module_version": "2.0.0",
      "model_name": "HBoxModel",
      "state": {
       "children": [
        "IPY_MODEL_6376b148a3704eeb8eb72388e24929d8",
        "IPY_MODEL_33130df7b46441ad8fd48d88c692d48c",
        "IPY_MODEL_1356bd922a854e7f9dcc40e6e9cd86f3"
       ],
       "layout": "IPY_MODEL_7ae8ce61ccc8463c970ed8de653745b8"
      }
     },
     "775e2dbeab224de386f4e7b27f3b47c0": {
      "model_module": "@jupyter-widgets/controls",
      "model_module_version": "2.0.0",
      "model_name": "HTMLStyleModel",
      "state": {
       "description_width": "",
       "font_size": null,
       "text_color": null
      }
     },
     "77c5e9c8d8d341ce8d4bf30f0cf009f6": {
      "model_module": "@jupyter-widgets/base",
      "model_module_version": "2.0.0",
      "model_name": "LayoutModel",
      "state": {}
     },
     "77fc46f23dcf49848a4b6b487570898f": {
      "model_module": "@jupyter-widgets/base",
      "model_module_version": "2.0.0",
      "model_name": "LayoutModel",
      "state": {
       "flex": "2"
      }
     },
     "7825183e74fa4c4ca3e0e85f70345306": {
      "model_module": "@jupyter-widgets/controls",
      "model_module_version": "2.0.0",
      "model_name": "HBoxModel",
      "state": {
       "children": [
        "IPY_MODEL_9fb5725aa65843e88982193b5582e88c",
        "IPY_MODEL_ccdc80408c4c4e37a2a37591d0132737",
        "IPY_MODEL_2a0d953a7621492db49495d94ce40bd1"
       ],
       "layout": "IPY_MODEL_139c0eba7fbd49cfa2f977ed7b53f979"
      }
     },
     "7827eaf6ae3241d0927c5b98a18a2cdf": {
      "model_module": "@jupyter-widgets/base",
      "model_module_version": "2.0.0",
      "model_name": "LayoutModel",
      "state": {
       "flex": "2"
      }
     },
     "78af73852ab44eb0a81fc96db393794e": {
      "model_module": "@jupyter-widgets/base",
      "model_module_version": "2.0.0",
      "model_name": "LayoutModel",
      "state": {
       "display": "inline-flex",
       "flex_flow": "row wrap",
       "width": "100%"
      }
     },
     "78daf2b46f24495d8fea6cf73510a8b2": {
      "model_module": "@jupyter-widgets/base",
      "model_module_version": "2.0.0",
      "model_name": "LayoutModel",
      "state": {}
     },
     "790083da56f84851a1dfe47f4bb0f562": {
      "model_module": "@jupyter-widgets/base",
      "model_module_version": "2.0.0",
      "model_name": "LayoutModel",
      "state": {
       "display": "inline-flex",
       "flex_flow": "row wrap",
       "width": "100%"
      }
     },
     "7918bb314aa044729b5d128a082032f0": {
      "model_module": "@jupyter-widgets/controls",
      "model_module_version": "2.0.0",
      "model_name": "HTMLModel",
      "state": {
       "layout": "IPY_MODEL_6e831c9e3f8547d48353f0796ff45984",
       "style": "IPY_MODEL_75d1a654773c4cadbcf3f6be54683805",
       "value": " 1/1 [00:00&lt;00:00,  1.23it/s]"
      }
     },
     "7927ddc73d2743bb89be648eca5646eb": {
      "model_module": "@jupyter-widgets/controls",
      "model_module_version": "2.0.0",
      "model_name": "HTMLStyleModel",
      "state": {
       "description_width": "",
       "font_size": null,
       "text_color": null
      }
     },
     "79844de3c5534ef3bebabf7de6dc5d91": {
      "model_module": "@jupyter-widgets/base",
      "model_module_version": "2.0.0",
      "model_name": "LayoutModel",
      "state": {}
     },
     "79d1018f21a9434bb522aafb8c669896": {
      "model_module": "@jupyter-widgets/controls",
      "model_module_version": "2.0.0",
      "model_name": "HBoxModel",
      "state": {
       "children": [
        "IPY_MODEL_dd132a0696314bd4b427562f81646eef",
        "IPY_MODEL_0e2dcc5b5f3b414ebd99ddc58e8ee758",
        "IPY_MODEL_0e1fac3551bd4201bc7590e8241e1dfc"
       ],
       "layout": "IPY_MODEL_78af73852ab44eb0a81fc96db393794e"
      }
     },
     "79d929aff71245b499f87e502aaecdd0": {
      "model_module": "@jupyter-widgets/controls",
      "model_module_version": "2.0.0",
      "model_name": "HTMLModel",
      "state": {
       "layout": "IPY_MODEL_77c5e9c8d8d341ce8d4bf30f0cf009f6",
       "style": "IPY_MODEL_54cb204da87f42f7b7413a24a69d0723",
       "value": " 84258/84258 [00:02&lt;00:00, 50509.58it/s]"
      }
     },
     "79fd8683d639449cabfdc3a8c5f29e59": {
      "model_module": "@jupyter-widgets/base",
      "model_module_version": "2.0.0",
      "model_name": "LayoutModel",
      "state": {
       "display": "inline-flex",
       "flex_flow": "row wrap",
       "width": "100%"
      }
     },
     "7a3242efcace4f3aba637bf991cc7b26": {
      "model_module": "@jupyter-widgets/base",
      "model_module_version": "2.0.0",
      "model_name": "LayoutModel",
      "state": {
       "display": "inline-flex",
       "flex_flow": "row wrap",
       "width": "100%"
      }
     },
     "7a35f8b25696414fa8b39082fd6088b1": {
      "model_module": "@jupyter-widgets/base",
      "model_module_version": "2.0.0",
      "model_name": "LayoutModel",
      "state": {
       "display": "inline-flex",
       "flex_flow": "row wrap",
       "width": "100%"
      }
     },
     "7a664e4f4d4d49bd8c1d968c1ed068e8": {
      "model_module": "@jupyter-widgets/controls",
      "model_module_version": "2.0.0",
      "model_name": "HTMLStyleModel",
      "state": {
       "description_width": "",
       "font_size": null,
       "text_color": null
      }
     },
     "7ae8ce61ccc8463c970ed8de653745b8": {
      "model_module": "@jupyter-widgets/base",
      "model_module_version": "2.0.0",
      "model_name": "LayoutModel",
      "state": {
       "display": "inline-flex",
       "flex_flow": "row wrap",
       "width": "100%"
      }
     },
     "7c47e887fd7d419eac5b1c8cab22e031": {
      "model_module": "@jupyter-widgets/controls",
      "model_module_version": "2.0.0",
      "model_name": "HTMLModel",
      "state": {
       "layout": "IPY_MODEL_8c0cd6f329874f07b7e1f4b8f9a34609",
       "style": "IPY_MODEL_92f93ff2c33d43b289c2069b24fc22bc",
       "value": "100%"
      }
     },
     "7c737ea209e94bc8889ef0c7b6deff69": {
      "model_module": "@jupyter-widgets/controls",
      "model_module_version": "2.0.0",
      "model_name": "HTMLModel",
      "state": {
       "layout": "IPY_MODEL_20e0896d89ad4d0291e8fecc280d0497",
       "style": "IPY_MODEL_c7ea0cd3200a4f0c89d43ab69a8e6aad",
       "value": " 28800/28800 [00:00&lt;00:00, 45642.14it/s]"
      }
     },
     "7d78447b25f7441fadfb71d16f3d51e6": {
      "model_module": "@jupyter-widgets/base",
      "model_module_version": "2.0.0",
      "model_name": "LayoutModel",
      "state": {
       "display": "inline-flex",
       "flex_flow": "row wrap",
       "width": "100%"
      }
     },
     "7d796146b301443e8789ef3ca45d227a": {
      "model_module": "@jupyter-widgets/controls",
      "model_module_version": "2.0.0",
      "model_name": "HTMLStyleModel",
      "state": {
       "description_width": "",
       "font_size": null,
       "text_color": null
      }
     },
     "7db6676dc59448749ff9880b453ac657": {
      "model_module": "@jupyter-widgets/controls",
      "model_module_version": "2.0.0",
      "model_name": "HBoxModel",
      "state": {
       "children": [
        "IPY_MODEL_e28ab76116c74dbdbfff50f50d8d349a",
        "IPY_MODEL_e72fbb7f78ac46e7854c91f6a9f6a6af",
        "IPY_MODEL_ab03208cd20a45278a1abdbf9c9146e8"
       ],
       "layout": "IPY_MODEL_0098abb7fb7e4274bce68efcbf7c9be4"
      }
     },
     "7dbd7e1160d74172a040f37c82b31016": {
      "model_module": "@jupyter-widgets/base",
      "model_module_version": "2.0.0",
      "model_name": "LayoutModel",
      "state": {}
     },
     "7de6fbbb80c84e788cc6108331e97cee": {
      "model_module": "@jupyter-widgets/controls",
      "model_module_version": "2.0.0",
      "model_name": "HTMLModel",
      "state": {
       "layout": "IPY_MODEL_16d74fe52d5c45ada6db90ec39e9a994",
       "style": "IPY_MODEL_0a199517f85e422fbce292a66a1edc3d",
       "value": "100%"
      }
     },
     "7e6d2cab35a249b7bdaa4928a340a461": {
      "model_module": "@jupyter-widgets/controls",
      "model_module_version": "2.0.0",
      "model_name": "ProgressStyleModel",
      "state": {
       "description_width": ""
      }
     },
     "7e9cbdb481a643f4b7a101c084264d77": {
      "model_module": "@jupyter-widgets/controls",
      "model_module_version": "2.0.0",
      "model_name": "ProgressStyleModel",
      "state": {
       "description_width": ""
      }
     },
     "7eb58df2450b445bbf0b95929e7aeb26": {
      "model_module": "@jupyter-widgets/base",
      "model_module_version": "2.0.0",
      "model_name": "LayoutModel",
      "state": {}
     },
     "7f058d0ee5cf44edb97c85d413be8f4d": {
      "model_module": "@jupyter-widgets/base",
      "model_module_version": "2.0.0",
      "model_name": "LayoutModel",
      "state": {}
     },
     "7f0f014cc4b841c9bf52f558d3ca8328": {
      "model_module": "@jupyter-widgets/controls",
      "model_module_version": "2.0.0",
      "model_name": "ProgressStyleModel",
      "state": {
       "description_width": ""
      }
     },
     "7f876be8747d440ab5dca7d2b5c92e66": {
      "model_module": "@jupyter-widgets/base",
      "model_module_version": "2.0.0",
      "model_name": "LayoutModel",
      "state": {
       "flex": "2"
      }
     },
     "7f95b44a2e19409190b6f792b6900b39": {
      "model_module": "@jupyter-widgets/controls",
      "model_module_version": "2.0.0",
      "model_name": "HTMLModel",
      "state": {
       "layout": "IPY_MODEL_fdb699996c6e40f69d30822030025091",
       "style": "IPY_MODEL_660d41c98f4f434297cc02085dd6a8a6",
       "value": "Loading Raw Data: 100%"
      }
     },
     "7fd59c63bbc548fc91706ee7aed98856": {
      "model_module": "@jupyter-widgets/controls",
      "model_module_version": "2.0.0",
      "model_name": "FloatProgressModel",
      "state": {
       "bar_style": "success",
       "layout": "IPY_MODEL_3a7ffadbafb14b74bcd773b91239d5be",
       "max": 86280,
       "style": "IPY_MODEL_cb37800063fb44c5ae0220a09c2e2a02",
       "value": 86280
      }
     },
     "808710ac93a84b3daa6ca0d588b0b213": {
      "model_module": "@jupyter-widgets/controls",
      "model_module_version": "2.0.0",
      "model_name": "HTMLModel",
      "state": {
       "layout": "IPY_MODEL_da2bfd1b8e1846569310c8dcf7dc237c",
       "style": "IPY_MODEL_82cf5fe64fad419fa2cc1dc6c0fd6b23",
       "value": " 28125/28125 [00:00&lt;00:00, 40809.95it/s]"
      }
     },
     "81942371ba9b4e9e9d9bb9a6e7d3b7e2": {
      "model_module": "@jupyter-widgets/controls",
      "model_module_version": "2.0.0",
      "model_name": "HTMLModel",
      "state": {
       "layout": "IPY_MODEL_132e9f6afdbf433e877897f79985c0ab",
       "style": "IPY_MODEL_c60fdc7648174d188fdc7a3be3459246",
       "value": "Loading Raw Data: 100%"
      }
     },
     "81d7ff22531f4ecb9aa3cc7f0866fb76": {
      "model_module": "@jupyter-widgets/controls",
      "model_module_version": "2.0.0",
      "model_name": "HTMLStyleModel",
      "state": {
       "description_width": "",
       "font_size": null,
       "text_color": null
      }
     },
     "820bade37fdc4ad294dacacf040f20e4": {
      "model_module": "@jupyter-widgets/controls",
      "model_module_version": "2.0.0",
      "model_name": "HTMLModel",
      "state": {
       "layout": "IPY_MODEL_0631b7b5619c42ccbb59960e6ac747ac",
       "style": "IPY_MODEL_579436b81c4544559afca9421d5924db",
       "value": "100%"
      }
     },
     "82aaf003cd964c5a9be8a14099e34bb4": {
      "model_module": "@jupyter-widgets/base",
      "model_module_version": "2.0.0",
      "model_name": "LayoutModel",
      "state": {
       "display": "inline-flex",
       "flex_flow": "row wrap",
       "width": "100%"
      }
     },
     "82cf5fe64fad419fa2cc1dc6c0fd6b23": {
      "model_module": "@jupyter-widgets/controls",
      "model_module_version": "2.0.0",
      "model_name": "HTMLStyleModel",
      "state": {
       "description_width": "",
       "font_size": null,
       "text_color": null
      }
     },
     "830b99ec97844f69b7561c8449972c0f": {
      "model_module": "@jupyter-widgets/controls",
      "model_module_version": "2.0.0",
      "model_name": "FloatProgressModel",
      "state": {
       "bar_style": "success",
       "layout": "IPY_MODEL_e2066c64eab74732a411a56c10ea4862",
       "max": 1,
       "style": "IPY_MODEL_c33e1829660f4aa9a72bb281ca6eb5cf",
       "value": 1
      }
     },
     "8349ba8cfd08443da666f6ec4658fa7e": {
      "model_module": "@jupyter-widgets/base",
      "model_module_version": "2.0.0",
      "model_name": "LayoutModel",
      "state": {}
     },
     "8382daa2dda94f38b42cdfe3ac810236": {
      "model_module": "@jupyter-widgets/controls",
      "model_module_version": "2.0.0",
      "model_name": "FloatProgressModel",
      "state": {
       "bar_style": "success",
       "layout": "IPY_MODEL_c19be6f29c7d47cc9a59ea74622e6280",
       "max": 84258,
       "style": "IPY_MODEL_7e9cbdb481a643f4b7a101c084264d77",
       "value": 84258
      }
     },
     "84c4a974805d4f678d52899c1d62ca32": {
      "model_module": "@jupyter-widgets/controls",
      "model_module_version": "2.0.0",
      "model_name": "HTMLModel",
      "state": {
       "layout": "IPY_MODEL_695d205582dc47098c6483e4105e02a8",
       "style": "IPY_MODEL_61f45a957aba4101a4a666b101374caf",
       "value": " 1/1 [00:00&lt;00:00,  1.84it/s]"
      }
     },
     "84dcb811f2ca488bb23861fcb5717033": {
      "model_module": "@jupyter-widgets/controls",
      "model_module_version": "2.0.0",
      "model_name": "HBoxModel",
      "state": {
       "children": [
        "IPY_MODEL_7c47e887fd7d419eac5b1c8cab22e031",
        "IPY_MODEL_7fd59c63bbc548fc91706ee7aed98856",
        "IPY_MODEL_9fd08ed8b18d40f5b3fc46200343b2fd"
       ],
       "layout": "IPY_MODEL_9c88c797ce294ed2961d4ab05348a2d3"
      }
     },
     "84fdf704dc944cebac6f554948d08349": {
      "model_module": "@jupyter-widgets/controls",
      "model_module_version": "2.0.0",
      "model_name": "FloatProgressModel",
      "state": {
       "bar_style": "success",
       "layout": "IPY_MODEL_667191d629004dadb2328dc4dae0f301",
       "max": 28800,
       "style": "IPY_MODEL_a7fbacbb724b4badb40625575c878890",
       "value": 28800
      }
     },
     "8500c41a83dc49c3921e7a78d79d1d5d": {
      "model_module": "@jupyter-widgets/controls",
      "model_module_version": "2.0.0",
      "model_name": "ProgressStyleModel",
      "state": {
       "description_width": ""
      }
     },
     "8508cb87a7ea4c84a72a273f52d5fcb2": {
      "model_module": "@jupyter-widgets/controls",
      "model_module_version": "2.0.0",
      "model_name": "HTMLModel",
      "state": {
       "layout": "IPY_MODEL_c5499f1f2afa4f219c86e2fe23262ce0",
       "style": "IPY_MODEL_f64c73069ab848e58bb9e5918f48d990",
       "value": "100%"
      }
     },
     "8511d9e55407420f800edeee93f0ce31": {
      "model_module": "@jupyter-widgets/controls",
      "model_module_version": "2.0.0",
      "model_name": "HTMLStyleModel",
      "state": {
       "description_width": "",
       "font_size": null,
       "text_color": null
      }
     },
     "85188a4b2fed4ceebf796c72b7c00280": {
      "model_module": "@jupyter-widgets/controls",
      "model_module_version": "2.0.0",
      "model_name": "HTMLModel",
      "state": {
       "layout": "IPY_MODEL_60ba0622cb91444c877929c1a7e63564",
       "style": "IPY_MODEL_ecda242378cc482ca29a6834ac65b074",
       "value": "100%"
      }
     },
     "85490d1e7d06452d9df1dc9af03a875b": {
      "model_module": "@jupyter-widgets/base",
      "model_module_version": "2.0.0",
      "model_name": "LayoutModel",
      "state": {}
     },
     "854e69bb20fc4d7eb817c57fe393d4b3": {
      "model_module": "@jupyter-widgets/controls",
      "model_module_version": "2.0.0",
      "model_name": "HTMLStyleModel",
      "state": {
       "description_width": "",
       "font_size": null,
       "text_color": null
      }
     },
     "85745a0481c847c2be8762de42c87f1b": {
      "model_module": "@jupyter-widgets/controls",
      "model_module_version": "2.0.0",
      "model_name": "FloatProgressModel",
      "state": {
       "bar_style": "success",
       "layout": "IPY_MODEL_607d753e9baa41cd880631e218530acb",
       "max": 84258,
       "style": "IPY_MODEL_52a392dd8b124f478c6061fdc209da86",
       "value": 84258
      }
     },
     "85991f90cb0549d0a8aac2162d398da0": {
      "model_module": "@jupyter-widgets/base",
      "model_module_version": "2.0.0",
      "model_name": "LayoutModel",
      "state": {
       "flex": "2"
      }
     },
     "85ae97f1fff84f1fa0229eb353b51f14": {
      "model_module": "@jupyter-widgets/base",
      "model_module_version": "2.0.0",
      "model_name": "LayoutModel",
      "state": {}
     },
     "868f1401bfa04bf09d70172a6bc804d7": {
      "model_module": "@jupyter-widgets/controls",
      "model_module_version": "2.0.0",
      "model_name": "FloatProgressModel",
      "state": {
       "bar_style": "success",
       "layout": "IPY_MODEL_cab5dff589a04c21badf14674c1e36ad",
       "max": 84258,
       "style": "IPY_MODEL_26804c76401a4e01bed4eb388ae96db6",
       "value": 84258
      }
     },
     "86ddf6774e2447df85ee50a76b95d4ce": {
      "model_module": "@jupyter-widgets/controls",
      "model_module_version": "2.0.0",
      "model_name": "HTMLStyleModel",
      "state": {
       "description_width": "",
       "font_size": null,
       "text_color": null
      }
     },
     "86e3daeab3db4fd3bedeeb7805cf9c5f": {
      "model_module": "@jupyter-widgets/controls",
      "model_module_version": "2.0.0",
      "model_name": "HTMLModel",
      "state": {
       "layout": "IPY_MODEL_43cc6f63186f4944b19691af563b0039",
       "style": "IPY_MODEL_3925422cb2374e2ba5cea5291c7eedba",
       "value": "100%"
      }
     },
     "871c368fefc94d348056874718dd67f4": {
      "model_module": "@jupyter-widgets/controls",
      "model_module_version": "2.0.0",
      "model_name": "FloatProgressModel",
      "state": {
       "bar_style": "success",
       "layout": "IPY_MODEL_20c2d0ddfe6b466a9c27490bb7162d7e",
       "max": 1,
       "style": "IPY_MODEL_099ccd4cca474dc4abf71e06f00c8b92",
       "value": 1
      }
     },
     "872f5be622824dc28542cf6fddc2c561": {
      "model_module": "@jupyter-widgets/controls",
      "model_module_version": "2.0.0",
      "model_name": "FloatProgressModel",
      "state": {
       "bar_style": "success",
       "layout": "IPY_MODEL_a8686f07b3c243b49419156039ff2c71",
       "max": 86280,
       "style": "IPY_MODEL_c0f10fd74c9a48b29032d95e49327f32",
       "value": 86280
      }
     },
     "875603f22d7a46f9aced482547d1bdaa": {
      "model_module": "@jupyter-widgets/base",
      "model_module_version": "2.0.0",
      "model_name": "LayoutModel",
      "state": {
       "display": "inline-flex",
       "flex_flow": "row wrap",
       "width": "100%"
      }
     },
     "87673433e9324db4bbf23ab772678c44": {
      "model_module": "@jupyter-widgets/controls",
      "model_module_version": "2.0.0",
      "model_name": "HBoxModel",
      "state": {
       "children": [
        "IPY_MODEL_3e3ca225a0e447a2853be86cc4e74066",
        "IPY_MODEL_13d69f4450084b9a865417a9549d783b",
        "IPY_MODEL_79d929aff71245b499f87e502aaecdd0"
       ],
       "layout": "IPY_MODEL_29a1627419624851a7f01800a202d5be"
      }
     },
     "881e938a4eed4bb58f454617d18642e2": {
      "model_module": "@jupyter-widgets/base",
      "model_module_version": "2.0.0",
      "model_name": "LayoutModel",
      "state": {
       "display": "inline-flex",
       "flex_flow": "row wrap",
       "width": "100%"
      }
     },
     "892be460d336487a87c4b4a8f996da7a": {
      "model_module": "@jupyter-widgets/controls",
      "model_module_version": "2.0.0",
      "model_name": "ProgressStyleModel",
      "state": {
       "description_width": ""
      }
     },
     "89e6ad8eb3f0436a8cbd0cb41fc195f1": {
      "model_module": "@jupyter-widgets/controls",
      "model_module_version": "2.0.0",
      "model_name": "HTMLStyleModel",
      "state": {
       "description_width": "",
       "font_size": null,
       "text_color": null
      }
     },
     "8a1b83275033454593b3494c242105c9": {
      "model_module": "@jupyter-widgets/controls",
      "model_module_version": "2.0.0",
      "model_name": "HTMLModel",
      "state": {
       "layout": "IPY_MODEL_27cafc4bfcb446ffa44b59570ea9cc58",
       "style": "IPY_MODEL_d329192e108d40d68e815bfb35a13e0c",
       "value": " 86280/86280 [00:02&lt;00:00, 48595.23it/s]"
      }
     },
     "8aab7999865a4fee90bcd858f7a35ac0": {
      "model_module": "@jupyter-widgets/controls",
      "model_module_version": "2.0.0",
      "model_name": "HTMLStyleModel",
      "state": {
       "description_width": "",
       "font_size": null,
       "text_color": null
      }
     },
     "8ae9aac40e6d41e087e89dc0f2d20375": {
      "model_module": "@jupyter-widgets/controls",
      "model_module_version": "2.0.0",
      "model_name": "HBoxModel",
      "state": {
       "children": [
        "IPY_MODEL_820bade37fdc4ad294dacacf040f20e4",
        "IPY_MODEL_872f5be622824dc28542cf6fddc2c561",
        "IPY_MODEL_96a63187b0444aa0b2897b7ca8225638"
       ],
       "layout": "IPY_MODEL_b46f2f0e89bf4fe3b4401603e3f0947b"
      }
     },
     "8b329fab75be47639e54476718dc874d": {
      "model_module": "@jupyter-widgets/controls",
      "model_module_version": "2.0.0",
      "model_name": "HTMLStyleModel",
      "state": {
       "description_width": "",
       "font_size": null,
       "text_color": null
      }
     },
     "8b54c94cf5284bb3986f32d0b0a99c36": {
      "model_module": "@jupyter-widgets/controls",
      "model_module_version": "2.0.0",
      "model_name": "FloatProgressModel",
      "state": {
       "bar_style": "success",
       "layout": "IPY_MODEL_11b55e67c3f9408795ca41a16fa42b1f",
       "max": 1,
       "style": "IPY_MODEL_d138109d979c4984be6667b99d61a422",
       "value": 1
      }
     },
     "8bdc4df2c5d54abaa755aa2f55ee4528": {
      "model_module": "@jupyter-widgets/base",
      "model_module_version": "2.0.0",
      "model_name": "LayoutModel",
      "state": {
       "flex": "2"
      }
     },
     "8bf92a7ef39a4888857148286a6af054": {
      "model_module": "@jupyter-widgets/controls",
      "model_module_version": "2.0.0",
      "model_name": "HTMLModel",
      "state": {
       "layout": "IPY_MODEL_437a71d6bf2f442a977cbeed3d8831fc",
       "style": "IPY_MODEL_775e2dbeab224de386f4e7b27f3b47c0",
       "value": " 86280/86280 [00:02&lt;00:00, 37711.12it/s]"
      }
     },
     "8c0cd6f329874f07b7e1f4b8f9a34609": {
      "model_module": "@jupyter-widgets/base",
      "model_module_version": "2.0.0",
      "model_name": "LayoutModel",
      "state": {}
     },
     "8c2cfd0c71174ea39ec9df326a71abbb": {
      "model_module": "@jupyter-widgets/controls",
      "model_module_version": "2.0.0",
      "model_name": "ProgressStyleModel",
      "state": {
       "description_width": ""
      }
     },
     "8ca0ee66d2424074945d93d87214cddd": {
      "model_module": "@jupyter-widgets/controls",
      "model_module_version": "2.0.0",
      "model_name": "HTMLStyleModel",
      "state": {
       "description_width": "",
       "font_size": null,
       "text_color": null
      }
     },
     "8cf0dc58aebe4baba75c7db0bfbbea48": {
      "model_module": "@jupyter-widgets/controls",
      "model_module_version": "2.0.0",
      "model_name": "HTMLModel",
      "state": {
       "layout": "IPY_MODEL_be8487d4567442feb62a4c83b643b322",
       "style": "IPY_MODEL_4b6c5ca46eb84b8ebb659241ed9f30f7",
       "value": " 86280/86280 [00:02&lt;00:00, 47085.41it/s]"
      }
     },
     "8cff74260d754f8b992942c6d76753b2": {
      "model_module": "@jupyter-widgets/base",
      "model_module_version": "2.0.0",
      "model_name": "LayoutModel",
      "state": {}
     },
     "8db80e88853e4028bf3433b7c4ef46e0": {
      "model_module": "@jupyter-widgets/controls",
      "model_module_version": "2.0.0",
      "model_name": "HTMLModel",
      "state": {
       "layout": "IPY_MODEL_056f332e06954e50828ae1eec500219f",
       "style": "IPY_MODEL_73582521d9dc4e83a60f309bd14ec524",
       "value": "100%"
      }
     },
     "8dd8bd1e83fa4a75bed99baefcaad4cf": {
      "model_module": "@jupyter-widgets/controls",
      "model_module_version": "2.0.0",
      "model_name": "HTMLModel",
      "state": {
       "layout": "IPY_MODEL_0b0d635fd34548e28c082e7b0988a571",
       "style": "IPY_MODEL_a57f894c1b3a42c7a32850941b39060d",
       "value": "100%"
      }
     },
     "8e333c9e18ce4778a8591ebaf2f738e8": {
      "model_module": "@jupyter-widgets/base",
      "model_module_version": "2.0.0",
      "model_name": "LayoutModel",
      "state": {
       "flex": "2"
      }
     },
     "8e4adbbf63e94e5490f2360a91e379a3": {
      "model_module": "@jupyter-widgets/base",
      "model_module_version": "2.0.0",
      "model_name": "LayoutModel",
      "state": {
       "flex": "2"
      }
     },
     "8edfaf32c7fa474c96b71a02de4700b9": {
      "model_module": "@jupyter-widgets/base",
      "model_module_version": "2.0.0",
      "model_name": "LayoutModel",
      "state": {
       "flex": "2"
      }
     },
     "8ef2f76d19db421690bd899659930c20": {
      "model_module": "@jupyter-widgets/base",
      "model_module_version": "2.0.0",
      "model_name": "LayoutModel",
      "state": {}
     },
     "8fbb229e1a5a43f8856c053feb1fd669": {
      "model_module": "@jupyter-widgets/controls",
      "model_module_version": "2.0.0",
      "model_name": "HTMLModel",
      "state": {
       "layout": "IPY_MODEL_7eb58df2450b445bbf0b95929e7aeb26",
       "style": "IPY_MODEL_b689de81738e49998e2b1be4d7825f28",
       "value": " 28800/28800 [00:01&lt;00:00, 40166.22it/s]"
      }
     },
     "90606aca39de4adcad280cd95712519e": {
      "model_module": "@jupyter-widgets/controls",
      "model_module_version": "2.0.0",
      "model_name": "HTMLModel",
      "state": {
       "layout": "IPY_MODEL_9fa6b95e5fac49ae99ea8a4db8329ac6",
       "style": "IPY_MODEL_1e41b1512dd1426ca02731e66190773b",
       "value": " 84258/84258 [00:02&lt;00:00, 47376.09it/s]"
      }
     },
     "90c53208275746eca45a66f278ba18b8": {
      "model_module": "@jupyter-widgets/controls",
      "model_module_version": "2.0.0",
      "model_name": "HTMLModel",
      "state": {
       "layout": "IPY_MODEL_3fc53d7ac8904c2d902179b73b801f4b",
       "style": "IPY_MODEL_4d463371888d4a27b23de57b13ddf30a",
       "value": " 84258/84258 [00:02&lt;00:00, 48743.40it/s]"
      }
     },
     "90ccab22afa945fda1fcf9a906278924": {
      "model_module": "@jupyter-widgets/controls",
      "model_module_version": "2.0.0",
      "model_name": "FloatProgressModel",
      "state": {
       "bar_style": "success",
       "layout": "IPY_MODEL_7f876be8747d440ab5dca7d2b5c92e66",
       "max": 1,
       "style": "IPY_MODEL_f7fe7dafeb3449e9bca1bfed9d2b2cea",
       "value": 1
      }
     },
     "91bfb39366994d2aba13b09072e225c2": {
      "model_module": "@jupyter-widgets/controls",
      "model_module_version": "2.0.0",
      "model_name": "HTMLModel",
      "state": {
       "layout": "IPY_MODEL_bcef75e9b12040e0939e920b7e7e22a6",
       "style": "IPY_MODEL_b6e70c9955634ffe81b9dd056b135994",
       "value": "Loading Raw Data: 100%"
      }
     },
     "9267e8144ba8465a8d9671609e4e515a": {
      "model_module": "@jupyter-widgets/base",
      "model_module_version": "2.0.0",
      "model_name": "LayoutModel",
      "state": {}
     },
     "92f93ff2c33d43b289c2069b24fc22bc": {
      "model_module": "@jupyter-widgets/controls",
      "model_module_version": "2.0.0",
      "model_name": "HTMLStyleModel",
      "state": {
       "description_width": "",
       "font_size": null,
       "text_color": null
      }
     },
     "9334d80974d34dc093163a00a9bad672": {
      "model_module": "@jupyter-widgets/base",
      "model_module_version": "2.0.0",
      "model_name": "LayoutModel",
      "state": {}
     },
     "936d591282f84967878c475e5623c401": {
      "model_module": "@jupyter-widgets/base",
      "model_module_version": "2.0.0",
      "model_name": "LayoutModel",
      "state": {}
     },
     "939f6ad2ba704cbb94c79fcbabd795e5": {
      "model_module": "@jupyter-widgets/controls",
      "model_module_version": "2.0.0",
      "model_name": "HTMLStyleModel",
      "state": {
       "description_width": "",
       "font_size": null,
       "text_color": null
      }
     },
     "93ed7d4122b74e6aa57d608803dd71c3": {
      "model_module": "@jupyter-widgets/controls",
      "model_module_version": "2.0.0",
      "model_name": "HBoxModel",
      "state": {
       "children": [
        "IPY_MODEL_4bcd0f335309435ebba46dc5e6c512bd",
        "IPY_MODEL_ba5221864e464ccd90e84162a3278fd4",
        "IPY_MODEL_90c53208275746eca45a66f278ba18b8"
       ],
       "layout": "IPY_MODEL_1ac886247cf14f1d86147359fc3627fc"
      }
     },
     "941a6c56e683472d88476309388751c2": {
      "model_module": "@jupyter-widgets/controls",
      "model_module_version": "2.0.0",
      "model_name": "HTMLStyleModel",
      "state": {
       "description_width": "",
       "font_size": null,
       "text_color": null
      }
     },
     "944a736017d443abae61abcca64fcb64": {
      "model_module": "@jupyter-widgets/controls",
      "model_module_version": "2.0.0",
      "model_name": "HTMLStyleModel",
      "state": {
       "description_width": "",
       "font_size": null,
       "text_color": null
      }
     },
     "948c762186cc420d90012af182f5f505": {
      "model_module": "@jupyter-widgets/controls",
      "model_module_version": "2.0.0",
      "model_name": "ProgressStyleModel",
      "state": {
       "description_width": ""
      }
     },
     "95392c5466e041b8b9000717cf8a74e4": {
      "model_module": "@jupyter-widgets/controls",
      "model_module_version": "2.0.0",
      "model_name": "HTMLStyleModel",
      "state": {
       "description_width": "",
       "font_size": null,
       "text_color": null
      }
     },
     "95e2a71ad5c140739abc52c540b1043b": {
      "model_module": "@jupyter-widgets/controls",
      "model_module_version": "2.0.0",
      "model_name": "HTMLModel",
      "state": {
       "layout": "IPY_MODEL_5c5af35f3a5b48e2861b1c4ec104fadd",
       "style": "IPY_MODEL_4eb7033962b5479181f05e2e922450ff",
       "value": " 84258/84258 [00:02&lt;00:00, 48786.94it/s]"
      }
     },
     "96a63187b0444aa0b2897b7ca8225638": {
      "model_module": "@jupyter-widgets/controls",
      "model_module_version": "2.0.0",
      "model_name": "HTMLModel",
      "state": {
       "layout": "IPY_MODEL_e6785df58da14e34b58887e6a25ec24f",
       "style": "IPY_MODEL_55f0df7b00ae4235aa57b73dbb25f2a7",
       "value": " 86280/86280 [00:01&lt;00:00, 51152.85it/s]"
      }
     },
     "971ce159d4e74b35bd958bfbf3fc553c": {
      "model_module": "@jupyter-widgets/controls",
      "model_module_version": "2.0.0",
      "model_name": "HTMLStyleModel",
      "state": {
       "description_width": "",
       "font_size": null,
       "text_color": null
      }
     },
     "9789e5c524c74e92ba74e58d44802ace": {
      "model_module": "@jupyter-widgets/controls",
      "model_module_version": "2.0.0",
      "model_name": "FloatProgressModel",
      "state": {
       "bar_style": "success",
       "layout": "IPY_MODEL_a63cf795b94845008404d2e72ba4e44b",
       "max": 1,
       "style": "IPY_MODEL_67625de0b77f41128b5e56ad7db34afb",
       "value": 1
      }
     },
     "97f83a85fbea45e690bb89dc75bfd3ef": {
      "model_module": "@jupyter-widgets/controls",
      "model_module_version": "2.0.0",
      "model_name": "HTMLStyleModel",
      "state": {
       "description_width": "",
       "font_size": null,
       "text_color": null
      }
     },
     "980407ebc8604f57a52ff006c52782b5": {
      "model_module": "@jupyter-widgets/controls",
      "model_module_version": "2.0.0",
      "model_name": "HTMLStyleModel",
      "state": {
       "description_width": "",
       "font_size": null,
       "text_color": null
      }
     },
     "98dbbdb3e53846d8a090357082f1c0e8": {
      "model_module": "@jupyter-widgets/base",
      "model_module_version": "2.0.0",
      "model_name": "LayoutModel",
      "state": {}
     },
     "9a9fe3c3dcdd476c9777bd76bbf8ecd4": {
      "model_module": "@jupyter-widgets/controls",
      "model_module_version": "2.0.0",
      "model_name": "HTMLModel",
      "state": {
       "layout": "IPY_MODEL_efeaf7a12f5b433ca0588d7344b105c0",
       "style": "IPY_MODEL_944a736017d443abae61abcca64fcb64",
       "value": "Loading Raw Data: 100%"
      }
     },
     "9ac40f6663ca47d59e0361b44be96696": {
      "model_module": "@jupyter-widgets/controls",
      "model_module_version": "2.0.0",
      "model_name": "HTMLStyleModel",
      "state": {
       "description_width": "",
       "font_size": null,
       "text_color": null
      }
     },
     "9b1ef18ceda54494a27a762d78a54fd5": {
      "model_module": "@jupyter-widgets/controls",
      "model_module_version": "2.0.0",
      "model_name": "HTMLModel",
      "state": {
       "layout": "IPY_MODEL_fa1c71392e414f04b910122d1b4c3d7c",
       "style": "IPY_MODEL_d93c90c40a72409ebfd3144ecfa5e451",
       "value": " 84258/84258 [00:02&lt;00:00, 49005.40it/s]"
      }
     },
     "9b3568fb534a4329a8f1cbda2a30a105": {
      "model_module": "@jupyter-widgets/controls",
      "model_module_version": "2.0.0",
      "model_name": "HTMLModel",
      "state": {
       "layout": "IPY_MODEL_61769a27d9a344c9ad33f5c4a87aefff",
       "style": "IPY_MODEL_7707b9d1f18b40ac9d96dc497cfedfe1",
       "value": " 84258/84258 [00:02&lt;00:00, 42093.94it/s]"
      }
     },
     "9b9a5c1743ae4315ba952d92b46edfcc": {
      "model_module": "@jupyter-widgets/controls",
      "model_module_version": "2.0.0",
      "model_name": "HBoxModel",
      "state": {
       "children": [
        "IPY_MODEL_ae6064b0e7894551bbf8451e1aa81494",
        "IPY_MODEL_ae0fb04692f64a12a9b3e54704c5d8a9",
        "IPY_MODEL_55953a80841b42e4bebcfcb69a902a3c"
       ],
       "layout": "IPY_MODEL_6ceb8cc7435b4a8396b58f9d9e3ac470"
      }
     },
     "9c32363703c3431283319661befb994d": {
      "model_module": "@jupyter-widgets/controls",
      "model_module_version": "2.0.0",
      "model_name": "HTMLStyleModel",
      "state": {
       "description_width": "",
       "font_size": null,
       "text_color": null
      }
     },
     "9c5a804cc50340588517f17712e2460d": {
      "model_module": "@jupyter-widgets/controls",
      "model_module_version": "2.0.0",
      "model_name": "HTMLModel",
      "state": {
       "layout": "IPY_MODEL_43bb1e5eb9044edab47a819c4532376b",
       "style": "IPY_MODEL_4e198ec9e7a7479d9c0fe43b80c689c5",
       "value": "Loading Raw Data: 100%"
      }
     },
     "9c5c42c97db7410bac05afc5cd22882e": {
      "model_module": "@jupyter-widgets/base",
      "model_module_version": "2.0.0",
      "model_name": "LayoutModel",
      "state": {}
     },
     "9c88c797ce294ed2961d4ab05348a2d3": {
      "model_module": "@jupyter-widgets/base",
      "model_module_version": "2.0.0",
      "model_name": "LayoutModel",
      "state": {
       "display": "inline-flex",
       "flex_flow": "row wrap",
       "width": "100%"
      }
     },
     "9cfea90045c34accab780cd49024e9c0": {
      "model_module": "@jupyter-widgets/controls",
      "model_module_version": "2.0.0",
      "model_name": "HTMLModel",
      "state": {
       "layout": "IPY_MODEL_07a424c217154a95bcdb8fe7a59cdeb5",
       "style": "IPY_MODEL_aaa664a86cf34cba8dbe78a59e758a5b",
       "value": "100%"
      }
     },
     "9d76432bf7624b56ac5f0386d439df0f": {
      "model_module": "@jupyter-widgets/controls",
      "model_module_version": "2.0.0",
      "model_name": "HTMLModel",
      "state": {
       "layout": "IPY_MODEL_340492b949cc4605a77d7b53ce2090d6",
       "style": "IPY_MODEL_feef388934214d01b3f7fd9cf5da16cd",
       "value": " 84258/84258 [00:02&lt;00:00, 48242.89it/s]"
      }
     },
     "9dd8c070e2724cc58b4b84f0d5dad662": {
      "model_module": "@jupyter-widgets/controls",
      "model_module_version": "2.0.0",
      "model_name": "HTMLStyleModel",
      "state": {
       "description_width": "",
       "font_size": null,
       "text_color": null
      }
     },
     "9dde44b144e74ec7940e38a3be3abbf9": {
      "model_module": "@jupyter-widgets/controls",
      "model_module_version": "2.0.0",
      "model_name": "HBoxModel",
      "state": {
       "children": [
        "IPY_MODEL_46338575d4964e6bad07cff7ccb15e72",
        "IPY_MODEL_8b54c94cf5284bb3986f32d0b0a99c36",
        "IPY_MODEL_f2eddca8663c412bbbfae48e92653569"
       ],
       "layout": "IPY_MODEL_82aaf003cd964c5a9be8a14099e34bb4"
      }
     },
     "9de9f8903779471998915c655009834a": {
      "model_module": "@jupyter-widgets/base",
      "model_module_version": "2.0.0",
      "model_name": "LayoutModel",
      "state": {}
     },
     "9e07c2f450c045bdb23fe3f2d891207f": {
      "model_module": "@jupyter-widgets/base",
      "model_module_version": "2.0.0",
      "model_name": "LayoutModel",
      "state": {
       "flex": "2"
      }
     },
     "9f46cc06f53b4cbcad3628baaf96e7d1": {
      "model_module": "@jupyter-widgets/base",
      "model_module_version": "2.0.0",
      "model_name": "LayoutModel",
      "state": {
       "display": "inline-flex",
       "flex_flow": "row wrap",
       "width": "100%"
      }
     },
     "9fa6b95e5fac49ae99ea8a4db8329ac6": {
      "model_module": "@jupyter-widgets/base",
      "model_module_version": "2.0.0",
      "model_name": "LayoutModel",
      "state": {}
     },
     "9fb5725aa65843e88982193b5582e88c": {
      "model_module": "@jupyter-widgets/controls",
      "model_module_version": "2.0.0",
      "model_name": "HTMLModel",
      "state": {
       "layout": "IPY_MODEL_8349ba8cfd08443da666f6ec4658fa7e",
       "style": "IPY_MODEL_d7e198a474694ba9a25442ee58643ad9",
       "value": "Loading Raw Data: 100%"
      }
     },
     "9fd08ed8b18d40f5b3fc46200343b2fd": {
      "model_module": "@jupyter-widgets/controls",
      "model_module_version": "2.0.0",
      "model_name": "HTMLModel",
      "state": {
       "layout": "IPY_MODEL_310895ca3d1d46b58fe42ec23eea9c32",
       "style": "IPY_MODEL_2b66a18483b94ef78c59bc3f2cbe4d5d",
       "value": " 86280/86280 [00:02&lt;00:00, 38646.66it/s]"
      }
     },
     "9fdafc48f74345139d357d370d032031": {
      "model_module": "@jupyter-widgets/base",
      "model_module_version": "2.0.0",
      "model_name": "LayoutModel",
      "state": {
       "display": "inline-flex",
       "flex_flow": "row wrap",
       "width": "100%"
      }
     },
     "a02363b75435413e96b49ef0022d9355": {
      "model_module": "@jupyter-widgets/controls",
      "model_module_version": "2.0.0",
      "model_name": "HTMLModel",
      "state": {
       "layout": "IPY_MODEL_0cd4bd82921f4fef80004154bd9809ef",
       "style": "IPY_MODEL_f557c43861664b3ab1ec8d616cf15c10",
       "value": "100%"
      }
     },
     "a0bd63fb5b834706926d8b7d279f184a": {
      "model_module": "@jupyter-widgets/controls",
      "model_module_version": "2.0.0",
      "model_name": "HBoxModel",
      "state": {
       "children": [
        "IPY_MODEL_b0180e4f09ee4d12ac9cd445e42885b2",
        "IPY_MODEL_e86ecb01e5a4414e8fcbf60dd881ecba",
        "IPY_MODEL_552bbd7ac78d484287bb3b4c4632660b"
       ],
       "layout": "IPY_MODEL_d40cec361784427aa5a150b31ac83775"
      }
     },
     "a0e9534cb35c433ea8ab02616d55ca28": {
      "model_module": "@jupyter-widgets/controls",
      "model_module_version": "2.0.0",
      "model_name": "FloatProgressModel",
      "state": {
       "bar_style": "success",
       "layout": "IPY_MODEL_a21fb12b411244e4a82374f865bfd859",
       "max": 86280,
       "style": "IPY_MODEL_41ffe1adced24049b797652748ab9ec4",
       "value": 86280
      }
     },
     "a21fb12b411244e4a82374f865bfd859": {
      "model_module": "@jupyter-widgets/base",
      "model_module_version": "2.0.0",
      "model_name": "LayoutModel",
      "state": {
       "flex": "2"
      }
     },
     "a23ecabda0e0413887925207a700fe69": {
      "model_module": "@jupyter-widgets/base",
      "model_module_version": "2.0.0",
      "model_name": "LayoutModel",
      "state": {}
     },
     "a254a47cac034009bc57cb1ee8cb8152": {
      "model_module": "@jupyter-widgets/base",
      "model_module_version": "2.0.0",
      "model_name": "LayoutModel",
      "state": {
       "flex": "2"
      }
     },
     "a3442f9dcd7c4cac80f58d3b7fa57ba0": {
      "model_module": "@jupyter-widgets/controls",
      "model_module_version": "2.0.0",
      "model_name": "HTMLStyleModel",
      "state": {
       "description_width": "",
       "font_size": null,
       "text_color": null
      }
     },
     "a54d78debfc6400ca9f8380f4b91730e": {
      "model_module": "@jupyter-widgets/controls",
      "model_module_version": "2.0.0",
      "model_name": "HTMLStyleModel",
      "state": {
       "description_width": "",
       "font_size": null,
       "text_color": null
      }
     },
     "a57f894c1b3a42c7a32850941b39060d": {
      "model_module": "@jupyter-widgets/controls",
      "model_module_version": "2.0.0",
      "model_name": "HTMLStyleModel",
      "state": {
       "description_width": "",
       "font_size": null,
       "text_color": null
      }
     },
     "a63c7c30c5f54ed68001769b84b90947": {
      "model_module": "@jupyter-widgets/controls",
      "model_module_version": "2.0.0",
      "model_name": "ProgressStyleModel",
      "state": {
       "description_width": ""
      }
     },
     "a63cf795b94845008404d2e72ba4e44b": {
      "model_module": "@jupyter-widgets/base",
      "model_module_version": "2.0.0",
      "model_name": "LayoutModel",
      "state": {
       "flex": "2"
      }
     },
     "a6a5b3bea04b4e76a052a338690dd7d9": {
      "model_module": "@jupyter-widgets/controls",
      "model_module_version": "2.0.0",
      "model_name": "HTMLModel",
      "state": {
       "layout": "IPY_MODEL_4ce71c8740e54ca98b95a10fd4523bad",
       "style": "IPY_MODEL_b452b548dd1144988c93f9da50357fcb",
       "value": " 84258/84258 [00:02&lt;00:00, 39996.83it/s]"
      }
     },
     "a7ba96d1e304470fb5086baf67bfb4af": {
      "model_module": "@jupyter-widgets/base",
      "model_module_version": "2.0.0",
      "model_name": "LayoutModel",
      "state": {}
     },
     "a7f215b726724e0e851ef102a88daeb0": {
      "model_module": "@jupyter-widgets/controls",
      "model_module_version": "2.0.0",
      "model_name": "ProgressStyleModel",
      "state": {
       "description_width": ""
      }
     },
     "a7f2be03dbb94e9fb457c9be5a42b811": {
      "model_module": "@jupyter-widgets/controls",
      "model_module_version": "2.0.0",
      "model_name": "HTMLModel",
      "state": {
       "layout": "IPY_MODEL_30149021188f424a9dc1261ddeaffcdf",
       "style": "IPY_MODEL_18215ef401cf437886eb0d4e65e40244",
       "value": "100%"
      }
     },
     "a7fbacbb724b4badb40625575c878890": {
      "model_module": "@jupyter-widgets/controls",
      "model_module_version": "2.0.0",
      "model_name": "ProgressStyleModel",
      "state": {
       "description_width": ""
      }
     },
     "a84c15a13ee942e6abe7e434c0c9574e": {
      "model_module": "@jupyter-widgets/base",
      "model_module_version": "2.0.0",
      "model_name": "LayoutModel",
      "state": {}
     },
     "a8529e8a1db84ab1b56ebb1b63e1d0b0": {
      "model_module": "@jupyter-widgets/controls",
      "model_module_version": "2.0.0",
      "model_name": "HBoxModel",
      "state": {
       "children": [
        "IPY_MODEL_7f95b44a2e19409190b6f792b6900b39",
        "IPY_MODEL_c8059fe9ea734ef4b8285db9966ca45f",
        "IPY_MODEL_e8de5606d944499883dea269de7cf498"
       ],
       "layout": "IPY_MODEL_4a3913e4fa904f68b839daaf119091d9"
      }
     },
     "a867a288d52141d79ae3b194bb661404": {
      "model_module": "@jupyter-widgets/base",
      "model_module_version": "2.0.0",
      "model_name": "LayoutModel",
      "state": {}
     },
     "a8686f07b3c243b49419156039ff2c71": {
      "model_module": "@jupyter-widgets/base",
      "model_module_version": "2.0.0",
      "model_name": "LayoutModel",
      "state": {
       "flex": "2"
      }
     },
     "a869d3bf1c874cae9171fb31bf57ee0a": {
      "model_module": "@jupyter-widgets/base",
      "model_module_version": "2.0.0",
      "model_name": "LayoutModel",
      "state": {
       "display": "inline-flex",
       "flex_flow": "row wrap",
       "width": "100%"
      }
     },
     "a8b85153e41e431faee2984c89b3c69e": {
      "model_module": "@jupyter-widgets/controls",
      "model_module_version": "2.0.0",
      "model_name": "FloatProgressModel",
      "state": {
       "bar_style": "success",
       "layout": "IPY_MODEL_50177e820a8d42cab7fffbe52bfb0726",
       "max": 1,
       "style": "IPY_MODEL_7e6d2cab35a249b7bdaa4928a340a461",
       "value": 1
      }
     },
     "a907027a57e441d2b7076ab853c4c16a": {
      "model_module": "@jupyter-widgets/base",
      "model_module_version": "2.0.0",
      "model_name": "LayoutModel",
      "state": {}
     },
     "a9a3032fe1b743e1972f73daa1d8f824": {
      "model_module": "@jupyter-widgets/base",
      "model_module_version": "2.0.0",
      "model_name": "LayoutModel",
      "state": {}
     },
     "a9f4fd1e31294e378ba3bea2a2b796ea": {
      "model_module": "@jupyter-widgets/base",
      "model_module_version": "2.0.0",
      "model_name": "LayoutModel",
      "state": {
       "display": "inline-flex",
       "flex_flow": "row wrap",
       "width": "100%"
      }
     },
     "aa1a1e02283c41bd91c22986019992ad": {
      "model_module": "@jupyter-widgets/controls",
      "model_module_version": "2.0.0",
      "model_name": "HTMLStyleModel",
      "state": {
       "description_width": "",
       "font_size": null,
       "text_color": null
      }
     },
     "aa2edc4900a542d2bc255ed40df3967a": {
      "model_module": "@jupyter-widgets/controls",
      "model_module_version": "2.0.0",
      "model_name": "HTMLStyleModel",
      "state": {
       "description_width": "",
       "font_size": null,
       "text_color": null
      }
     },
     "aaa664a86cf34cba8dbe78a59e758a5b": {
      "model_module": "@jupyter-widgets/controls",
      "model_module_version": "2.0.0",
      "model_name": "HTMLStyleModel",
      "state": {
       "description_width": "",
       "font_size": null,
       "text_color": null
      }
     },
     "ab03208cd20a45278a1abdbf9c9146e8": {
      "model_module": "@jupyter-widgets/controls",
      "model_module_version": "2.0.0",
      "model_name": "HTMLModel",
      "state": {
       "layout": "IPY_MODEL_3934d347c2864eea99d375d344d67c4c",
       "style": "IPY_MODEL_9dd8c070e2724cc58b4b84f0d5dad662",
       "value": " 1/1 [00:00&lt;00:00,  1.86it/s]"
      }
     },
     "ab2a670133f54026807da6ef0e406c3f": {
      "model_module": "@jupyter-widgets/controls",
      "model_module_version": "2.0.0",
      "model_name": "HTMLModel",
      "state": {
       "layout": "IPY_MODEL_e383a493d63748f2a0d6123f62b3f77e",
       "style": "IPY_MODEL_7d796146b301443e8789ef3ca45d227a",
       "value": "100%"
      }
     },
     "ac3a6aed44284b43afea9af7557c27b0": {
      "model_module": "@jupyter-widgets/controls",
      "model_module_version": "2.0.0",
      "model_name": "HTMLModel",
      "state": {
       "layout": "IPY_MODEL_425fa5aa63ee4d4e81d211c32330da13",
       "style": "IPY_MODEL_d2178d34289f48208da1ef6e57003669",
       "value": "100%"
      }
     },
     "acacd864a2144e40a6f501d22fb3c786": {
      "model_module": "@jupyter-widgets/base",
      "model_module_version": "2.0.0",
      "model_name": "LayoutModel",
      "state": {}
     },
     "acc9b99c80e84e288eb3d1e3223ac439": {
      "model_module": "@jupyter-widgets/controls",
      "model_module_version": "2.0.0",
      "model_name": "FloatProgressModel",
      "state": {
       "bar_style": "success",
       "layout": "IPY_MODEL_16168d23a385454dafc185f4b482462c",
       "max": 86280,
       "style": "IPY_MODEL_722bd85f69464014853fb58f1becf87f",
       "value": 86280
      }
     },
     "ad3da2dd06964e64889992831970d76b": {
      "model_module": "@jupyter-widgets/controls",
      "model_module_version": "2.0.0",
      "model_name": "FloatProgressModel",
      "state": {
       "bar_style": "success",
       "layout": "IPY_MODEL_cda9ffdb5a1c48869fd4307901faec35",
       "max": 84258,
       "style": "IPY_MODEL_1e13bd9e3586480695f93196719a5552",
       "value": 84258
      }
     },
     "ad90f995df8640aeb3abd8c7d5d07758": {
      "model_module": "@jupyter-widgets/controls",
      "model_module_version": "2.0.0",
      "model_name": "ProgressStyleModel",
      "state": {
       "description_width": ""
      }
     },
     "ae08b27025094d6abdce949552f1448e": {
      "model_module": "@jupyter-widgets/controls",
      "model_module_version": "2.0.0",
      "model_name": "HTMLModel",
      "state": {
       "layout": "IPY_MODEL_564e4ac0aa1b4ce9849bfd598788b5fb",
       "style": "IPY_MODEL_8511d9e55407420f800edeee93f0ce31",
       "value": "100%"
      }
     },
     "ae0fb04692f64a12a9b3e54704c5d8a9": {
      "model_module": "@jupyter-widgets/controls",
      "model_module_version": "2.0.0",
      "model_name": "FloatProgressModel",
      "state": {
       "bar_style": "success",
       "layout": "IPY_MODEL_a254a47cac034009bc57cb1ee8cb8152",
       "max": 86280,
       "style": "IPY_MODEL_26dc3fa61764425b802750ea149ec8ed",
       "value": 86280
      }
     },
     "ae4eb53e50a548719e60fb8d27fc658d": {
      "model_module": "@jupyter-widgets/controls",
      "model_module_version": "2.0.0",
      "model_name": "HBoxModel",
      "state": {
       "children": [
        "IPY_MODEL_e4b4ba6c68354780b631e2cb6dd92703",
        "IPY_MODEL_868f1401bfa04bf09d70172a6bc804d7",
        "IPY_MODEL_9b1ef18ceda54494a27a762d78a54fd5"
       ],
       "layout": "IPY_MODEL_881e938a4eed4bb58f454617d18642e2"
      }
     },
     "ae6064b0e7894551bbf8451e1aa81494": {
      "model_module": "@jupyter-widgets/controls",
      "model_module_version": "2.0.0",
      "model_name": "HTMLModel",
      "state": {
       "layout": "IPY_MODEL_ec28268ae5b047c4b8713cdb4074d961",
       "style": "IPY_MODEL_aa1a1e02283c41bd91c22986019992ad",
       "value": "100%"
      }
     },
     "af7f541260614dc4a75a61614dc6ca2e": {
      "model_module": "@jupyter-widgets/controls",
      "model_module_version": "2.0.0",
      "model_name": "HBoxModel",
      "state": {
       "children": [
        "IPY_MODEL_dddc459bcbe243f4a6b144b3989c1023",
        "IPY_MODEL_65e31d833ad04159a29491f6624b9962",
        "IPY_MODEL_95e2a71ad5c140739abc52c540b1043b"
       ],
       "layout": "IPY_MODEL_640c5d59784e445690af81d120bc24d1"
      }
     },
     "af99edab7bf74102b13b026d71bfb71f": {
      "model_module": "@jupyter-widgets/controls",
      "model_module_version": "2.0.0",
      "model_name": "HTMLModel",
      "state": {
       "layout": "IPY_MODEL_7298924436984ec78d2c698efd932da4",
       "style": "IPY_MODEL_caf593a1cab04e9bbb16fba1d76defde",
       "value": " 1/1 [00:00&lt;00:00,  1.95it/s]"
      }
     },
     "afa4ec022fa14c3db7b064bca640a3e0": {
      "model_module": "@jupyter-widgets/controls",
      "model_module_version": "2.0.0",
      "model_name": "HTMLStyleModel",
      "state": {
       "description_width": "",
       "font_size": null,
       "text_color": null
      }
     },
     "b0113fd309644c7d94dadfe7d5530b01": {
      "model_module": "@jupyter-widgets/controls",
      "model_module_version": "2.0.0",
      "model_name": "HTMLStyleModel",
      "state": {
       "description_width": "",
       "font_size": null,
       "text_color": null
      }
     },
     "b0180e4f09ee4d12ac9cd445e42885b2": {
      "model_module": "@jupyter-widgets/controls",
      "model_module_version": "2.0.0",
      "model_name": "HTMLModel",
      "state": {
       "layout": "IPY_MODEL_edaaebc91bf94d63a8cf8c393078ee42",
       "style": "IPY_MODEL_09841d3be8dd4b2280346becba1299b1",
       "value": "100%"
      }
     },
     "b029ace21647406d907b274ccb7e2307": {
      "model_module": "@jupyter-widgets/controls",
      "model_module_version": "2.0.0",
      "model_name": "FloatProgressModel",
      "state": {
       "bar_style": "success",
       "layout": "IPY_MODEL_c2ed9a5f929a4f52aac0902fdb48f273",
       "max": 86280,
       "style": "IPY_MODEL_e406851e8d4141a584445c1a26b5fb23",
       "value": 86280
      }
     },
     "b069848b5deb47b3861e70d7540a4c31": {
      "model_module": "@jupyter-widgets/base",
      "model_module_version": "2.0.0",
      "model_name": "LayoutModel",
      "state": {
       "display": "inline-flex",
       "flex_flow": "row wrap",
       "width": "100%"
      }
     },
     "b125ebe6829e4224ba822bcda188d403": {
      "model_module": "@jupyter-widgets/controls",
      "model_module_version": "2.0.0",
      "model_name": "HBoxModel",
      "state": {
       "children": [
        "IPY_MODEL_9a9fe3c3dcdd476c9777bd76bbf8ecd4",
        "IPY_MODEL_57e35a21a0114797bea7a1ec5f260dd5",
        "IPY_MODEL_84c4a974805d4f678d52899c1d62ca32"
       ],
       "layout": "IPY_MODEL_126a328a208e482da62f61159fc1d1de"
      }
     },
     "b14ae7b45d6d4e8b863744a9f2188832": {
      "model_module": "@jupyter-widgets/controls",
      "model_module_version": "2.0.0",
      "model_name": "HTMLModel",
      "state": {
       "layout": "IPY_MODEL_98dbbdb3e53846d8a090357082f1c0e8",
       "style": "IPY_MODEL_e0d249005c6f4844a468d8655664c816",
       "value": "100%"
      }
     },
     "b1ada01508154095994cf660a09eb61c": {
      "model_module": "@jupyter-widgets/controls",
      "model_module_version": "2.0.0",
      "model_name": "HTMLStyleModel",
      "state": {
       "description_width": "",
       "font_size": null,
       "text_color": null
      }
     },
     "b1c5cb2bb2e44821a097af70a647adfb": {
      "model_module": "@jupyter-widgets/controls",
      "model_module_version": "2.0.0",
      "model_name": "HTMLStyleModel",
      "state": {
       "description_width": "",
       "font_size": null,
       "text_color": null
      }
     },
     "b20be09b21594fabad49f89561039802": {
      "model_module": "@jupyter-widgets/base",
      "model_module_version": "2.0.0",
      "model_name": "LayoutModel",
      "state": {
       "flex": "2"
      }
     },
     "b222e8076fe2430abc652c685e5daf7e": {
      "model_module": "@jupyter-widgets/base",
      "model_module_version": "2.0.0",
      "model_name": "LayoutModel",
      "state": {}
     },
     "b2260bdc131941bca3ba270fb5299033": {
      "model_module": "@jupyter-widgets/controls",
      "model_module_version": "2.0.0",
      "model_name": "HTMLModel",
      "state": {
       "layout": "IPY_MODEL_e93a1cb810dc4795b948b2b9321f7968",
       "style": "IPY_MODEL_8aab7999865a4fee90bcd858f7a35ac0",
       "value": " 86280/86280 [00:02&lt;00:00, 40958.03it/s]"
      }
     },
     "b2363a6416fb472690090942fb95be59": {
      "model_module": "@jupyter-widgets/controls",
      "model_module_version": "2.0.0",
      "model_name": "HBoxModel",
      "state": {
       "children": [
        "IPY_MODEL_7de6fbbb80c84e788cc6108331e97cee",
        "IPY_MODEL_425b396a6e3046b7b8d7c47601a6d073",
        "IPY_MODEL_8fbb229e1a5a43f8856c053feb1fd669"
       ],
       "layout": "IPY_MODEL_525d378dadf246bb96891ed1e2601810"
      }
     },
     "b2a0befeabbe42738dca4b5bc735d7b0": {
      "model_module": "@jupyter-widgets/base",
      "model_module_version": "2.0.0",
      "model_name": "LayoutModel",
      "state": {}
     },
     "b2f6a6ddb9534251885c8ccba0a15c01": {
      "model_module": "@jupyter-widgets/base",
      "model_module_version": "2.0.0",
      "model_name": "LayoutModel",
      "state": {}
     },
     "b3e9d0a98d5a4088893516bd028089fd": {
      "model_module": "@jupyter-widgets/controls",
      "model_module_version": "2.0.0",
      "model_name": "HTMLModel",
      "state": {
       "layout": "IPY_MODEL_acacd864a2144e40a6f501d22fb3c786",
       "style": "IPY_MODEL_f41e4632ff6f47878cda9ed2d9724ae6",
       "value": " 86280/86280 [00:02&lt;00:00, 45406.98it/s]"
      }
     },
     "b452b548dd1144988c93f9da50357fcb": {
      "model_module": "@jupyter-widgets/controls",
      "model_module_version": "2.0.0",
      "model_name": "HTMLStyleModel",
      "state": {
       "description_width": "",
       "font_size": null,
       "text_color": null
      }
     },
     "b46274d63a744872a03f11fabd952c9a": {
      "model_module": "@jupyter-widgets/base",
      "model_module_version": "2.0.0",
      "model_name": "LayoutModel",
      "state": {}
     },
     "b46f2f0e89bf4fe3b4401603e3f0947b": {
      "model_module": "@jupyter-widgets/base",
      "model_module_version": "2.0.0",
      "model_name": "LayoutModel",
      "state": {
       "display": "inline-flex",
       "flex_flow": "row wrap",
       "width": "100%"
      }
     },
     "b48ff08a5f0946f992ac8e09ee5bba4c": {
      "model_module": "@jupyter-widgets/controls",
      "model_module_version": "2.0.0",
      "model_name": "ProgressStyleModel",
      "state": {
       "description_width": ""
      }
     },
     "b689de81738e49998e2b1be4d7825f28": {
      "model_module": "@jupyter-widgets/controls",
      "model_module_version": "2.0.0",
      "model_name": "HTMLStyleModel",
      "state": {
       "description_width": "",
       "font_size": null,
       "text_color": null
      }
     },
     "b6e70c9955634ffe81b9dd056b135994": {
      "model_module": "@jupyter-widgets/controls",
      "model_module_version": "2.0.0",
      "model_name": "HTMLStyleModel",
      "state": {
       "description_width": "",
       "font_size": null,
       "text_color": null
      }
     },
     "b7530e7f3ef04151b2e49c6a425da6ae": {
      "model_module": "@jupyter-widgets/controls",
      "model_module_version": "2.0.0",
      "model_name": "HBoxModel",
      "state": {
       "children": [
        "IPY_MODEL_3de56e13f890499289c810d24ef64785",
        "IPY_MODEL_d0d842355347407596c12d9c724288ef",
        "IPY_MODEL_8a1b83275033454593b3494c242105c9"
       ],
       "layout": "IPY_MODEL_b8b7a6d1d53344d9bfa35d1da7f9d076"
      }
     },
     "b753f350a8eb405cb78df30747a4fa5f": {
      "model_module": "@jupyter-widgets/controls",
      "model_module_version": "2.0.0",
      "model_name": "ProgressStyleModel",
      "state": {
       "description_width": ""
      }
     },
     "b75928820d2a414d8c57c0ed0342c1ba": {
      "model_module": "@jupyter-widgets/base",
      "model_module_version": "2.0.0",
      "model_name": "LayoutModel",
      "state": {
       "flex": "2"
      }
     },
     "b75d70de5385484e9cf9608711037c03": {
      "model_module": "@jupyter-widgets/base",
      "model_module_version": "2.0.0",
      "model_name": "LayoutModel",
      "state": {
       "flex": "2"
      }
     },
     "b7f3db9032d14d25849df915100acfd3": {
      "model_module": "@jupyter-widgets/controls",
      "model_module_version": "2.0.0",
      "model_name": "ProgressStyleModel",
      "state": {
       "description_width": ""
      }
     },
     "b8b7a6d1d53344d9bfa35d1da7f9d076": {
      "model_module": "@jupyter-widgets/base",
      "model_module_version": "2.0.0",
      "model_name": "LayoutModel",
      "state": {
       "display": "inline-flex",
       "flex_flow": "row wrap",
       "width": "100%"
      }
     },
     "b98143f85dc445499e84a4a35e7fc621": {
      "model_module": "@jupyter-widgets/base",
      "model_module_version": "2.0.0",
      "model_name": "LayoutModel",
      "state": {}
     },
     "ba5221864e464ccd90e84162a3278fd4": {
      "model_module": "@jupyter-widgets/controls",
      "model_module_version": "2.0.0",
      "model_name": "FloatProgressModel",
      "state": {
       "bar_style": "success",
       "layout": "IPY_MODEL_bfa19199caa1471f82b2cc695c929f32",
       "max": 84258,
       "style": "IPY_MODEL_24e5cd8611ef4285b4b707376e5dd390",
       "value": 84258
      }
     },
     "ba639d0efd894495a00e40eb5ad71efa": {
      "model_module": "@jupyter-widgets/controls",
      "model_module_version": "2.0.0",
      "model_name": "ProgressStyleModel",
      "state": {
       "description_width": ""
      }
     },
     "ba9ef894becc4606988298cddce68245": {
      "model_module": "@jupyter-widgets/controls",
      "model_module_version": "2.0.0",
      "model_name": "HTMLStyleModel",
      "state": {
       "description_width": "",
       "font_size": null,
       "text_color": null
      }
     },
     "bae0255e8df2403ebf6c1cd1f218b424": {
      "model_module": "@jupyter-widgets/controls",
      "model_module_version": "2.0.0",
      "model_name": "FloatProgressModel",
      "state": {
       "bar_style": "success",
       "layout": "IPY_MODEL_0906fb3ca7554c5da2ef957d96823b51",
       "max": 86280,
       "style": "IPY_MODEL_3824b4023d994cebb84e14be9d4807da",
       "value": 86280
      }
     },
     "bbba758c0ef9452daa4a894478cc5e23": {
      "model_module": "@jupyter-widgets/controls",
      "model_module_version": "2.0.0",
      "model_name": "ProgressStyleModel",
      "state": {
       "description_width": ""
      }
     },
     "bcef75e9b12040e0939e920b7e7e22a6": {
      "model_module": "@jupyter-widgets/base",
      "model_module_version": "2.0.0",
      "model_name": "LayoutModel",
      "state": {}
     },
     "bd411547e542443ca16f7d6d29d8508e": {
      "model_module": "@jupyter-widgets/controls",
      "model_module_version": "2.0.0",
      "model_name": "HTMLStyleModel",
      "state": {
       "description_width": "",
       "font_size": null,
       "text_color": null
      }
     },
     "bd8b5de3fae54d3d950c965761d6a1c2": {
      "model_module": "@jupyter-widgets/base",
      "model_module_version": "2.0.0",
      "model_name": "LayoutModel",
      "state": {}
     },
     "bdfaefc0c3194499a0cf8ddf619d96f2": {
      "model_module": "@jupyter-widgets/base",
      "model_module_version": "2.0.0",
      "model_name": "LayoutModel",
      "state": {}
     },
     "be4833797eef4486940f2226eedc52c9": {
      "model_module": "@jupyter-widgets/controls",
      "model_module_version": "2.0.0",
      "model_name": "FloatProgressModel",
      "state": {
       "bar_style": "success",
       "layout": "IPY_MODEL_02bf55696d9a40b4abced1bfe54b2265",
       "max": 84258,
       "style": "IPY_MODEL_45e0cb4bf73a4bf0af735d7b346fb9b1",
       "value": 84258
      }
     },
     "be8487d4567442feb62a4c83b643b322": {
      "model_module": "@jupyter-widgets/base",
      "model_module_version": "2.0.0",
      "model_name": "LayoutModel",
      "state": {}
     },
     "bfa19199caa1471f82b2cc695c929f32": {
      "model_module": "@jupyter-widgets/base",
      "model_module_version": "2.0.0",
      "model_name": "LayoutModel",
      "state": {
       "flex": "2"
      }
     },
     "bfc4d90173ce4cd8a4d17c11efa3686b": {
      "model_module": "@jupyter-widgets/controls",
      "model_module_version": "2.0.0",
      "model_name": "ProgressStyleModel",
      "state": {
       "description_width": ""
      }
     },
     "bff57e0fbd3441ea9c3043b41c635d04": {
      "model_module": "@jupyter-widgets/base",
      "model_module_version": "2.0.0",
      "model_name": "LayoutModel",
      "state": {
       "display": "inline-flex",
       "flex_flow": "row wrap",
       "width": "100%"
      }
     },
     "c0f10fd74c9a48b29032d95e49327f32": {
      "model_module": "@jupyter-widgets/controls",
      "model_module_version": "2.0.0",
      "model_name": "ProgressStyleModel",
      "state": {
       "description_width": ""
      }
     },
     "c150dd6f1fe243cfb65a3ae06ad9df6a": {
      "model_module": "@jupyter-widgets/base",
      "model_module_version": "2.0.0",
      "model_name": "LayoutModel",
      "state": {}
     },
     "c186592a638243f29011fc69ed01b01a": {
      "model_module": "@jupyter-widgets/controls",
      "model_module_version": "2.0.0",
      "model_name": "HTMLModel",
      "state": {
       "layout": "IPY_MODEL_9c5c42c97db7410bac05afc5cd22882e",
       "style": "IPY_MODEL_d9e2ad29e23e4135952f2b10a8b9bf41",
       "value": " 84258/84258 [00:02&lt;00:00, 47171.18it/s]"
      }
     },
     "c19be6f29c7d47cc9a59ea74622e6280": {
      "model_module": "@jupyter-widgets/base",
      "model_module_version": "2.0.0",
      "model_name": "LayoutModel",
      "state": {
       "flex": "2"
      }
     },
     "c1a7cd2aef314dffb6a7d2d1ac96ee37": {
      "model_module": "@jupyter-widgets/controls",
      "model_module_version": "2.0.0",
      "model_name": "HTMLStyleModel",
      "state": {
       "description_width": "",
       "font_size": null,
       "text_color": null
      }
     },
     "c1eca8fed3014fc09ac3ab6044562349": {
      "model_module": "@jupyter-widgets/controls",
      "model_module_version": "2.0.0",
      "model_name": "HTMLStyleModel",
      "state": {
       "description_width": "",
       "font_size": null,
       "text_color": null
      }
     },
     "c2ed9a5f929a4f52aac0902fdb48f273": {
      "model_module": "@jupyter-widgets/base",
      "model_module_version": "2.0.0",
      "model_name": "LayoutModel",
      "state": {
       "flex": "2"
      }
     },
     "c33e1829660f4aa9a72bb281ca6eb5cf": {
      "model_module": "@jupyter-widgets/controls",
      "model_module_version": "2.0.0",
      "model_name": "ProgressStyleModel",
      "state": {
       "description_width": ""
      }
     },
     "c4784d29c4544d8089f517710a249938": {
      "model_module": "@jupyter-widgets/base",
      "model_module_version": "2.0.0",
      "model_name": "LayoutModel",
      "state": {
       "flex": "2"
      }
     },
     "c4964df368594285a9daa8b6ae3da94b": {
      "model_module": "@jupyter-widgets/controls",
      "model_module_version": "2.0.0",
      "model_name": "HTMLStyleModel",
      "state": {
       "description_width": "",
       "font_size": null,
       "text_color": null
      }
     },
     "c4de24e01b8342d1adc4920df91bc1fe": {
      "model_module": "@jupyter-widgets/base",
      "model_module_version": "2.0.0",
      "model_name": "LayoutModel",
      "state": {
       "flex": "2"
      }
     },
     "c501bcb6644844cc9edc9de6fb5eefa0": {
      "model_module": "@jupyter-widgets/controls",
      "model_module_version": "2.0.0",
      "model_name": "ProgressStyleModel",
      "state": {
       "description_width": ""
      }
     },
     "c54952e64b944032829238be724358be": {
      "model_module": "@jupyter-widgets/controls",
      "model_module_version": "2.0.0",
      "model_name": "HBoxModel",
      "state": {
       "children": [
        "IPY_MODEL_56b1eb2b8e9c47bfbce9b81f0b4be96b",
        "IPY_MODEL_871c368fefc94d348056874718dd67f4",
        "IPY_MODEL_d411b395001344c5a1cd23e6b776ded0"
       ],
       "layout": "IPY_MODEL_58f21547fe4b4a84b61d662d9fbbe877"
      }
     },
     "c5499f1f2afa4f219c86e2fe23262ce0": {
      "model_module": "@jupyter-widgets/base",
      "model_module_version": "2.0.0",
      "model_name": "LayoutModel",
      "state": {}
     },
     "c561ae2adf284ab698c79d5774adb20b": {
      "model_module": "@jupyter-widgets/base",
      "model_module_version": "2.0.0",
      "model_name": "LayoutModel",
      "state": {}
     },
     "c594b77e203243ef994cc431a72b5843": {
      "model_module": "@jupyter-widgets/controls",
      "model_module_version": "2.0.0",
      "model_name": "ProgressStyleModel",
      "state": {
       "description_width": ""
      }
     },
     "c5b253b7a7fb471ab97e8003a9b8c19d": {
      "model_module": "@jupyter-widgets/base",
      "model_module_version": "2.0.0",
      "model_name": "LayoutModel",
      "state": {}
     },
     "c60fdc7648174d188fdc7a3be3459246": {
      "model_module": "@jupyter-widgets/controls",
      "model_module_version": "2.0.0",
      "model_name": "HTMLStyleModel",
      "state": {
       "description_width": "",
       "font_size": null,
       "text_color": null
      }
     },
     "c63ca0178ccf44e98dc66e184944cd23": {
      "model_module": "@jupyter-widgets/base",
      "model_module_version": "2.0.0",
      "model_name": "LayoutModel",
      "state": {}
     },
     "c683726257f9460eb635f60e80143cf6": {
      "model_module": "@jupyter-widgets/controls",
      "model_module_version": "2.0.0",
      "model_name": "HBoxModel",
      "state": {
       "children": [
        "IPY_MODEL_43abdc8a323d4181a39b9abb0db9bcec",
        "IPY_MODEL_cc4692eb81e64b0aabd78d8a461f20a9",
        "IPY_MODEL_d5a74c08e8b14f0d935cce5d6b6e7835"
       ],
       "layout": "IPY_MODEL_875603f22d7a46f9aced482547d1bdaa"
      }
     },
     "c6ac54cba33c477a80f77c4a90351a35": {
      "model_module": "@jupyter-widgets/controls",
      "model_module_version": "2.0.0",
      "model_name": "HTMLStyleModel",
      "state": {
       "description_width": "",
       "font_size": null,
       "text_color": null
      }
     },
     "c6f235aa418d4e14ac425ee1dfd42076": {
      "model_module": "@jupyter-widgets/controls",
      "model_module_version": "2.0.0",
      "model_name": "FloatProgressModel",
      "state": {
       "bar_style": "success",
       "layout": "IPY_MODEL_f3f77884be2e420d88f8b45210d866ff",
       "max": 1,
       "style": "IPY_MODEL_185a5289037046d1a83a70edc213c3cf",
       "value": 1
      }
     },
     "c72b9e01df66412e9b9eff6406b1afdc": {
      "model_module": "@jupyter-widgets/controls",
      "model_module_version": "2.0.0",
      "model_name": "HTMLModel",
      "state": {
       "layout": "IPY_MODEL_ff6bb6130aa748bd8a7eb926c2e5d426",
       "style": "IPY_MODEL_e6c1cf3d122c42749df6e854af37f50e",
       "value": " 1/1 [00:00&lt;00:00,  1.92it/s]"
      }
     },
     "c7b73c93d77c4190b6a5d12b0f559cfb": {
      "model_module": "@jupyter-widgets/controls",
      "model_module_version": "2.0.0",
      "model_name": "HBoxModel",
      "state": {
       "children": [
        "IPY_MODEL_6e862563358048f4a98d70ebee2455f7",
        "IPY_MODEL_678b4ad58f7243818ba2a9f93d376a10",
        "IPY_MODEL_380518397be0458b8ae1e5b93be33f8b"
       ],
       "layout": "IPY_MODEL_9f46cc06f53b4cbcad3628baaf96e7d1"
      }
     },
     "c7ea0cd3200a4f0c89d43ab69a8e6aad": {
      "model_module": "@jupyter-widgets/controls",
      "model_module_version": "2.0.0",
      "model_name": "HTMLStyleModel",
      "state": {
       "description_width": "",
       "font_size": null,
       "text_color": null
      }
     },
     "c7ee01fd0ac349cdb743e88edd1c8e34": {
      "model_module": "@jupyter-widgets/controls",
      "model_module_version": "2.0.0",
      "model_name": "HBoxModel",
      "state": {
       "children": [
        "IPY_MODEL_9cfea90045c34accab780cd49024e9c0",
        "IPY_MODEL_018537cd845a4fc1996130bea37172e1",
        "IPY_MODEL_b2260bdc131941bca3ba270fb5299033"
       ],
       "layout": "IPY_MODEL_c92923321c0742c58c5db3bd8e3bfdb8"
      }
     },
     "c8059fe9ea734ef4b8285db9966ca45f": {
      "model_module": "@jupyter-widgets/controls",
      "model_module_version": "2.0.0",
      "model_name": "FloatProgressModel",
      "state": {
       "bar_style": "success",
       "layout": "IPY_MODEL_fe1d50ec05dc4988a173491993ccc6e0",
       "max": 1,
       "style": "IPY_MODEL_4b17eab4f2314f5ea72bbf1e4dedfa91",
       "value": 1
      }
     },
     "c81423b84a314d5f9d80fba2a84df60d": {
      "model_module": "@jupyter-widgets/controls",
      "model_module_version": "2.0.0",
      "model_name": "HTMLModel",
      "state": {
       "layout": "IPY_MODEL_6e88760eee8541b586b31431bd72eb76",
       "style": "IPY_MODEL_66cbd1eab2cc4b0c8a170f1da2180489",
       "value": " 1/1 [00:00&lt;00:00,  1.95it/s]"
      }
     },
     "c8bf30e5f78f42959cd6b3d1de898795": {
      "model_module": "@jupyter-widgets/controls",
      "model_module_version": "2.0.0",
      "model_name": "ProgressStyleModel",
      "state": {
       "description_width": ""
      }
     },
     "c8e78d0717504da89a78420cbdd3091d": {
      "model_module": "@jupyter-widgets/controls",
      "model_module_version": "2.0.0",
      "model_name": "FloatProgressModel",
      "state": {
       "bar_style": "success",
       "layout": "IPY_MODEL_c4de24e01b8342d1adc4920df91bc1fe",
       "max": 1,
       "style": "IPY_MODEL_ba639d0efd894495a00e40eb5ad71efa",
       "value": 1
      }
     },
     "c91f6d1665d74e0bb422c96b0c7a8ccc": {
      "model_module": "@jupyter-widgets/controls",
      "model_module_version": "2.0.0",
      "model_name": "HTMLModel",
      "state": {
       "layout": "IPY_MODEL_b222e8076fe2430abc652c685e5daf7e",
       "style": "IPY_MODEL_22f5272a994b43f1935b9a575b93c886",
       "value": " 84258/84258 [00:02&lt;00:00, 44836.73it/s]"
      }
     },
     "c92923321c0742c58c5db3bd8e3bfdb8": {
      "model_module": "@jupyter-widgets/base",
      "model_module_version": "2.0.0",
      "model_name": "LayoutModel",
      "state": {
       "display": "inline-flex",
       "flex_flow": "row wrap",
       "width": "100%"
      }
     },
     "c933d17ffede479a8826089485c8f843": {
      "model_module": "@jupyter-widgets/controls",
      "model_module_version": "2.0.0",
      "model_name": "HTMLModel",
      "state": {
       "layout": "IPY_MODEL_bd8b5de3fae54d3d950c965761d6a1c2",
       "style": "IPY_MODEL_70be47ed42364a048f4055227169d811",
       "value": " 86280/86280 [00:02&lt;00:00, 43459.57it/s]"
      }
     },
     "c97031c4229442d0901ac9a9936cdfec": {
      "model_module": "@jupyter-widgets/controls",
      "model_module_version": "2.0.0",
      "model_name": "HBoxModel",
      "state": {
       "children": [
        "IPY_MODEL_ae08b27025094d6abdce949552f1448e",
        "IPY_MODEL_bae0255e8df2403ebf6c1cd1f218b424",
        "IPY_MODEL_2e4660890b744a18ba6113f6b0d23ab3"
       ],
       "layout": "IPY_MODEL_461f0d7fdb56480db80938283d5725db"
      }
     },
     "c9cb262ca3404724bb8f10acefbb83ba": {
      "model_module": "@jupyter-widgets/controls",
      "model_module_version": "2.0.0",
      "model_name": "HTMLModel",
      "state": {
       "layout": "IPY_MODEL_85ae97f1fff84f1fa0229eb353b51f14",
       "style": "IPY_MODEL_1e40292ce4cd453fbd83a533065ed380",
       "value": "100%"
      }
     },
     "ca581232220c4eb086aca18efdf0d740": {
      "model_module": "@jupyter-widgets/controls",
      "model_module_version": "2.0.0",
      "model_name": "ProgressStyleModel",
      "state": {
       "description_width": ""
      }
     },
     "cab5dff589a04c21badf14674c1e36ad": {
      "model_module": "@jupyter-widgets/base",
      "model_module_version": "2.0.0",
      "model_name": "LayoutModel",
      "state": {
       "flex": "2"
      }
     },
     "caf593a1cab04e9bbb16fba1d76defde": {
      "model_module": "@jupyter-widgets/controls",
      "model_module_version": "2.0.0",
      "model_name": "HTMLStyleModel",
      "state": {
       "description_width": "",
       "font_size": null,
       "text_color": null
      }
     },
     "cb37800063fb44c5ae0220a09c2e2a02": {
      "model_module": "@jupyter-widgets/controls",
      "model_module_version": "2.0.0",
      "model_name": "ProgressStyleModel",
      "state": {
       "description_width": ""
      }
     },
     "cbd0650187e24726a9839c5d3b6a5fdf": {
      "model_module": "@jupyter-widgets/controls",
      "model_module_version": "2.0.0",
      "model_name": "ProgressStyleModel",
      "state": {
       "description_width": ""
      }
     },
     "cbf169776bc74f428195e9292c980665": {
      "model_module": "@jupyter-widgets/base",
      "model_module_version": "2.0.0",
      "model_name": "LayoutModel",
      "state": {
       "flex": "2"
      }
     },
     "cc465320a2014564938fc5c7933deaf6": {
      "model_module": "@jupyter-widgets/base",
      "model_module_version": "2.0.0",
      "model_name": "LayoutModel",
      "state": {
       "display": "inline-flex",
       "flex_flow": "row wrap",
       "width": "100%"
      }
     },
     "cc4692eb81e64b0aabd78d8a461f20a9": {
      "model_module": "@jupyter-widgets/controls",
      "model_module_version": "2.0.0",
      "model_name": "FloatProgressModel",
      "state": {
       "bar_style": "success",
       "layout": "IPY_MODEL_401056bee75e4c81a608b49861e1840a",
       "max": 1,
       "style": "IPY_MODEL_8500c41a83dc49c3921e7a78d79d1d5d",
       "value": 1
      }
     },
     "ccd5b0cdd01b4efeb804608b9bf15d5a": {
      "model_module": "@jupyter-widgets/base",
      "model_module_version": "2.0.0",
      "model_name": "LayoutModel",
      "state": {
       "flex": "2"
      }
     },
     "ccdc80408c4c4e37a2a37591d0132737": {
      "model_module": "@jupyter-widgets/controls",
      "model_module_version": "2.0.0",
      "model_name": "FloatProgressModel",
      "state": {
       "bar_style": "success",
       "layout": "IPY_MODEL_8e333c9e18ce4778a8591ebaf2f738e8",
       "max": 1,
       "style": "IPY_MODEL_e8dc0af436a246a18cd8d12bf8839a98",
       "value": 1
      }
     },
     "cd7adcb05e8946578e04fa7665f8ceca": {
      "model_module": "@jupyter-widgets/controls",
      "model_module_version": "2.0.0",
      "model_name": "ProgressStyleModel",
      "state": {
       "description_width": ""
      }
     },
     "cd8b849dd0c347b4abcb51f77859b8a8": {
      "model_module": "@jupyter-widgets/controls",
      "model_module_version": "2.0.0",
      "model_name": "ProgressStyleModel",
      "state": {
       "description_width": ""
      }
     },
     "cda9ffdb5a1c48869fd4307901faec35": {
      "model_module": "@jupyter-widgets/base",
      "model_module_version": "2.0.0",
      "model_name": "LayoutModel",
      "state": {
       "flex": "2"
      }
     },
     "ce2c6127679f4d0fa43a69e0d54cc54f": {
      "model_module": "@jupyter-widgets/controls",
      "model_module_version": "2.0.0",
      "model_name": "HBoxModel",
      "state": {
       "children": [
        "IPY_MODEL_713708ad445c4ef1bdd5637022be5913",
        "IPY_MODEL_9789e5c524c74e92ba74e58d44802ace",
        "IPY_MODEL_04829ad13acb43318e2dc2bdd3f53813"
       ],
       "layout": "IPY_MODEL_6ece80bbde2d4c4b9c7fe42623a4b002"
      }
     },
     "ce2ea11e674a46439a0c43fa9cbc69ab": {
      "model_module": "@jupyter-widgets/controls",
      "model_module_version": "2.0.0",
      "model_name": "HTMLStyleModel",
      "state": {
       "description_width": "",
       "font_size": null,
       "text_color": null
      }
     },
     "cf0a6ad2aee948c39717f505a5e092a4": {
      "model_module": "@jupyter-widgets/controls",
      "model_module_version": "2.0.0",
      "model_name": "FloatProgressModel",
      "state": {
       "bar_style": "success",
       "layout": "IPY_MODEL_c4784d29c4544d8089f517710a249938",
       "max": 86280,
       "style": "IPY_MODEL_577ae0106c184b9db82c1b0b3ce58eef",
       "value": 86280
      }
     },
     "cf874a4ed50b4f4abab637726b0fbbee": {
      "model_module": "@jupyter-widgets/controls",
      "model_module_version": "2.0.0",
      "model_name": "HTMLStyleModel",
      "state": {
       "description_width": "",
       "font_size": null,
       "text_color": null
      }
     },
     "d08a4db585b340be93220adedcea65ac": {
      "model_module": "@jupyter-widgets/controls",
      "model_module_version": "2.0.0",
      "model_name": "HTMLModel",
      "state": {
       "layout": "IPY_MODEL_b46274d63a744872a03f11fabd952c9a",
       "style": "IPY_MODEL_aa2edc4900a542d2bc255ed40df3967a",
       "value": " 86280/86280 [00:02&lt;00:00, 48410.27it/s]"
      }
     },
     "d0d842355347407596c12d9c724288ef": {
      "model_module": "@jupyter-widgets/controls",
      "model_module_version": "2.0.0",
      "model_name": "FloatProgressModel",
      "state": {
       "bar_style": "success",
       "layout": "IPY_MODEL_d3d7d26fdb0d41eebc61e0f1463b52cd",
       "max": 86280,
       "style": "IPY_MODEL_c501bcb6644844cc9edc9de6fb5eefa0",
       "value": 86280
      }
     },
     "d138109d979c4984be6667b99d61a422": {
      "model_module": "@jupyter-widgets/controls",
      "model_module_version": "2.0.0",
      "model_name": "ProgressStyleModel",
      "state": {
       "description_width": ""
      }
     },
     "d1c951ac6efa4a9fad1947f968a4c6f3": {
      "model_module": "@jupyter-widgets/base",
      "model_module_version": "2.0.0",
      "model_name": "LayoutModel",
      "state": {}
     },
     "d2178d34289f48208da1ef6e57003669": {
      "model_module": "@jupyter-widgets/controls",
      "model_module_version": "2.0.0",
      "model_name": "HTMLStyleModel",
      "state": {
       "description_width": "",
       "font_size": null,
       "text_color": null
      }
     },
     "d329192e108d40d68e815bfb35a13e0c": {
      "model_module": "@jupyter-widgets/controls",
      "model_module_version": "2.0.0",
      "model_name": "HTMLStyleModel",
      "state": {
       "description_width": "",
       "font_size": null,
       "text_color": null
      }
     },
     "d3d7d26fdb0d41eebc61e0f1463b52cd": {
      "model_module": "@jupyter-widgets/base",
      "model_module_version": "2.0.0",
      "model_name": "LayoutModel",
      "state": {
       "flex": "2"
      }
     },
     "d40cec361784427aa5a150b31ac83775": {
      "model_module": "@jupyter-widgets/base",
      "model_module_version": "2.0.0",
      "model_name": "LayoutModel",
      "state": {
       "display": "inline-flex",
       "flex_flow": "row wrap",
       "width": "100%"
      }
     },
     "d411b395001344c5a1cd23e6b776ded0": {
      "model_module": "@jupyter-widgets/controls",
      "model_module_version": "2.0.0",
      "model_name": "HTMLModel",
      "state": {
       "layout": "IPY_MODEL_3a4a8e22f05943478b2df55287ab43f2",
       "style": "IPY_MODEL_eaec019b86a54e5c917acbed6f371ce9",
       "value": " 1/1 [00:00&lt;00:00,  1.93it/s]"
      }
     },
     "d4274f33609b480daceee7308a0aabcb": {
      "model_module": "@jupyter-widgets/controls",
      "model_module_version": "2.0.0",
      "model_name": "HTMLStyleModel",
      "state": {
       "description_width": "",
       "font_size": null,
       "text_color": null
      }
     },
     "d42d947e2ac643ab9c8eb55729850818": {
      "model_module": "@jupyter-widgets/base",
      "model_module_version": "2.0.0",
      "model_name": "LayoutModel",
      "state": {
       "display": "inline-flex",
       "flex_flow": "row wrap",
       "width": "100%"
      }
     },
     "d599284842e44af4ba11eb2253bfe198": {
      "model_module": "@jupyter-widgets/controls",
      "model_module_version": "2.0.0",
      "model_name": "HTMLModel",
      "state": {
       "layout": "IPY_MODEL_66e4d3d507164d218393a13ba53b8ec2",
       "style": "IPY_MODEL_540cb8a887844a21bff5a475bdc182b9",
       "value": "100%"
      }
     },
     "d5a74c08e8b14f0d935cce5d6b6e7835": {
      "model_module": "@jupyter-widgets/controls",
      "model_module_version": "2.0.0",
      "model_name": "HTMLModel",
      "state": {
       "layout": "IPY_MODEL_9de9f8903779471998915c655009834a",
       "style": "IPY_MODEL_ff7a7bce7067474e918149b9867e4820",
       "value": " 1/1 [00:00&lt;00:00,  1.34it/s]"
      }
     },
     "d5b9b5bec8e34d4aba80df762f8f12df": {
      "model_module": "@jupyter-widgets/controls",
      "model_module_version": "2.0.0",
      "model_name": "FloatProgressModel",
      "state": {
       "bar_style": "success",
       "layout": "IPY_MODEL_4307b559cc8442a2a49df3d08d7388f5",
       "max": 1,
       "style": "IPY_MODEL_43c808b209a34a599b17ff238154b2d7",
       "value": 1
      }
     },
     "d5e1357821f94865805bffe42c5c4001": {
      "model_module": "@jupyter-widgets/base",
      "model_module_version": "2.0.0",
      "model_name": "LayoutModel",
      "state": {}
     },
     "d69cee938946429d99f739a9c89f94ac": {
      "model_module": "@jupyter-widgets/controls",
      "model_module_version": "2.0.0",
      "model_name": "HTMLStyleModel",
      "state": {
       "description_width": "",
       "font_size": null,
       "text_color": null
      }
     },
     "d6b0cb18d72c46799a055ff16de04e1d": {
      "model_module": "@jupyter-widgets/base",
      "model_module_version": "2.0.0",
      "model_name": "LayoutModel",
      "state": {}
     },
     "d6e773980e0d45e08e469ec340dcf758": {
      "model_module": "@jupyter-widgets/base",
      "model_module_version": "2.0.0",
      "model_name": "LayoutModel",
      "state": {}
     },
     "d6eecbf2668d4d4cac93e875ccc30593": {
      "model_module": "@jupyter-widgets/base",
      "model_module_version": "2.0.0",
      "model_name": "LayoutModel",
      "state": {}
     },
     "d724f0bcaadd49e7bf16187df6a1e76b": {
      "model_module": "@jupyter-widgets/base",
      "model_module_version": "2.0.0",
      "model_name": "LayoutModel",
      "state": {
       "display": "inline-flex",
       "flex_flow": "row wrap",
       "width": "100%"
      }
     },
     "d7e198a474694ba9a25442ee58643ad9": {
      "model_module": "@jupyter-widgets/controls",
      "model_module_version": "2.0.0",
      "model_name": "HTMLStyleModel",
      "state": {
       "description_width": "",
       "font_size": null,
       "text_color": null
      }
     },
     "d85394893c0a4a1497d1bf03e325b85f": {
      "model_module": "@jupyter-widgets/controls",
      "model_module_version": "2.0.0",
      "model_name": "HTMLModel",
      "state": {
       "layout": "IPY_MODEL_3be55f15cf2449478486421c7c8d3a13",
       "style": "IPY_MODEL_da550d09a5e7451bb9d717071732cf3e",
       "value": "100%"
      }
     },
     "d93c90c40a72409ebfd3144ecfa5e451": {
      "model_module": "@jupyter-widgets/controls",
      "model_module_version": "2.0.0",
      "model_name": "HTMLStyleModel",
      "state": {
       "description_width": "",
       "font_size": null,
       "text_color": null
      }
     },
     "d958aae2e5734e4dbf03c15f4c8fa21a": {
      "model_module": "@jupyter-widgets/controls",
      "model_module_version": "2.0.0",
      "model_name": "HTMLStyleModel",
      "state": {
       "description_width": "",
       "font_size": null,
       "text_color": null
      }
     },
     "d995feefa9c349aebbe81996e0996ab8": {
      "model_module": "@jupyter-widgets/controls",
      "model_module_version": "2.0.0",
      "model_name": "HTMLModel",
      "state": {
       "layout": "IPY_MODEL_b2a0befeabbe42738dca4b5bc735d7b0",
       "style": "IPY_MODEL_9c32363703c3431283319661befb994d",
       "value": "100%"
      }
     },
     "d9c26158eb7f42e1af978b3af44c8524": {
      "model_module": "@jupyter-widgets/base",
      "model_module_version": "2.0.0",
      "model_name": "LayoutModel",
      "state": {}
     },
     "d9e2ad29e23e4135952f2b10a8b9bf41": {
      "model_module": "@jupyter-widgets/controls",
      "model_module_version": "2.0.0",
      "model_name": "HTMLStyleModel",
      "state": {
       "description_width": "",
       "font_size": null,
       "text_color": null
      }
     },
     "d9f17866a10d4b27a56ef28e1890f4d8": {
      "model_module": "@jupyter-widgets/controls",
      "model_module_version": "2.0.0",
      "model_name": "FloatProgressModel",
      "state": {
       "bar_style": "success",
       "layout": "IPY_MODEL_18a3077f417f4de19a5ccc367efb5402",
       "max": 1,
       "style": "IPY_MODEL_5ad86aaa75f04e1e9c6f89cf6788ca94",
       "value": 1
      }
     },
     "da05d9556c9844ec9dc14e74ce9d6329": {
      "model_module": "@jupyter-widgets/controls",
      "model_module_version": "2.0.0",
      "model_name": "HTMLModel",
      "state": {
       "layout": "IPY_MODEL_c561ae2adf284ab698c79d5774adb20b",
       "style": "IPY_MODEL_6fead81a437348fba55f1602c6efcf46",
       "value": "100%"
      }
     },
     "da2bfd1b8e1846569310c8dcf7dc237c": {
      "model_module": "@jupyter-widgets/base",
      "model_module_version": "2.0.0",
      "model_name": "LayoutModel",
      "state": {}
     },
     "da550d09a5e7451bb9d717071732cf3e": {
      "model_module": "@jupyter-widgets/controls",
      "model_module_version": "2.0.0",
      "model_name": "HTMLStyleModel",
      "state": {
       "description_width": "",
       "font_size": null,
       "text_color": null
      }
     },
     "da81f80c65e844d796600c1f20da0663": {
      "model_module": "@jupyter-widgets/controls",
      "model_module_version": "2.0.0",
      "model_name": "HBoxModel",
      "state": {
       "children": [
        "IPY_MODEL_d85394893c0a4a1497d1bf03e325b85f",
        "IPY_MODEL_85745a0481c847c2be8762de42c87f1b",
        "IPY_MODEL_a6a5b3bea04b4e76a052a338690dd7d9"
       ],
       "layout": "IPY_MODEL_e468418795934046a59b3e56ed4437f3"
      }
     },
     "da8e1b63d81b4be8a6625eeb7e786cf8": {
      "model_module": "@jupyter-widgets/controls",
      "model_module_version": "2.0.0",
      "model_name": "HTMLStyleModel",
      "state": {
       "description_width": "",
       "font_size": null,
       "text_color": null
      }
     },
     "db24b564bb4a4a989474402cbbd5760a": {
      "model_module": "@jupyter-widgets/base",
      "model_module_version": "2.0.0",
      "model_name": "LayoutModel",
      "state": {
       "display": "inline-flex",
       "flex_flow": "row wrap",
       "width": "100%"
      }
     },
     "db5936d6d27b4b16b46c4318d5dcc1d6": {
      "model_module": "@jupyter-widgets/controls",
      "model_module_version": "2.0.0",
      "model_name": "ProgressStyleModel",
      "state": {
       "description_width": ""
      }
     },
     "dbfcbef9558e4fa8912d72fd94dd841c": {
      "model_module": "@jupyter-widgets/base",
      "model_module_version": "2.0.0",
      "model_name": "LayoutModel",
      "state": {
       "display": "inline-flex",
       "flex_flow": "row wrap",
       "width": "100%"
      }
     },
     "dc022bcef9e5478a8fac8c3959c7d2d7": {
      "model_module": "@jupyter-widgets/controls",
      "model_module_version": "2.0.0",
      "model_name": "HTMLModel",
      "state": {
       "layout": "IPY_MODEL_271dfe636e8941eb9160162ee76c96ec",
       "style": "IPY_MODEL_fceea81efd434c89bb3fdfd96390e7cb",
       "value": "Loading Raw Data: 100%"
      }
     },
     "dcabbd73fba043399f89f6e14def46da": {
      "model_module": "@jupyter-widgets/base",
      "model_module_version": "2.0.0",
      "model_name": "LayoutModel",
      "state": {}
     },
     "dcb1b7acfc4a4a44afba4e3ba90f3634": {
      "model_module": "@jupyter-widgets/controls",
      "model_module_version": "2.0.0",
      "model_name": "HTMLModel",
      "state": {
       "layout": "IPY_MODEL_11d042808b804f2a8037a1bd2802f8b5",
       "style": "IPY_MODEL_854e69bb20fc4d7eb817c57fe393d4b3",
       "value": " 28800/28800 [00:01&lt;00:00, 37325.87it/s]"
      }
     },
     "dd132a0696314bd4b427562f81646eef": {
      "model_module": "@jupyter-widgets/controls",
      "model_module_version": "2.0.0",
      "model_name": "HTMLModel",
      "state": {
       "layout": "IPY_MODEL_e3b0c855c17e4b88ab29c9c6e29b339c",
       "style": "IPY_MODEL_980407ebc8604f57a52ff006c52782b5",
       "value": "100%"
      }
     },
     "dd1b58d359e5426b8a1ad56f3090d1d1": {
      "model_module": "@jupyter-widgets/controls",
      "model_module_version": "2.0.0",
      "model_name": "FloatProgressModel",
      "state": {
       "bar_style": "success",
       "layout": "IPY_MODEL_ccd5b0cdd01b4efeb804608b9bf15d5a",
       "max": 84258,
       "style": "IPY_MODEL_892be460d336487a87c4b4a8f996da7a",
       "value": 84258
      }
     },
     "dddc459bcbe243f4a6b144b3989c1023": {
      "model_module": "@jupyter-widgets/controls",
      "model_module_version": "2.0.0",
      "model_name": "HTMLModel",
      "state": {
       "layout": "IPY_MODEL_3ce7b133292143df9bb6d4e55715b1fc",
       "style": "IPY_MODEL_67f966c1b46f4f649d074c38e9210060",
       "value": "100%"
      }
     },
     "de81cf4a3a3048708bf9645d007c588d": {
      "model_module": "@jupyter-widgets/base",
      "model_module_version": "2.0.0",
      "model_name": "LayoutModel",
      "state": {
       "display": "inline-flex",
       "flex_flow": "row wrap",
       "width": "100%"
      }
     },
     "df5c9445117b4b7e90e628d2e0e756fd": {
      "model_module": "@jupyter-widgets/controls",
      "model_module_version": "2.0.0",
      "model_name": "HTMLStyleModel",
      "state": {
       "description_width": "",
       "font_size": null,
       "text_color": null
      }
     },
     "df73a8a870d84845a3a6af943a6bd864": {
      "model_module": "@jupyter-widgets/controls",
      "model_module_version": "2.0.0",
      "model_name": "FloatProgressModel",
      "state": {
       "bar_style": "success",
       "layout": "IPY_MODEL_77fc46f23dcf49848a4b6b487570898f",
       "max": 1,
       "style": "IPY_MODEL_8c2cfd0c71174ea39ec9df326a71abbb",
       "value": 1
      }
     },
     "dfa9a4b0d6ce460a879f31f28c4ae4ac": {
      "model_module": "@jupyter-widgets/controls",
      "model_module_version": "2.0.0",
      "model_name": "HTMLStyleModel",
      "state": {
       "description_width": "",
       "font_size": null,
       "text_color": null
      }
     },
     "e0d249005c6f4844a468d8655664c816": {
      "model_module": "@jupyter-widgets/controls",
      "model_module_version": "2.0.0",
      "model_name": "HTMLStyleModel",
      "state": {
       "description_width": "",
       "font_size": null,
       "text_color": null
      }
     },
     "e1a65232caf4432c81e5052f478ed0bd": {
      "model_module": "@jupyter-widgets/controls",
      "model_module_version": "2.0.0",
      "model_name": "HTMLModel",
      "state": {
       "layout": "IPY_MODEL_61a494bb46394fbcb53c2f9438666877",
       "style": "IPY_MODEL_3b4c6df85b4a4742ac74170936fb5f93",
       "value": "Loading Raw Data: 100%"
      }
     },
     "e1e793387dac4edf8821f4f9f14a67bf": {
      "model_module": "@jupyter-widgets/controls",
      "model_module_version": "2.0.0",
      "model_name": "HTMLModel",
      "state": {
       "layout": "IPY_MODEL_d1c951ac6efa4a9fad1947f968a4c6f3",
       "style": "IPY_MODEL_7927ddc73d2743bb89be648eca5646eb",
       "value": " 1/1 [00:00&lt;00:00,  1.89it/s]"
      }
     },
     "e2066c64eab74732a411a56c10ea4862": {
      "model_module": "@jupyter-widgets/base",
      "model_module_version": "2.0.0",
      "model_name": "LayoutModel",
      "state": {
       "flex": "2"
      }
     },
     "e28ab76116c74dbdbfff50f50d8d349a": {
      "model_module": "@jupyter-widgets/controls",
      "model_module_version": "2.0.0",
      "model_name": "HTMLModel",
      "state": {
       "layout": "IPY_MODEL_b98143f85dc445499e84a4a35e7fc621",
       "style": "IPY_MODEL_232c1e8026a24f4a99b1c0c26a33c427",
       "value": "Loading Raw Data: 100%"
      }
     },
     "e2d3893b7219438da251c61c1dde9cfc": {
      "model_module": "@jupyter-widgets/controls",
      "model_module_version": "2.0.0",
      "model_name": "HTMLStyleModel",
      "state": {
       "description_width": "",
       "font_size": null,
       "text_color": null
      }
     },
     "e324574827f04a2ebe9f216d1e96d921": {
      "model_module": "@jupyter-widgets/base",
      "model_module_version": "2.0.0",
      "model_name": "LayoutModel",
      "state": {}
     },
     "e335ec26e0614400b302f745e1167972": {
      "model_module": "@jupyter-widgets/controls",
      "model_module_version": "2.0.0",
      "model_name": "HBoxModel",
      "state": {
       "children": [
        "IPY_MODEL_5f282f021bd74c568291e53dced1abe4",
        "IPY_MODEL_6678d2f945af4d48893406a4c5508f4f",
        "IPY_MODEL_9b3568fb534a4329a8f1cbda2a30a105"
       ],
       "layout": "IPY_MODEL_15fe6f2d16ec42f3ac1521497de54145"
      }
     },
     "e383a493d63748f2a0d6123f62b3f77e": {
      "model_module": "@jupyter-widgets/base",
      "model_module_version": "2.0.0",
      "model_name": "LayoutModel",
      "state": {}
     },
     "e38588a2ffc54508b56a1dc14d335eb4": {
      "model_module": "@jupyter-widgets/controls",
      "model_module_version": "2.0.0",
      "model_name": "HTMLStyleModel",
      "state": {
       "description_width": "",
       "font_size": null,
       "text_color": null
      }
     },
     "e387eef15db44ea29f9c2351bf099833": {
      "model_module": "@jupyter-widgets/base",
      "model_module_version": "2.0.0",
      "model_name": "LayoutModel",
      "state": {}
     },
     "e3b0c855c17e4b88ab29c9c6e29b339c": {
      "model_module": "@jupyter-widgets/base",
      "model_module_version": "2.0.0",
      "model_name": "LayoutModel",
      "state": {}
     },
     "e406851e8d4141a584445c1a26b5fb23": {
      "model_module": "@jupyter-widgets/controls",
      "model_module_version": "2.0.0",
      "model_name": "ProgressStyleModel",
      "state": {
       "description_width": ""
      }
     },
     "e447c7f6849c40a8a80ba42063064191": {
      "model_module": "@jupyter-widgets/controls",
      "model_module_version": "2.0.0",
      "model_name": "HTMLModel",
      "state": {
       "layout": "IPY_MODEL_e5350c36f21a45f0a71e102bb8c2b028",
       "style": "IPY_MODEL_e71d851e7b684712ac5a69d4c55a2085",
       "value": "100%"
      }
     },
     "e468418795934046a59b3e56ed4437f3": {
      "model_module": "@jupyter-widgets/base",
      "model_module_version": "2.0.0",
      "model_name": "LayoutModel",
      "state": {
       "display": "inline-flex",
       "flex_flow": "row wrap",
       "width": "100%"
      }
     },
     "e4870a5381b946849457b7a01ea2a898": {
      "model_module": "@jupyter-widgets/base",
      "model_module_version": "2.0.0",
      "model_name": "LayoutModel",
      "state": {}
     },
     "e4b4ba6c68354780b631e2cb6dd92703": {
      "model_module": "@jupyter-widgets/controls",
      "model_module_version": "2.0.0",
      "model_name": "HTMLModel",
      "state": {
       "layout": "IPY_MODEL_b2f6a6ddb9534251885c8ccba0a15c01",
       "style": "IPY_MODEL_afa4ec022fa14c3db7b064bca640a3e0",
       "value": "100%"
      }
     },
     "e5350c36f21a45f0a71e102bb8c2b028": {
      "model_module": "@jupyter-widgets/base",
      "model_module_version": "2.0.0",
      "model_name": "LayoutModel",
      "state": {}
     },
     "e61c564edde247bcb93e8c0f0ebe0348": {
      "model_module": "@jupyter-widgets/base",
      "model_module_version": "2.0.0",
      "model_name": "LayoutModel",
      "state": {
       "flex": "2"
      }
     },
     "e62549e099464a3ab34f360041204787": {
      "model_module": "@jupyter-widgets/base",
      "model_module_version": "2.0.0",
      "model_name": "LayoutModel",
      "state": {}
     },
     "e63357320bd840a291ca79f7359628a0": {
      "model_module": "@jupyter-widgets/controls",
      "model_module_version": "2.0.0",
      "model_name": "HTMLModel",
      "state": {
       "layout": "IPY_MODEL_2264563708074662aa2c315bf88e881c",
       "style": "IPY_MODEL_5540bdd2cc104603b6cdf1d30d2d4f7f",
       "value": "Loading Raw Data: 100%"
      }
     },
     "e6785df58da14e34b58887e6a25ec24f": {
      "model_module": "@jupyter-widgets/base",
      "model_module_version": "2.0.0",
      "model_name": "LayoutModel",
      "state": {}
     },
     "e6c1cf3d122c42749df6e854af37f50e": {
      "model_module": "@jupyter-widgets/controls",
      "model_module_version": "2.0.0",
      "model_name": "HTMLStyleModel",
      "state": {
       "description_width": "",
       "font_size": null,
       "text_color": null
      }
     },
     "e6f04c6bf5d94bbe9956376bf03773be": {
      "model_module": "@jupyter-widgets/controls",
      "model_module_version": "2.0.0",
      "model_name": "HTMLModel",
      "state": {
       "layout": "IPY_MODEL_5b7e5c1e13ed4b5c8c581e58189fea2e",
       "style": "IPY_MODEL_df5c9445117b4b7e90e628d2e0e756fd",
       "value": "Loading Raw Data: 100%"
      }
     },
     "e71d851e7b684712ac5a69d4c55a2085": {
      "model_module": "@jupyter-widgets/controls",
      "model_module_version": "2.0.0",
      "model_name": "HTMLStyleModel",
      "state": {
       "description_width": "",
       "font_size": null,
       "text_color": null
      }
     },
     "e72fbb7f78ac46e7854c91f6a9f6a6af": {
      "model_module": "@jupyter-widgets/controls",
      "model_module_version": "2.0.0",
      "model_name": "FloatProgressModel",
      "state": {
       "bar_style": "success",
       "layout": "IPY_MODEL_e61c564edde247bcb93e8c0f0ebe0348",
       "max": 1,
       "style": "IPY_MODEL_cbd0650187e24726a9839c5d3b6a5fdf",
       "value": 1
      }
     },
     "e742a0c6bb57400ba7beea8561547079": {
      "model_module": "@jupyter-widgets/controls",
      "model_module_version": "2.0.0",
      "model_name": "HBoxModel",
      "state": {
       "children": [
        "IPY_MODEL_0c664ea17ccc4bd599b638d7ed7e3b05",
        "IPY_MODEL_1729205f2ffd4064a3841ef465addb05",
        "IPY_MODEL_6ce94bdd6e5f4c9796eec2babb148ea6"
       ],
       "layout": "IPY_MODEL_db24b564bb4a4a989474402cbbd5760a"
      }
     },
     "e7870d8698bc4917a54af39af86529be": {
      "model_module": "@jupyter-widgets/controls",
      "model_module_version": "2.0.0",
      "model_name": "HTMLStyleModel",
      "state": {
       "description_width": "",
       "font_size": null,
       "text_color": null
      }
     },
     "e7dbfce5ed844373aa58cdd4e8c71f4d": {
      "model_module": "@jupyter-widgets/controls",
      "model_module_version": "2.0.0",
      "model_name": "HBoxModel",
      "state": {
       "children": [
        "IPY_MODEL_8508cb87a7ea4c84a72a273f52d5fcb2",
        "IPY_MODEL_6e92b1c052984cd8ba8071c241f344b6",
        "IPY_MODEL_334e6ff2fd914830bf1d3cb6c4be2259"
       ],
       "layout": "IPY_MODEL_446ca967a91446108b3951fed6a81176"
      }
     },
     "e86ecb01e5a4414e8fcbf60dd881ecba": {
      "model_module": "@jupyter-widgets/controls",
      "model_module_version": "2.0.0",
      "model_name": "FloatProgressModel",
      "state": {
       "bar_style": "success",
       "layout": "IPY_MODEL_8edfaf32c7fa474c96b71a02de4700b9",
       "max": 28125,
       "style": "IPY_MODEL_1c649dc4925d4114836b6e7ac723f520",
       "value": 28125
      }
     },
     "e88292c2c7aa4dea84e56dd4f78da8fc": {
      "model_module": "@jupyter-widgets/controls",
      "model_module_version": "2.0.0",
      "model_name": "ProgressStyleModel",
      "state": {
       "description_width": ""
      }
     },
     "e8dc0af436a246a18cd8d12bf8839a98": {
      "model_module": "@jupyter-widgets/controls",
      "model_module_version": "2.0.0",
      "model_name": "ProgressStyleModel",
      "state": {
       "description_width": ""
      }
     },
     "e8de5606d944499883dea269de7cf498": {
      "model_module": "@jupyter-widgets/controls",
      "model_module_version": "2.0.0",
      "model_name": "HTMLModel",
      "state": {
       "layout": "IPY_MODEL_d6e773980e0d45e08e469ec340dcf758",
       "style": "IPY_MODEL_5a1622aa67054930b6d90655d5114748",
       "value": " 1/1 [00:00&lt;00:00,  1.82it/s]"
      }
     },
     "e93a1cb810dc4795b948b2b9321f7968": {
      "model_module": "@jupyter-widgets/base",
      "model_module_version": "2.0.0",
      "model_name": "LayoutModel",
      "state": {}
     },
     "ea762fcc5282415caea8002c37f0c347": {
      "model_module": "@jupyter-widgets/base",
      "model_module_version": "2.0.0",
      "model_name": "LayoutModel",
      "state": {
       "display": "inline-flex",
       "flex_flow": "row wrap",
       "width": "100%"
      }
     },
     "eaec019b86a54e5c917acbed6f371ce9": {
      "model_module": "@jupyter-widgets/controls",
      "model_module_version": "2.0.0",
      "model_name": "HTMLStyleModel",
      "state": {
       "description_width": "",
       "font_size": null,
       "text_color": null
      }
     },
     "eb589d95e7c34162a5e29c559af0c0bc": {
      "model_module": "@jupyter-widgets/base",
      "model_module_version": "2.0.0",
      "model_name": "LayoutModel",
      "state": {}
     },
     "ebb44c69ffa3452bbe56781327517157": {
      "model_module": "@jupyter-widgets/controls",
      "model_module_version": "2.0.0",
      "model_name": "HTMLStyleModel",
      "state": {
       "description_width": "",
       "font_size": null,
       "text_color": null
      }
     },
     "ec28268ae5b047c4b8713cdb4074d961": {
      "model_module": "@jupyter-widgets/base",
      "model_module_version": "2.0.0",
      "model_name": "LayoutModel",
      "state": {}
     },
     "ec31957e7eb446698f36e738c6dc1dd3": {
      "model_module": "@jupyter-widgets/controls",
      "model_module_version": "2.0.0",
      "model_name": "ProgressStyleModel",
      "state": {
       "description_width": ""
      }
     },
     "ec3b9821270f47d28b85a91a1b6ae32c": {
      "model_module": "@jupyter-widgets/base",
      "model_module_version": "2.0.0",
      "model_name": "LayoutModel",
      "state": {
       "display": "inline-flex",
       "flex_flow": "row wrap",
       "width": "100%"
      }
     },
     "ecda242378cc482ca29a6834ac65b074": {
      "model_module": "@jupyter-widgets/controls",
      "model_module_version": "2.0.0",
      "model_name": "HTMLStyleModel",
      "state": {
       "description_width": "",
       "font_size": null,
       "text_color": null
      }
     },
     "ed826cb7386943d8a8ad2ee754a61289": {
      "model_module": "@jupyter-widgets/base",
      "model_module_version": "2.0.0",
      "model_name": "LayoutModel",
      "state": {}
     },
     "edaaebc91bf94d63a8cf8c393078ee42": {
      "model_module": "@jupyter-widgets/base",
      "model_module_version": "2.0.0",
      "model_name": "LayoutModel",
      "state": {}
     },
     "edb8959bc0d04ad795639f9668a5ccbd": {
      "model_module": "@jupyter-widgets/base",
      "model_module_version": "2.0.0",
      "model_name": "LayoutModel",
      "state": {
       "flex": "2"
      }
     },
     "eef21fc09179477189bf7691b18ae48d": {
      "model_module": "@jupyter-widgets/base",
      "model_module_version": "2.0.0",
      "model_name": "LayoutModel",
      "state": {
       "flex": "2"
      }
     },
     "ef2485fea90c4d54b1b0e32b0efcae57": {
      "model_module": "@jupyter-widgets/controls",
      "model_module_version": "2.0.0",
      "model_name": "HBoxModel",
      "state": {
       "children": [
        "IPY_MODEL_da05d9556c9844ec9dc14e74ce9d6329",
        "IPY_MODEL_dd1b58d359e5426b8a1ad56f3090d1d1",
        "IPY_MODEL_fde7e90dab0541bbb18d0b4fd44cbc9e"
       ],
       "layout": "IPY_MODEL_7a35f8b25696414fa8b39082fd6088b1"
      }
     },
     "ef585b2ca16b4fd68df84f3cada4055e": {
      "model_module": "@jupyter-widgets/base",
      "model_module_version": "2.0.0",
      "model_name": "LayoutModel",
      "state": {
       "flex": "2"
      }
     },
     "efeaf7a12f5b433ca0588d7344b105c0": {
      "model_module": "@jupyter-widgets/base",
      "model_module_version": "2.0.0",
      "model_name": "LayoutModel",
      "state": {}
     },
     "f0109d3c7fdb4cb8abcc8ac3c2ed3d2a": {
      "model_module": "@jupyter-widgets/controls",
      "model_module_version": "2.0.0",
      "model_name": "FloatProgressModel",
      "state": {
       "bar_style": "success",
       "layout": "IPY_MODEL_9e07c2f450c045bdb23fe3f2d891207f",
       "max": 1,
       "style": "IPY_MODEL_b753f350a8eb405cb78df30747a4fa5f",
       "value": 1
      }
     },
     "f0c087f7d08a49fcb761593d180be7eb": {
      "model_module": "@jupyter-widgets/controls",
      "model_module_version": "2.0.0",
      "model_name": "FloatProgressModel",
      "state": {
       "bar_style": "success",
       "layout": "IPY_MODEL_4d6dff98538f40f8aeccbc1761a9c3df",
       "max": 84258,
       "style": "IPY_MODEL_b48ff08a5f0946f992ac8e09ee5bba4c",
       "value": 84258
      }
     },
     "f0d2343dda1a44818ff76d3e9759efe3": {
      "model_module": "@jupyter-widgets/controls",
      "model_module_version": "2.0.0",
      "model_name": "HTMLModel",
      "state": {
       "layout": "IPY_MODEL_a23ecabda0e0413887925207a700fe69",
       "style": "IPY_MODEL_8b329fab75be47639e54476718dc874d",
       "value": " 86280/86280 [00:02&lt;00:00, 46163.37it/s]"
      }
     },
     "f0ff3a2d52a84cba95c37fd88cd3c6b3": {
      "model_module": "@jupyter-widgets/base",
      "model_module_version": "2.0.0",
      "model_name": "LayoutModel",
      "state": {}
     },
     "f1226496f9fe4c768b9055445948edec": {
      "model_module": "@jupyter-widgets/base",
      "model_module_version": "2.0.0",
      "model_name": "LayoutModel",
      "state": {}
     },
     "f143b612ffa5445cb4483128d3efe946": {
      "model_module": "@jupyter-widgets/controls",
      "model_module_version": "2.0.0",
      "model_name": "HTMLModel",
      "state": {
       "layout": "IPY_MODEL_68bbff1465fd43fe81b03d6062de4f5b",
       "style": "IPY_MODEL_256dd6f55445451bb23870051fd826f5",
       "value": " 1/1 [00:00&lt;00:00,  1.26it/s]"
      }
     },
     "f15ee4fe40e24a4aa6128bba6b825965": {
      "model_module": "@jupyter-widgets/base",
      "model_module_version": "2.0.0",
      "model_name": "LayoutModel",
      "state": {}
     },
     "f1615c2d9b2e4228b486935efac488a3": {
      "model_module": "@jupyter-widgets/base",
      "model_module_version": "2.0.0",
      "model_name": "LayoutModel",
      "state": {}
     },
     "f18374f793834e3ebf1133ae355eb266": {
      "model_module": "@jupyter-widgets/controls",
      "model_module_version": "2.0.0",
      "model_name": "HTMLModel",
      "state": {
       "layout": "IPY_MODEL_5f19339ed25449839b66dfeb7dcf9aa4",
       "style": "IPY_MODEL_7a664e4f4d4d49bd8c1d968c1ed068e8",
       "value": "Loading Raw Data: 100%"
      }
     },
     "f19282865e8041baa45cab9f9572fcc0": {
      "model_module": "@jupyter-widgets/base",
      "model_module_version": "2.0.0",
      "model_name": "LayoutModel",
      "state": {
       "flex": "2"
      }
     },
     "f1d9bc901d5d4472b7a96d09c6b8c574": {
      "model_module": "@jupyter-widgets/controls",
      "model_module_version": "2.0.0",
      "model_name": "HBoxModel",
      "state": {
       "children": [
        "IPY_MODEL_e447c7f6849c40a8a80ba42063064191",
        "IPY_MODEL_cf0a6ad2aee948c39717f505a5e092a4",
        "IPY_MODEL_8bf92a7ef39a4888857148286a6af054"
       ],
       "layout": "IPY_MODEL_72dd7b89933649c8b726aebff32b392f"
      }
     },
     "f27557719ed94a43b982749b8093bbb3": {
      "model_module": "@jupyter-widgets/base",
      "model_module_version": "2.0.0",
      "model_name": "LayoutModel",
      "state": {
       "flex": "2"
      }
     },
     "f2eddca8663c412bbbfae48e92653569": {
      "model_module": "@jupyter-widgets/controls",
      "model_module_version": "2.0.0",
      "model_name": "HTMLModel",
      "state": {
       "layout": "IPY_MODEL_fc137271b791410389b307aebfab69e2",
       "style": "IPY_MODEL_d69cee938946429d99f739a9c89f94ac",
       "value": " 1/1 [00:00&lt;00:00,  1.96it/s]"
      }
     },
     "f35b29f251284080b202bfff48de9e1c": {
      "model_module": "@jupyter-widgets/controls",
      "model_module_version": "2.0.0",
      "model_name": "ProgressStyleModel",
      "state": {
       "description_width": ""
      }
     },
     "f3a9c16272b64316a879466b47fd7134": {
      "model_module": "@jupyter-widgets/controls",
      "model_module_version": "2.0.0",
      "model_name": "HTMLModel",
      "state": {
       "layout": "IPY_MODEL_5f03702ed82d40b49b9f4404b4a63bb3",
       "style": "IPY_MODEL_5123ca34b1b64b199215a15f3c5d4950",
       "value": "Loading Raw Data: 100%"
      }
     },
     "f3e6ebc308b348709e22cae12b9d4723": {
      "model_module": "@jupyter-widgets/controls",
      "model_module_version": "2.0.0",
      "model_name": "HBoxModel",
      "state": {
       "children": [
        "IPY_MODEL_720427d0389744e7a9eb7c73ff068d51",
        "IPY_MODEL_830b99ec97844f69b7561c8449972c0f",
        "IPY_MODEL_f684d29248934ad595319480571ea60c"
       ],
       "layout": "IPY_MODEL_6b502cb6f31049998d83b0fd272b4da4"
      }
     },
     "f3f77884be2e420d88f8b45210d866ff": {
      "model_module": "@jupyter-widgets/base",
      "model_module_version": "2.0.0",
      "model_name": "LayoutModel",
      "state": {
       "flex": "2"
      }
     },
     "f404d7e4e7644efab9b165220456b314": {
      "model_module": "@jupyter-widgets/controls",
      "model_module_version": "2.0.0",
      "model_name": "ProgressStyleModel",
      "state": {
       "description_width": ""
      }
     },
     "f41e4632ff6f47878cda9ed2d9724ae6": {
      "model_module": "@jupyter-widgets/controls",
      "model_module_version": "2.0.0",
      "model_name": "HTMLStyleModel",
      "state": {
       "description_width": "",
       "font_size": null,
       "text_color": null
      }
     },
     "f4c651d0dcd24ea19282ca924a1de53a": {
      "model_module": "@jupyter-widgets/controls",
      "model_module_version": "2.0.0",
      "model_name": "HBoxModel",
      "state": {
       "children": [
        "IPY_MODEL_d995feefa9c349aebbe81996e0996ab8",
        "IPY_MODEL_31dc289796b74aab8eedd65f09b6fe04",
        "IPY_MODEL_7c737ea209e94bc8889ef0c7b6deff69"
       ],
       "layout": "IPY_MODEL_d42d947e2ac643ab9c8eb55729850818"
      }
     },
     "f557c43861664b3ab1ec8d616cf15c10": {
      "model_module": "@jupyter-widgets/controls",
      "model_module_version": "2.0.0",
      "model_name": "HTMLStyleModel",
      "state": {
       "description_width": "",
       "font_size": null,
       "text_color": null
      }
     },
     "f58211b7a1dc4c6c9befa8a45f19f464": {
      "model_module": "@jupyter-widgets/base",
      "model_module_version": "2.0.0",
      "model_name": "LayoutModel",
      "state": {
       "display": "inline-flex",
       "flex_flow": "row wrap",
       "width": "100%"
      }
     },
     "f5954f2de9ad4d7698e9c592004d365e": {
      "model_module": "@jupyter-widgets/base",
      "model_module_version": "2.0.0",
      "model_name": "LayoutModel",
      "state": {}
     },
     "f5dfa3302ad84d99b8addd059ff32b92": {
      "model_module": "@jupyter-widgets/base",
      "model_module_version": "2.0.0",
      "model_name": "LayoutModel",
      "state": {}
     },
     "f64c73069ab848e58bb9e5918f48d990": {
      "model_module": "@jupyter-widgets/controls",
      "model_module_version": "2.0.0",
      "model_name": "HTMLStyleModel",
      "state": {
       "description_width": "",
       "font_size": null,
       "text_color": null
      }
     },
     "f684d29248934ad595319480571ea60c": {
      "model_module": "@jupyter-widgets/controls",
      "model_module_version": "2.0.0",
      "model_name": "HTMLModel",
      "state": {
       "layout": "IPY_MODEL_26f3f87fb32c465fb130ad0035d098ab",
       "style": "IPY_MODEL_d958aae2e5734e4dbf03c15f4c8fa21a",
       "value": " 1/1 [00:00&lt;00:00,  1.98it/s]"
      }
     },
     "f70cebd7fbe54e31baf26377a52c6006": {
      "model_module": "@jupyter-widgets/controls",
      "model_module_version": "2.0.0",
      "model_name": "HTMLModel",
      "state": {
       "layout": "IPY_MODEL_1dfbec9a050d4883bd40cafd12b74c49",
       "style": "IPY_MODEL_ce2ea11e674a46439a0c43fa9cbc69ab",
       "value": "Loading Raw Data: 100%"
      }
     },
     "f75d36a68664473985a74a2641d7820d": {
      "model_module": "@jupyter-widgets/controls",
      "model_module_version": "2.0.0",
      "model_name": "HTMLStyleModel",
      "state": {
       "description_width": "",
       "font_size": null,
       "text_color": null
      }
     },
     "f7fe7dafeb3449e9bca1bfed9d2b2cea": {
      "model_module": "@jupyter-widgets/controls",
      "model_module_version": "2.0.0",
      "model_name": "ProgressStyleModel",
      "state": {
       "description_width": ""
      }
     },
     "f8f4cf94198545e0b30405ece26bda8d": {
      "model_module": "@jupyter-widgets/controls",
      "model_module_version": "2.0.0",
      "model_name": "HTMLStyleModel",
      "state": {
       "description_width": "",
       "font_size": null,
       "text_color": null
      }
     },
     "fa1c71392e414f04b910122d1b4c3d7c": {
      "model_module": "@jupyter-widgets/base",
      "model_module_version": "2.0.0",
      "model_name": "LayoutModel",
      "state": {}
     },
     "fc137271b791410389b307aebfab69e2": {
      "model_module": "@jupyter-widgets/base",
      "model_module_version": "2.0.0",
      "model_name": "LayoutModel",
      "state": {}
     },
     "fceea81efd434c89bb3fdfd96390e7cb": {
      "model_module": "@jupyter-widgets/controls",
      "model_module_version": "2.0.0",
      "model_name": "HTMLStyleModel",
      "state": {
       "description_width": "",
       "font_size": null,
       "text_color": null
      }
     },
     "fd92be53a68345eba81709fce6de8e59": {
      "model_module": "@jupyter-widgets/controls",
      "model_module_version": "2.0.0",
      "model_name": "HTMLModel",
      "state": {
       "layout": "IPY_MODEL_c5b253b7a7fb471ab97e8003a9b8c19d",
       "style": "IPY_MODEL_971ce159d4e74b35bd958bfbf3fc553c",
       "value": "100%"
      }
     },
     "fdb699996c6e40f69d30822030025091": {
      "model_module": "@jupyter-widgets/base",
      "model_module_version": "2.0.0",
      "model_name": "LayoutModel",
      "state": {}
     },
     "fde7e90dab0541bbb18d0b4fd44cbc9e": {
      "model_module": "@jupyter-widgets/controls",
      "model_module_version": "2.0.0",
      "model_name": "HTMLModel",
      "state": {
       "layout": "IPY_MODEL_d6b0cb18d72c46799a055ff16de04e1d",
       "style": "IPY_MODEL_3f6b774fd0a24250a2b7cea994851d9c",
       "value": " 84258/84258 [00:02&lt;00:00, 50343.78it/s]"
      }
     },
     "fe1d50ec05dc4988a173491993ccc6e0": {
      "model_module": "@jupyter-widgets/base",
      "model_module_version": "2.0.0",
      "model_name": "LayoutModel",
      "state": {
       "flex": "2"
      }
     },
     "feef388934214d01b3f7fd9cf5da16cd": {
      "model_module": "@jupyter-widgets/controls",
      "model_module_version": "2.0.0",
      "model_name": "HTMLStyleModel",
      "state": {
       "description_width": "",
       "font_size": null,
       "text_color": null
      }
     },
     "ff6bb6130aa748bd8a7eb926c2e5d426": {
      "model_module": "@jupyter-widgets/base",
      "model_module_version": "2.0.0",
      "model_name": "LayoutModel",
      "state": {}
     },
     "ff7a7bce7067474e918149b9867e4820": {
      "model_module": "@jupyter-widgets/controls",
      "model_module_version": "2.0.0",
      "model_name": "HTMLStyleModel",
      "state": {
       "description_width": "",
       "font_size": null,
       "text_color": null
      }
     }
    },
    "version_major": 2,
    "version_minor": 0
   }
  }
 },
 "nbformat": 4,
 "nbformat_minor": 5
}
